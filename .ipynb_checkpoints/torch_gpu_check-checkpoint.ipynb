{
 "cells": [
  {
   "cell_type": "code",
   "execution_count": 6,
   "id": "8879333f-fa5a-4f42-80d8-dfe601a62633",
   "metadata": {},
   "outputs": [
    {
     "data": {
      "text/plain": [
       "True"
      ]
     },
     "execution_count": 6,
     "metadata": {},
     "output_type": "execute_result"
    }
   ],
   "source": [
    "import torch\n",
    "torch.cuda.is_available()"
   ]
  },
  {
   "cell_type": "code",
   "execution_count": 7,
   "id": "9d5aecd9-7afa-4ed0-8693-c64d1a0de875",
   "metadata": {
    "scrolled": true
   },
   "outputs": [
    {
     "name": "stdout",
     "output_type": "stream",
     "text": [
      "tensor([[0.4092, 0.7931, 0.3263],\n",
      "        [0.2335, 0.2092, 0.7894],\n",
      "        [0.5755, 0.2238, 0.1897],\n",
      "        [0.3356, 0.8665, 0.3871],\n",
      "        [0.5344, 0.6143, 0.5981]])\n"
     ]
    }
   ],
   "source": [
    "import torch\n",
    "x = torch.rand(5, 3)\n",
    "print(x)\n"
   ]
  },
  {
   "cell_type": "code",
   "execution_count": 5,
   "id": "af801d2d-69d9-4f46-84d6-8670ee9dd940",
   "metadata": {},
   "outputs": [
    {
     "name": "stderr",
     "output_type": "stream",
     "text": [
      "Traceback (most recent call last):\n",
      "  File \"C:\\Users\\KM_AI_90\\anaconda3\\envs\\berry_detection\\lib\\runpy.py\", line 196, in _run_module_as_main\n",
      "    return _run_code(code, main_globals, None,\n",
      "  File \"C:\\Users\\KM_AI_90\\anaconda3\\envs\\berry_detection\\lib\\runpy.py\", line 86, in _run_code\n",
      "    exec(code, run_globals)\n",
      "  File \"C:\\Users\\KM_AI_90\\anaconda3\\envs\\berry_detection\\Scripts\\jupyter-contrib.EXE\\__main__.py\", line 7, in <module>\n",
      "  File \"C:\\Users\\KM_AI_90\\anaconda3\\envs\\berry_detection\\lib\\site-packages\\jupyter_core\\application.py\", line 280, in launch_instance\n",
      "    super().launch_instance(argv=argv, **kwargs)\n",
      "  File \"C:\\Users\\KM_AI_90\\anaconda3\\envs\\berry_detection\\lib\\site-packages\\traitlets\\config\\application.py\", line 990, in launch_instance\n",
      "    app = cls.instance(**kwargs)\n",
      "  File \"C:\\Users\\KM_AI_90\\anaconda3\\envs\\berry_detection\\lib\\site-packages\\traitlets\\config\\configurable.py\", line 552, in instance\n",
      "    inst = cls(*args, **kwargs)\n",
      "  File \"C:\\Users\\KM_AI_90\\anaconda3\\envs\\berry_detection\\lib\\site-packages\\jupyter_contrib_core\\application.py\", line 27, in __init__\n",
      "    self._refresh_subcommands()\n",
      "  File \"C:\\Users\\KM_AI_90\\anaconda3\\envs\\berry_detection\\lib\\site-packages\\jupyter_contrib_core\\application.py\", line 43, in _refresh_subcommands\n",
      "    get_subcommands_dict = entrypoint.load()\n",
      "  File \"C:\\Users\\KM_AI_90\\anaconda3\\envs\\berry_detection\\lib\\site-packages\\pkg_resources\\__init__.py\", line 2518, in load\n",
      "    return self.resolve()\n",
      "  File \"C:\\Users\\KM_AI_90\\anaconda3\\envs\\berry_detection\\lib\\site-packages\\pkg_resources\\__init__.py\", line 2524, in resolve\n",
      "    module = __import__(self.module_name, fromlist=['__name__'], level=0)\n",
      "  File \"C:\\Users\\KM_AI_90\\anaconda3\\envs\\berry_detection\\lib\\site-packages\\jupyter_contrib_nbextensions\\__init__.py\", line 5, in <module>\n",
      "    import jupyter_nbextensions_configurator\n",
      "  File \"C:\\Users\\KM_AI_90\\anaconda3\\envs\\berry_detection\\lib\\site-packages\\jupyter_nbextensions_configurator\\__init__.py\", line 18, in <module>\n",
      "    from notebook.base.handlers import APIHandler, IPythonHandler\n",
      "ModuleNotFoundError: No module named 'notebook.base'\n"
     ]
    }
   ],
   "source": [
    "!jupyter contrib nbextension install --user"
   ]
  },
  {
   "cell_type": "code",
   "execution_count": 6,
   "id": "c449844f-d052-4ac1-b2c6-a85bb3daad6b",
   "metadata": {},
   "outputs": [
    {
     "name": "stdout",
     "output_type": "stream",
     "text": [
      "Requirement already satisfied: pip in c:\\users\\km_ai_90\\anaconda3\\envs\\berry_detection\\lib\\site-packages (23.3.1)\n",
      "Collecting pip\n",
      "  Downloading pip-24.0-py3-none-any.whl.metadata (3.6 kB)\n",
      "Downloading pip-24.0-py3-none-any.whl (2.1 MB)\n",
      "   ---------------------------------------- 0.0/2.1 MB ? eta -:--:--\n",
      "   --- ------------------------------------ 0.2/2.1 MB 5.3 MB/s eta 0:00:01\n",
      "   ----------- ---------------------------- 0.6/2.1 MB 7.9 MB/s eta 0:00:01\n",
      "   -------------------- ------------------- 1.1/2.1 MB 8.8 MB/s eta 0:00:01\n",
      "   ------------------------------ --------- 1.6/2.1 MB 8.5 MB/s eta 0:00:01\n",
      "   ---------------------------------------  2.1/2.1 MB 8.8 MB/s eta 0:00:01\n",
      "   ---------------------------------------- 2.1/2.1 MB 8.4 MB/s eta 0:00:00\n",
      "Installing collected packages: pip\n",
      "  Attempting uninstall: pip\n",
      "    Found existing installation: pip 23.3.1\n",
      "    Uninstalling pip-23.3.1:\n",
      "      Successfully uninstalled pip-23.3.1\n",
      "Successfully installed pip-24.0\n"
     ]
    }
   ],
   "source": [
    "!python -m pip install --upgrade pip"
   ]
  },
  {
   "cell_type": "code",
   "execution_count": 7,
   "id": "f85d2015-2b40-49d3-806a-8899e30b08a9",
   "metadata": {},
   "outputs": [
    {
     "name": "stdout",
     "output_type": "stream",
     "text": [
      "Requirement already satisfied: notebook in c:\\users\\km_ai_90\\anaconda3\\envs\\berry_detection\\lib\\site-packages (7.0.8)\n",
      "Collecting notebook\n",
      "  Downloading notebook-7.1.1-py3-none-any.whl.metadata (10 kB)\n",
      "Requirement already satisfied: jupyter_contrib_nbextensions in c:\\users\\km_ai_90\\anaconda3\\envs\\berry_detection\\lib\\site-packages (0.7.0)\n",
      "Requirement already satisfied: jupyter-server<3,>=2.4.0 in c:\\users\\km_ai_90\\anaconda3\\envs\\berry_detection\\lib\\site-packages (from notebook) (2.10.0)\n",
      "Requirement already satisfied: jupyterlab-server<3,>=2.22.1 in c:\\users\\km_ai_90\\anaconda3\\envs\\berry_detection\\lib\\site-packages (from notebook) (2.25.1)\n",
      "Collecting jupyterlab<4.2,>=4.1.1 (from notebook)\n",
      "  Downloading jupyterlab-4.1.2-py3-none-any.whl.metadata (15 kB)\n",
      "Requirement already satisfied: notebook-shim<0.3,>=0.2 in c:\\users\\km_ai_90\\anaconda3\\envs\\berry_detection\\lib\\site-packages (from notebook) (0.2.3)\n",
      "Requirement already satisfied: tornado>=6.2.0 in c:\\users\\km_ai_90\\anaconda3\\envs\\berry_detection\\lib\\site-packages (from notebook) (6.3.3)\n",
      "Requirement already satisfied: ipython-genutils in c:\\users\\km_ai_90\\anaconda3\\envs\\berry_detection\\lib\\site-packages (from jupyter_contrib_nbextensions) (0.2.0)\n",
      "Requirement already satisfied: jupyter-contrib-core>=0.3.3 in c:\\users\\km_ai_90\\anaconda3\\envs\\berry_detection\\lib\\site-packages (from jupyter_contrib_nbextensions) (0.4.2)\n",
      "Requirement already satisfied: jupyter-core in c:\\users\\km_ai_90\\anaconda3\\envs\\berry_detection\\lib\\site-packages (from jupyter_contrib_nbextensions) (5.5.0)\n",
      "Requirement already satisfied: jupyter-highlight-selected-word>=0.1.1 in c:\\users\\km_ai_90\\anaconda3\\envs\\berry_detection\\lib\\site-packages (from jupyter_contrib_nbextensions) (0.2.0)\n",
      "Requirement already satisfied: jupyter-nbextensions-configurator>=0.4.0 in c:\\users\\km_ai_90\\anaconda3\\envs\\berry_detection\\lib\\site-packages (from jupyter_contrib_nbextensions) (0.6.3)\n",
      "Requirement already satisfied: nbconvert>=6.0 in c:\\users\\km_ai_90\\anaconda3\\envs\\berry_detection\\lib\\site-packages (from jupyter_contrib_nbextensions) (7.10.0)\n",
      "Requirement already satisfied: traitlets>=4.1 in c:\\users\\km_ai_90\\anaconda3\\envs\\berry_detection\\lib\\site-packages (from jupyter_contrib_nbextensions) (5.7.1)\n",
      "Requirement already satisfied: lxml in c:\\users\\km_ai_90\\anaconda3\\envs\\berry_detection\\lib\\site-packages (from jupyter_contrib_nbextensions) (5.1.0)\n",
      "Requirement already satisfied: setuptools in c:\\users\\km_ai_90\\anaconda3\\envs\\berry_detection\\lib\\site-packages (from jupyter-contrib-core>=0.3.3->jupyter_contrib_nbextensions) (68.2.2)\n",
      "Requirement already satisfied: pyyaml in c:\\users\\km_ai_90\\anaconda3\\envs\\berry_detection\\lib\\site-packages (from jupyter-nbextensions-configurator>=0.4.0->jupyter_contrib_nbextensions) (6.0.1)\n",
      "Requirement already satisfied: anyio>=3.1.0 in c:\\users\\km_ai_90\\anaconda3\\envs\\berry_detection\\lib\\site-packages (from jupyter-server<3,>=2.4.0->notebook) (4.2.0)\n",
      "Requirement already satisfied: argon2-cffi in c:\\users\\km_ai_90\\anaconda3\\envs\\berry_detection\\lib\\site-packages (from jupyter-server<3,>=2.4.0->notebook) (21.3.0)\n",
      "Requirement already satisfied: jinja2 in c:\\users\\km_ai_90\\anaconda3\\envs\\berry_detection\\lib\\site-packages (from jupyter-server<3,>=2.4.0->notebook) (3.1.3)\n",
      "Requirement already satisfied: jupyter-client>=7.4.4 in c:\\users\\km_ai_90\\anaconda3\\envs\\berry_detection\\lib\\site-packages (from jupyter-server<3,>=2.4.0->notebook) (8.6.0)\n",
      "Requirement already satisfied: jupyter-events>=0.6.0 in c:\\users\\km_ai_90\\anaconda3\\envs\\berry_detection\\lib\\site-packages (from jupyter-server<3,>=2.4.0->notebook) (0.8.0)\n",
      "Requirement already satisfied: jupyter-server-terminals in c:\\users\\km_ai_90\\anaconda3\\envs\\berry_detection\\lib\\site-packages (from jupyter-server<3,>=2.4.0->notebook) (0.4.4)\n",
      "Requirement already satisfied: nbformat>=5.3.0 in c:\\users\\km_ai_90\\anaconda3\\envs\\berry_detection\\lib\\site-packages (from jupyter-server<3,>=2.4.0->notebook) (5.9.2)\n",
      "Requirement already satisfied: overrides in c:\\users\\km_ai_90\\anaconda3\\envs\\berry_detection\\lib\\site-packages (from jupyter-server<3,>=2.4.0->notebook) (7.4.0)\n",
      "Requirement already satisfied: packaging in c:\\users\\km_ai_90\\anaconda3\\envs\\berry_detection\\lib\\site-packages (from jupyter-server<3,>=2.4.0->notebook) (23.1)\n",
      "Requirement already satisfied: prometheus-client in c:\\users\\km_ai_90\\anaconda3\\envs\\berry_detection\\lib\\site-packages (from jupyter-server<3,>=2.4.0->notebook) (0.14.1)\n",
      "Requirement already satisfied: pywinpty in c:\\users\\km_ai_90\\anaconda3\\envs\\berry_detection\\lib\\site-packages (from jupyter-server<3,>=2.4.0->notebook) (2.0.10)\n",
      "Requirement already satisfied: pyzmq>=24 in c:\\users\\km_ai_90\\anaconda3\\envs\\berry_detection\\lib\\site-packages (from jupyter-server<3,>=2.4.0->notebook) (25.1.2)\n",
      "Requirement already satisfied: send2trash>=1.8.2 in c:\\users\\km_ai_90\\anaconda3\\envs\\berry_detection\\lib\\site-packages (from jupyter-server<3,>=2.4.0->notebook) (1.8.2)\n",
      "Requirement already satisfied: terminado>=0.8.3 in c:\\users\\km_ai_90\\anaconda3\\envs\\berry_detection\\lib\\site-packages (from jupyter-server<3,>=2.4.0->notebook) (0.17.1)\n",
      "Requirement already satisfied: websocket-client in c:\\users\\km_ai_90\\anaconda3\\envs\\berry_detection\\lib\\site-packages (from jupyter-server<3,>=2.4.0->notebook) (0.58.0)\n",
      "Requirement already satisfied: platformdirs>=2.5 in c:\\users\\km_ai_90\\anaconda3\\envs\\berry_detection\\lib\\site-packages (from jupyter-core->jupyter_contrib_nbextensions) (3.10.0)\n",
      "Requirement already satisfied: pywin32>=300 in c:\\users\\km_ai_90\\anaconda3\\envs\\berry_detection\\lib\\site-packages (from jupyter-core->jupyter_contrib_nbextensions) (305.1)\n",
      "Requirement already satisfied: async-lru>=1.0.0 in c:\\users\\km_ai_90\\anaconda3\\envs\\berry_detection\\lib\\site-packages (from jupyterlab<4.2,>=4.1.1->notebook) (2.0.4)\n",
      "Collecting httpx>=0.25.0 (from jupyterlab<4.2,>=4.1.1->notebook)\n",
      "  Downloading httpx-0.27.0-py3-none-any.whl.metadata (7.2 kB)\n",
      "Requirement already satisfied: ipykernel in c:\\users\\km_ai_90\\anaconda3\\envs\\berry_detection\\lib\\site-packages (from jupyterlab<4.2,>=4.1.1->notebook) (6.28.0)\n",
      "Requirement already satisfied: jupyter-lsp>=2.0.0 in c:\\users\\km_ai_90\\anaconda3\\envs\\berry_detection\\lib\\site-packages (from jupyterlab<4.2,>=4.1.1->notebook) (2.2.0)\n",
      "Requirement already satisfied: tomli in c:\\users\\km_ai_90\\anaconda3\\envs\\berry_detection\\lib\\site-packages (from jupyterlab<4.2,>=4.1.1->notebook) (2.0.1)\n",
      "Requirement already satisfied: babel>=2.10 in c:\\users\\km_ai_90\\anaconda3\\envs\\berry_detection\\lib\\site-packages (from jupyterlab-server<3,>=2.22.1->notebook) (2.11.0)\n",
      "Requirement already satisfied: json5>=0.9.0 in c:\\users\\km_ai_90\\anaconda3\\envs\\berry_detection\\lib\\site-packages (from jupyterlab-server<3,>=2.22.1->notebook) (0.9.6)\n",
      "Requirement already satisfied: jsonschema>=4.18.0 in c:\\users\\km_ai_90\\anaconda3\\envs\\berry_detection\\lib\\site-packages (from jupyterlab-server<3,>=2.22.1->notebook) (4.19.2)\n",
      "Requirement already satisfied: requests>=2.31 in c:\\users\\km_ai_90\\anaconda3\\envs\\berry_detection\\lib\\site-packages (from jupyterlab-server<3,>=2.22.1->notebook) (2.31.0)\n",
      "Requirement already satisfied: beautifulsoup4 in c:\\users\\km_ai_90\\anaconda3\\envs\\berry_detection\\lib\\site-packages (from nbconvert>=6.0->jupyter_contrib_nbextensions) (4.12.2)\n",
      "Requirement already satisfied: bleach!=5.0.0 in c:\\users\\km_ai_90\\anaconda3\\envs\\berry_detection\\lib\\site-packages (from nbconvert>=6.0->jupyter_contrib_nbextensions) (4.1.0)\n",
      "Requirement already satisfied: defusedxml in c:\\users\\km_ai_90\\anaconda3\\envs\\berry_detection\\lib\\site-packages (from nbconvert>=6.0->jupyter_contrib_nbextensions) (0.7.1)\n",
      "Requirement already satisfied: jupyterlab-pygments in c:\\users\\km_ai_90\\anaconda3\\envs\\berry_detection\\lib\\site-packages (from nbconvert>=6.0->jupyter_contrib_nbextensions) (0.1.2)\n",
      "Requirement already satisfied: markupsafe>=2.0 in c:\\users\\km_ai_90\\anaconda3\\envs\\berry_detection\\lib\\site-packages (from nbconvert>=6.0->jupyter_contrib_nbextensions) (2.1.3)\n",
      "Requirement already satisfied: mistune<4,>=2.0.3 in c:\\users\\km_ai_90\\anaconda3\\envs\\berry_detection\\lib\\site-packages (from nbconvert>=6.0->jupyter_contrib_nbextensions) (2.0.4)\n",
      "Requirement already satisfied: nbclient>=0.5.0 in c:\\users\\km_ai_90\\anaconda3\\envs\\berry_detection\\lib\\site-packages (from nbconvert>=6.0->jupyter_contrib_nbextensions) (0.8.0)\n",
      "Requirement already satisfied: pandocfilters>=1.4.1 in c:\\users\\km_ai_90\\anaconda3\\envs\\berry_detection\\lib\\site-packages (from nbconvert>=6.0->jupyter_contrib_nbextensions) (1.5.0)\n",
      "Requirement already satisfied: pygments>=2.4.1 in c:\\users\\km_ai_90\\anaconda3\\envs\\berry_detection\\lib\\site-packages (from nbconvert>=6.0->jupyter_contrib_nbextensions) (2.15.1)\n",
      "Requirement already satisfied: tinycss2 in c:\\users\\km_ai_90\\anaconda3\\envs\\berry_detection\\lib\\site-packages (from nbconvert>=6.0->jupyter_contrib_nbextensions) (1.2.1)\n",
      "Requirement already satisfied: idna>=2.8 in c:\\users\\km_ai_90\\anaconda3\\envs\\berry_detection\\lib\\site-packages (from anyio>=3.1.0->jupyter-server<3,>=2.4.0->notebook) (3.4)\n",
      "Requirement already satisfied: sniffio>=1.1 in c:\\users\\km_ai_90\\anaconda3\\envs\\berry_detection\\lib\\site-packages (from anyio>=3.1.0->jupyter-server<3,>=2.4.0->notebook) (1.3.0)\n",
      "Requirement already satisfied: exceptiongroup>=1.0.2 in c:\\users\\km_ai_90\\anaconda3\\envs\\berry_detection\\lib\\site-packages (from anyio>=3.1.0->jupyter-server<3,>=2.4.0->notebook) (1.2.0)\n",
      "Requirement already satisfied: typing-extensions>=4.1 in c:\\users\\km_ai_90\\anaconda3\\envs\\berry_detection\\lib\\site-packages (from anyio>=3.1.0->jupyter-server<3,>=2.4.0->notebook) (4.9.0)\n",
      "Requirement already satisfied: pytz>=2015.7 in c:\\users\\km_ai_90\\anaconda3\\envs\\berry_detection\\lib\\site-packages (from babel>=2.10->jupyterlab-server<3,>=2.22.1->notebook) (2023.3.post1)\n",
      "Requirement already satisfied: six>=1.9.0 in c:\\users\\km_ai_90\\anaconda3\\envs\\berry_detection\\lib\\site-packages (from bleach!=5.0.0->nbconvert>=6.0->jupyter_contrib_nbextensions) (1.16.0)\n",
      "Requirement already satisfied: webencodings in c:\\users\\km_ai_90\\anaconda3\\envs\\berry_detection\\lib\\site-packages (from bleach!=5.0.0->nbconvert>=6.0->jupyter_contrib_nbextensions) (0.5.1)\n",
      "Requirement already satisfied: certifi in c:\\users\\km_ai_90\\anaconda3\\envs\\berry_detection\\lib\\site-packages (from httpx>=0.25.0->jupyterlab<4.2,>=4.1.1->notebook) (2024.2.2)\n",
      "Collecting httpcore==1.* (from httpx>=0.25.0->jupyterlab<4.2,>=4.1.1->notebook)\n",
      "  Downloading httpcore-1.0.4-py3-none-any.whl.metadata (20 kB)\n",
      "Collecting h11<0.15,>=0.13 (from httpcore==1.*->httpx>=0.25.0->jupyterlab<4.2,>=4.1.1->notebook)\n",
      "  Downloading h11-0.14.0-py3-none-any.whl.metadata (8.2 kB)\n",
      "Requirement already satisfied: attrs>=22.2.0 in c:\\users\\km_ai_90\\anaconda3\\envs\\berry_detection\\lib\\site-packages (from jsonschema>=4.18.0->jupyterlab-server<3,>=2.22.1->notebook) (23.1.0)\n",
      "Requirement already satisfied: jsonschema-specifications>=2023.03.6 in c:\\users\\km_ai_90\\anaconda3\\envs\\berry_detection\\lib\\site-packages (from jsonschema>=4.18.0->jupyterlab-server<3,>=2.22.1->notebook) (2023.7.1)\n",
      "Requirement already satisfied: referencing>=0.28.4 in c:\\users\\km_ai_90\\anaconda3\\envs\\berry_detection\\lib\\site-packages (from jsonschema>=4.18.0->jupyterlab-server<3,>=2.22.1->notebook) (0.30.2)\n",
      "Requirement already satisfied: rpds-py>=0.7.1 in c:\\users\\km_ai_90\\anaconda3\\envs\\berry_detection\\lib\\site-packages (from jsonschema>=4.18.0->jupyterlab-server<3,>=2.22.1->notebook) (0.10.6)\n",
      "Requirement already satisfied: python-dateutil>=2.8.2 in c:\\users\\km_ai_90\\anaconda3\\envs\\berry_detection\\lib\\site-packages (from jupyter-client>=7.4.4->jupyter-server<3,>=2.4.0->notebook) (2.8.2)\n",
      "Requirement already satisfied: python-json-logger>=2.0.4 in c:\\users\\km_ai_90\\anaconda3\\envs\\berry_detection\\lib\\site-packages (from jupyter-events>=0.6.0->jupyter-server<3,>=2.4.0->notebook) (2.0.7)\n",
      "Requirement already satisfied: rfc3339-validator in c:\\users\\km_ai_90\\anaconda3\\envs\\berry_detection\\lib\\site-packages (from jupyter-events>=0.6.0->jupyter-server<3,>=2.4.0->notebook) (0.1.4)\n",
      "Requirement already satisfied: rfc3986-validator>=0.1.1 in c:\\users\\km_ai_90\\anaconda3\\envs\\berry_detection\\lib\\site-packages (from jupyter-events>=0.6.0->jupyter-server<3,>=2.4.0->notebook) (0.1.1)\n",
      "Requirement already satisfied: fastjsonschema in c:\\users\\km_ai_90\\anaconda3\\envs\\berry_detection\\lib\\site-packages (from nbformat>=5.3.0->jupyter-server<3,>=2.4.0->notebook) (2.16.2)\n",
      "Requirement already satisfied: charset-normalizer<4,>=2 in c:\\users\\km_ai_90\\anaconda3\\envs\\berry_detection\\lib\\site-packages (from requests>=2.31->jupyterlab-server<3,>=2.22.1->notebook) (2.0.4)\n",
      "Requirement already satisfied: urllib3<3,>=1.21.1 in c:\\users\\km_ai_90\\anaconda3\\envs\\berry_detection\\lib\\site-packages (from requests>=2.31->jupyterlab-server<3,>=2.22.1->notebook) (2.1.0)\n",
      "Requirement already satisfied: argon2-cffi-bindings in c:\\users\\km_ai_90\\anaconda3\\envs\\berry_detection\\lib\\site-packages (from argon2-cffi->jupyter-server<3,>=2.4.0->notebook) (21.2.0)\n",
      "Requirement already satisfied: soupsieve>1.2 in c:\\users\\km_ai_90\\anaconda3\\envs\\berry_detection\\lib\\site-packages (from beautifulsoup4->nbconvert>=6.0->jupyter_contrib_nbextensions) (2.5)\n",
      "Requirement already satisfied: comm>=0.1.1 in c:\\users\\km_ai_90\\anaconda3\\envs\\berry_detection\\lib\\site-packages (from ipykernel->jupyterlab<4.2,>=4.1.1->notebook) (0.1.2)\n",
      "Requirement already satisfied: debugpy>=1.6.5 in c:\\users\\km_ai_90\\anaconda3\\envs\\berry_detection\\lib\\site-packages (from ipykernel->jupyterlab<4.2,>=4.1.1->notebook) (1.6.7)\n",
      "Requirement already satisfied: ipython>=7.23.1 in c:\\users\\km_ai_90\\anaconda3\\envs\\berry_detection\\lib\\site-packages (from ipykernel->jupyterlab<4.2,>=4.1.1->notebook) (8.20.0)\n",
      "Requirement already satisfied: matplotlib-inline>=0.1 in c:\\users\\km_ai_90\\anaconda3\\envs\\berry_detection\\lib\\site-packages (from ipykernel->jupyterlab<4.2,>=4.1.1->notebook) (0.1.6)\n",
      "Requirement already satisfied: nest-asyncio in c:\\users\\km_ai_90\\anaconda3\\envs\\berry_detection\\lib\\site-packages (from ipykernel->jupyterlab<4.2,>=4.1.1->notebook) (1.6.0)\n",
      "Requirement already satisfied: psutil in c:\\users\\km_ai_90\\anaconda3\\envs\\berry_detection\\lib\\site-packages (from ipykernel->jupyterlab<4.2,>=4.1.1->notebook) (5.9.0)\n",
      "Requirement already satisfied: decorator in c:\\users\\km_ai_90\\anaconda3\\envs\\berry_detection\\lib\\site-packages (from ipython>=7.23.1->ipykernel->jupyterlab<4.2,>=4.1.1->notebook) (5.1.1)\n",
      "Requirement already satisfied: jedi>=0.16 in c:\\users\\km_ai_90\\anaconda3\\envs\\berry_detection\\lib\\site-packages (from ipython>=7.23.1->ipykernel->jupyterlab<4.2,>=4.1.1->notebook) (0.18.1)\n",
      "Requirement already satisfied: prompt-toolkit<3.1.0,>=3.0.41 in c:\\users\\km_ai_90\\anaconda3\\envs\\berry_detection\\lib\\site-packages (from ipython>=7.23.1->ipykernel->jupyterlab<4.2,>=4.1.1->notebook) (3.0.43)\n",
      "Requirement already satisfied: stack-data in c:\\users\\km_ai_90\\anaconda3\\envs\\berry_detection\\lib\\site-packages (from ipython>=7.23.1->ipykernel->jupyterlab<4.2,>=4.1.1->notebook) (0.2.0)\n",
      "Requirement already satisfied: colorama in c:\\users\\km_ai_90\\anaconda3\\envs\\berry_detection\\lib\\site-packages (from ipython>=7.23.1->ipykernel->jupyterlab<4.2,>=4.1.1->notebook) (0.4.6)\n",
      "Requirement already satisfied: fqdn in c:\\users\\km_ai_90\\anaconda3\\envs\\berry_detection\\lib\\site-packages (from jsonschema[format-nongpl]>=4.18.0->jupyter-events>=0.6.0->jupyter-server<3,>=2.4.0->notebook) (1.5.1)\n",
      "Requirement already satisfied: isoduration in c:\\users\\km_ai_90\\anaconda3\\envs\\berry_detection\\lib\\site-packages (from jsonschema[format-nongpl]>=4.18.0->jupyter-events>=0.6.0->jupyter-server<3,>=2.4.0->notebook) (20.11.0)\n",
      "Requirement already satisfied: jsonpointer>1.13 in c:\\users\\km_ai_90\\anaconda3\\envs\\berry_detection\\lib\\site-packages (from jsonschema[format-nongpl]>=4.18.0->jupyter-events>=0.6.0->jupyter-server<3,>=2.4.0->notebook) (2.4)\n",
      "Requirement already satisfied: uri-template in c:\\users\\km_ai_90\\anaconda3\\envs\\berry_detection\\lib\\site-packages (from jsonschema[format-nongpl]>=4.18.0->jupyter-events>=0.6.0->jupyter-server<3,>=2.4.0->notebook) (1.3.0)\n",
      "Requirement already satisfied: webcolors>=1.11 in c:\\users\\km_ai_90\\anaconda3\\envs\\berry_detection\\lib\\site-packages (from jsonschema[format-nongpl]>=4.18.0->jupyter-events>=0.6.0->jupyter-server<3,>=2.4.0->notebook) (1.13)\n",
      "Requirement already satisfied: cffi>=1.0.1 in c:\\users\\km_ai_90\\anaconda3\\envs\\berry_detection\\lib\\site-packages (from argon2-cffi-bindings->argon2-cffi->jupyter-server<3,>=2.4.0->notebook) (1.16.0)\n",
      "Requirement already satisfied: pycparser in c:\\users\\km_ai_90\\anaconda3\\envs\\berry_detection\\lib\\site-packages (from cffi>=1.0.1->argon2-cffi-bindings->argon2-cffi->jupyter-server<3,>=2.4.0->notebook) (2.21)\n",
      "Requirement already satisfied: parso<0.9.0,>=0.8.0 in c:\\users\\km_ai_90\\anaconda3\\envs\\berry_detection\\lib\\site-packages (from jedi>=0.16->ipython>=7.23.1->ipykernel->jupyterlab<4.2,>=4.1.1->notebook) (0.8.3)\n",
      "Requirement already satisfied: wcwidth in c:\\users\\km_ai_90\\anaconda3\\envs\\berry_detection\\lib\\site-packages (from prompt-toolkit<3.1.0,>=3.0.41->ipython>=7.23.1->ipykernel->jupyterlab<4.2,>=4.1.1->notebook) (0.2.5)\n",
      "Requirement already satisfied: arrow>=0.15.0 in c:\\users\\km_ai_90\\anaconda3\\envs\\berry_detection\\lib\\site-packages (from isoduration->jsonschema[format-nongpl]>=4.18.0->jupyter-events>=0.6.0->jupyter-server<3,>=2.4.0->notebook) (1.3.0)\n",
      "Requirement already satisfied: executing in c:\\users\\km_ai_90\\anaconda3\\envs\\berry_detection\\lib\\site-packages (from stack-data->ipython>=7.23.1->ipykernel->jupyterlab<4.2,>=4.1.1->notebook) (0.8.3)\n",
      "Requirement already satisfied: asttokens in c:\\users\\km_ai_90\\anaconda3\\envs\\berry_detection\\lib\\site-packages (from stack-data->ipython>=7.23.1->ipykernel->jupyterlab<4.2,>=4.1.1->notebook) (2.0.5)\n",
      "Requirement already satisfied: pure-eval in c:\\users\\km_ai_90\\anaconda3\\envs\\berry_detection\\lib\\site-packages (from stack-data->ipython>=7.23.1->ipykernel->jupyterlab<4.2,>=4.1.1->notebook) (0.2.2)\n",
      "Requirement already satisfied: types-python-dateutil>=2.8.10 in c:\\users\\km_ai_90\\anaconda3\\envs\\berry_detection\\lib\\site-packages (from arrow>=0.15.0->isoduration->jsonschema[format-nongpl]>=4.18.0->jupyter-events>=0.6.0->jupyter-server<3,>=2.4.0->notebook) (2.8.19.20240106)\n",
      "Downloading notebook-7.1.1-py3-none-any.whl (5.0 MB)\n",
      "   ---------------------------------------- 0.0/5.0 MB ? eta -:--:--\n",
      "   --- ------------------------------------ 0.5/5.0 MB 13.8 MB/s eta 0:00:01\n",
      "   ------- -------------------------------- 0.9/5.0 MB 11.3 MB/s eta 0:00:01\n",
      "   ---------- ----------------------------- 1.4/5.0 MB 10.8 MB/s eta 0:00:01\n",
      "   -------------- ------------------------- 1.8/5.0 MB 10.6 MB/s eta 0:00:01\n",
      "   ------------------ --------------------- 2.3/5.0 MB 10.5 MB/s eta 0:00:01\n",
      "   ---------------------- ----------------- 2.8/5.0 MB 10.4 MB/s eta 0:00:01\n",
      "   ------------------------- -------------- 3.2/5.0 MB 10.3 MB/s eta 0:00:01\n",
      "   ----------------------------- ---------- 3.7/5.0 MB 10.2 MB/s eta 0:00:01\n",
      "   -------------------------------- ------- 4.0/5.0 MB 9.9 MB/s eta 0:00:01\n",
      "   ------------------------------------ --- 4.5/5.0 MB 9.7 MB/s eta 0:00:01\n",
      "   ---------------------------------------  5.0/5.0 MB 10.0 MB/s eta 0:00:01\n",
      "   ---------------------------------------- 5.0/5.0 MB 9.6 MB/s eta 0:00:00\n",
      "Downloading jupyterlab-4.1.2-py3-none-any.whl (11.4 MB)\n",
      "   ---------------------------------------- 0.0/11.4 MB ? eta -:--:--\n",
      "   - -------------------------------------- 0.4/11.4 MB 12.9 MB/s eta 0:00:01\n",
      "   -- ------------------------------------- 0.8/11.4 MB 10.4 MB/s eta 0:00:02\n",
      "   ---- ----------------------------------- 1.3/11.4 MB 10.4 MB/s eta 0:00:01\n",
      "   ------ --------------------------------- 1.8/11.4 MB 11.3 MB/s eta 0:00:01\n",
      "   ------- -------------------------------- 2.2/11.4 MB 10.9 MB/s eta 0:00:01\n",
      "   --------- ------------------------------ 2.7/11.4 MB 10.8 MB/s eta 0:00:01\n",
      "   ----------- ---------------------------- 3.2/11.4 MB 10.7 MB/s eta 0:00:01\n",
      "   ------------ --------------------------- 3.6/11.4 MB 10.5 MB/s eta 0:00:01\n",
      "   -------------- ------------------------- 4.1/11.4 MB 10.5 MB/s eta 0:00:01\n",
      "   --------------- ------------------------ 4.4/11.4 MB 10.1 MB/s eta 0:00:01\n",
      "   ----------------- ---------------------- 4.9/11.4 MB 10.2 MB/s eta 0:00:01\n",
      "   ------------------- -------------------- 5.4/11.4 MB 10.2 MB/s eta 0:00:01\n",
      "   -------------------- ------------------- 5.9/11.4 MB 10.2 MB/s eta 0:00:01\n",
      "   --------------------- ------------------ 6.3/11.4 MB 10.0 MB/s eta 0:00:01\n",
      "   ----------------------- ---------------- 6.7/11.4 MB 10.0 MB/s eta 0:00:01\n",
      "   ------------------------- -------------- 7.2/11.4 MB 10.0 MB/s eta 0:00:01\n",
      "   -------------------------- ------------- 7.7/11.4 MB 10.0 MB/s eta 0:00:01\n",
      "   ---------------------------- ----------- 8.1/11.4 MB 10.0 MB/s eta 0:00:01\n",
      "   ------------------------------ --------- 8.6/11.4 MB 10.0 MB/s eta 0:00:01\n",
      "   ------------------------------- -------- 9.1/11.4 MB 10.0 MB/s eta 0:00:01\n",
      "   --------------------------------- ------ 9.5/11.4 MB 10.0 MB/s eta 0:00:01\n",
      "   ---------------------------------- ----- 10.0/11.4 MB 10.0 MB/s eta 0:00:01\n",
      "   ------------------------------------ --- 10.4/11.4 MB 9.9 MB/s eta 0:00:01\n",
      "   -------------------------------------- - 10.9/11.4 MB 9.9 MB/s eta 0:00:01\n",
      "   ---------------------------------------  11.4/11.4 MB 9.9 MB/s eta 0:00:01\n",
      "   ---------------------------------------- 11.4/11.4 MB 9.8 MB/s eta 0:00:00\n",
      "Downloading httpx-0.27.0-py3-none-any.whl (75 kB)\n",
      "   ---------------------------------------- 0.0/75.6 kB ? eta -:--:--\n",
      "   ---------------------------------------- 75.6/75.6 kB 4.1 MB/s eta 0:00:00\n",
      "Downloading httpcore-1.0.4-py3-none-any.whl (77 kB)\n",
      "   ---------------------------------------- 0.0/77.8 kB ? eta -:--:--\n",
      "   ---------------------------------------- 77.8/77.8 kB 4.2 MB/s eta 0:00:00\n",
      "Downloading h11-0.14.0-py3-none-any.whl (58 kB)\n",
      "   ---------------------------------------- 0.0/58.3 kB ? eta -:--:--\n",
      "   ---------------------------------------- 58.3/58.3 kB 3.2 MB/s eta 0:00:00\n",
      "Installing collected packages: h11, httpcore, httpx, jupyterlab, notebook\n",
      "  Attempting uninstall: jupyterlab\n",
      "    Found existing installation: jupyterlab 4.0.11\n",
      "    Uninstalling jupyterlab-4.0.11:\n",
      "      Successfully uninstalled jupyterlab-4.0.11\n",
      "  Attempting uninstall: notebook\n",
      "    Found existing installation: notebook 7.0.8\n",
      "    Uninstalling notebook-7.0.8:\n",
      "      Successfully uninstalled notebook-7.0.8\n",
      "Successfully installed h11-0.14.0 httpcore-1.0.4 httpx-0.27.0 jupyterlab-4.1.2 notebook-7.1.1\n"
     ]
    }
   ],
   "source": [
    "!pip install --upgrade notebook jupyter_contrib_nbextensions"
   ]
  },
  {
   "cell_type": "code",
   "execution_count": null,
   "id": "cbfadfd4-867d-406b-bb16-85735f7070d6",
   "metadata": {},
   "outputs": [],
   "source": []
  }
 ],
 "metadata": {
  "kernelspec": {
   "display_name": "Python 3 (ipykernel)",
   "language": "python",
   "name": "python3"
  },
  "language_info": {
   "codemirror_mode": {
    "name": "ipython",
    "version": 3
   },
   "file_extension": ".py",
   "mimetype": "text/x-python",
   "name": "python",
   "nbconvert_exporter": "python",
   "pygments_lexer": "ipython3",
   "version": "3.10.11"
  }
 },
 "nbformat": 4,
 "nbformat_minor": 5
}
