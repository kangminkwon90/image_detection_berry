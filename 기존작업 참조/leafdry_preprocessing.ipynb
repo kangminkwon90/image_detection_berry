{
 "cells": [
  {
   "cell_type": "markdown",
   "metadata": {
    "id": "iw254iJ79avL"
   },
   "source": [
    "## 데이터 준비\n",
    "## 원본 데이터 용량이 200GB로 너무 커서 제출용으로는 샘플 파일로 제한함\n",
    "## train_test_split 작업 생략하고, 파일 업로드 전 미리 train, test, validation 데이터 분리"
   ]
  },
  {
   "cell_type": "code",
   "execution_count": null,
   "metadata": {
    "id": "ad6H6sUp9YKB"
   },
   "outputs": [],
   "source": [
    "from google.colab import drive\n",
    "import shutil\n",
    "import zipfile\n",
    "\n",
    "drive.mount('/content/drive')\n",
    "\n",
    "shutil.copy('/content/drive/My Drive/data/leafdry.zip', '/content')\n",
    "\n",
    "zip_file_train_img='/content/leafdry.zip'\n",
    "\n",
    "with zipfile.ZipFile(zip_file_train_img, 'r') as zip_ref:\n",
    "  zip_ref.extractall('/content/leafdry')"
   ]
  },
  {
   "cell_type": "code",
   "execution_count": null,
   "metadata": {
    "id": "qJTJsfhS3ICp"
   },
   "outputs": [],
   "source": [
    "#train data\n",
    "\n",
    "## json file load and mergeing\n",
    "\n",
    "import os\n",
    "import json\n",
    "import pandas as pd\n",
    "import numpy as np\n",
    "\n",
    "\n",
    "folder_path = r'/content/leafdry/train/train_label'\n",
    "df_list = []\n",
    "\n",
    "for filename in os.listdir(folder_path):\n",
    "    if filename.endswith('.json'):\n",
    "        file_path = os.path.join(folder_path, filename)\n",
    "\n",
    "        try:\n",
    "            with open(file_path, 'r', encoding='utf-8') as file:\n",
    "                data = json.load(file)\n",
    "\n",
    "            df_list.append(pd.json_normalize(data))\n",
    "        except json.JSONDecodeError as e:\n",
    "            print(f\"Error decoding JSON in file {filename}: {e}\")\n",
    "\n",
    "if df_list:\n",
    "    merged_df = pd.concat(df_list, ignore_index=True)\n",
    "    print(merged_df)\n",
    "else:\n",
    "    print(\"No valid JSON files found.\")"
   ]
  },
  {
   "cell_type": "code",
   "execution_count": null,
   "metadata": {
    "id": "Gj_6Dz7K4CaG"
   },
   "outputs": [],
   "source": [
    "merged_df.head(2)"
   ]
  },
  {
   "cell_type": "code",
   "execution_count": 4,
   "metadata": {
    "id": "ulin9wUd4HZr"
   },
   "outputs": [],
   "source": [
    "merged_df.to_csv('leafdry_train_label_merged.csv',encoding='utf-8', index=False)"
   ]
  },
  {
   "cell_type": "code",
   "execution_count": 8,
   "metadata": {
    "id": "BwrZ8spDnG-c"
   },
   "outputs": [],
   "source": [
    "## preprocessing merged csv\n",
    "\n",
    "df = pd.read_csv('leafdry_train_label_merged.csv', encoding='utf-8')"
   ]
  },
  {
   "cell_type": "code",
   "execution_count": 9,
   "metadata": {
    "colab": {
     "base_uri": "https://localhost:8080/"
    },
    "id": "wLZBPilH5fNs",
    "outputId": "cc25b643-b564-47cd-eb9e-a50f815756a8"
   },
   "outputs": [
    {
     "name": "stdout",
     "output_type": "stream",
     "text": [
      "14\n"
     ]
    }
   ],
   "source": [
    "# 필요한 정부만 추출\n",
    "  #annotations 컬럼의 레코드 최대 길이 확인 -> 최대 길이 = max bbox갯수 -> max bbox 갯수 기준으로 bbox_, name_, status_ 컬럼 생성\n",
    "\n",
    "df_sel=df[['images.fname','images.disease_class','images.disease_cause_method','annotations','categories']].copy()\n",
    "\n",
    "df_sel['annotations']=df_sel['annotations'].apply(lambda x: json.loads(x.replace(\"'\",\"\\\"\")))\n",
    "df_sel['categories']=df_sel['categories'].apply(lambda x: json.loads(x.replace(\"'\",\"\\\"\")))\n",
    "\n",
    "max_len=df_sel.loc[df_sel['annotations'].str.len().idxmax()]\n",
    "max_len_val=max_len['annotations']\n",
    "data=max_len_val\n",
    "\n",
    "if data and isinstance(data, list):\n",
    "  item=data[-1]\n",
    "  cat_id=item['category_id']\n",
    "  print(cat_id)\n",
    "else:\n",
    "  print('fuck')\n",
    "\n",
    "length=cat_id+1\n",
    "zero_box=[0,0,0,0]\n",
    "unknown_status='F'\n",
    "\n",
    "for i in range(length):\n",
    "  df_sel[f'bbox_{i}'] = None\n",
    "  df_sel[f'status_{i}'] = None\n",
    "  df_sel[f'name_{i}'] = None\n",
    "\n",
    "for idx, row in df_sel.iterrows():\n",
    "  annotation_data=row['annotations']\n",
    "  for k in range(len(annotation_data)):\n",
    "    if k < len(annotation_data):\n",
    "      df_sel.at[idx,f'bbox_{k}']=annotation_data[k]['bbox']\n",
    "      df_sel.at[idx,f'status_{k}']=annotation_data[k]['disease_status']\n",
    "    else:\n",
    "\n",
    "      df_sel.at[idx,f'bbox_{k}']=zero_box\n",
    "      df_sel.at[idx,f'status_{k}']= unknown_status\n",
    "\n",
    "for idx, row in df_sel.iterrows():\n",
    "  name_data=row['categories']\n",
    "  for k in range(len(name_data)):\n",
    "    if k < len(name_data):\n",
    "      df_sel.at[idx,f'name_{k}']=name_data[k]['name']\n",
    "    else:\n",
    "      df_sel.at[idx,f'name_{k}']='unknown'\n",
    "\n",
    "\n",
    "df_sel.drop(columns=['annotations','categories'], axis=1, inplace=True)"
   ]
  },
  {
   "cell_type": "code",
   "execution_count": 10,
   "metadata": {
    "colab": {
     "base_uri": "https://localhost:8080/",
     "height": 266
    },
    "id": "uHMXAs9a59JG",
    "outputId": "b175d2ac-50cc-4398-800c-f64e1c4552ac"
   },
   "outputs": [
    {
     "data": {
      "text/html": [
       "\n",
       "  <div id=\"df-0dcf8b5f-5a1e-461b-8dbb-bbc88166c8d3\" class=\"colab-df-container\">\n",
       "    <div>\n",
       "<style scoped>\n",
       "    .dataframe tbody tr th:only-of-type {\n",
       "        vertical-align: middle;\n",
       "    }\n",
       "\n",
       "    .dataframe tbody tr th {\n",
       "        vertical-align: top;\n",
       "    }\n",
       "\n",
       "    .dataframe thead th {\n",
       "        text-align: right;\n",
       "    }\n",
       "</style>\n",
       "<table border=\"1\" class=\"dataframe\">\n",
       "  <thead>\n",
       "    <tr style=\"text-align: right;\">\n",
       "      <th></th>\n",
       "      <th>images.fname</th>\n",
       "      <th>images.disease_class</th>\n",
       "      <th>images.disease_cause_method</th>\n",
       "      <th>bbox_0</th>\n",
       "      <th>status_0</th>\n",
       "      <th>name_0</th>\n",
       "      <th>bbox_1</th>\n",
       "      <th>status_1</th>\n",
       "      <th>name_1</th>\n",
       "      <th>bbox_2</th>\n",
       "      <th>...</th>\n",
       "      <th>name_11</th>\n",
       "      <th>bbox_12</th>\n",
       "      <th>status_12</th>\n",
       "      <th>name_12</th>\n",
       "      <th>bbox_13</th>\n",
       "      <th>status_13</th>\n",
       "      <th>name_13</th>\n",
       "      <th>bbox_14</th>\n",
       "      <th>status_14</th>\n",
       "      <th>name_14</th>\n",
       "    </tr>\n",
       "  </thead>\n",
       "  <tbody>\n",
       "    <tr>\n",
       "      <th>0</th>\n",
       "      <td>딸기_설향_잎끝마름_88_011_221128101701.jpg</td>\n",
       "      <td>잎끝마름</td>\n",
       "      <td>칼슘부족</td>\n",
       "      <td>[981.56, 759.33, 195.39, 162.18]</td>\n",
       "      <td>N</td>\n",
       "      <td>과실</td>\n",
       "      <td>[1060.33, 729.79, 152.72, 72.5]</td>\n",
       "      <td>Y</td>\n",
       "      <td>과실</td>\n",
       "      <td>[1088.79, 577.77, 105.67, 92.18]</td>\n",
       "      <td>...</td>\n",
       "      <td>화방</td>\n",
       "      <td>None</td>\n",
       "      <td>None</td>\n",
       "      <td>None</td>\n",
       "      <td>None</td>\n",
       "      <td>None</td>\n",
       "      <td>None</td>\n",
       "      <td>None</td>\n",
       "      <td>None</td>\n",
       "      <td>None</td>\n",
       "    </tr>\n",
       "    <tr>\n",
       "      <th>1</th>\n",
       "      <td>딸기_설향_잎끝마름_88_011_221129131701.jpg</td>\n",
       "      <td>잎끝마름</td>\n",
       "      <td>칼슘부족</td>\n",
       "      <td>[219.96, 513.36, 352.22, 111.62]</td>\n",
       "      <td>N</td>\n",
       "      <td>줄기</td>\n",
       "      <td>[121.22, 750.02, 369.81, 258.93]</td>\n",
       "      <td>N</td>\n",
       "      <td>잎</td>\n",
       "      <td>[994.01, 770.45, 196.73, 144.29]</td>\n",
       "      <td>...</td>\n",
       "      <td>None</td>\n",
       "      <td>None</td>\n",
       "      <td>None</td>\n",
       "      <td>None</td>\n",
       "      <td>None</td>\n",
       "      <td>None</td>\n",
       "      <td>None</td>\n",
       "      <td>None</td>\n",
       "      <td>None</td>\n",
       "      <td>None</td>\n",
       "    </tr>\n",
       "  </tbody>\n",
       "</table>\n",
       "<p>2 rows × 48 columns</p>\n",
       "</div>\n",
       "    <div class=\"colab-df-buttons\">\n",
       "\n",
       "  <div class=\"colab-df-container\">\n",
       "    <button class=\"colab-df-convert\" onclick=\"convertToInteractive('df-0dcf8b5f-5a1e-461b-8dbb-bbc88166c8d3')\"\n",
       "            title=\"Convert this dataframe to an interactive table.\"\n",
       "            style=\"display:none;\">\n",
       "\n",
       "  <svg xmlns=\"http://www.w3.org/2000/svg\" height=\"24px\" viewBox=\"0 -960 960 960\">\n",
       "    <path d=\"M120-120v-720h720v720H120Zm60-500h600v-160H180v160Zm220 220h160v-160H400v160Zm0 220h160v-160H400v160ZM180-400h160v-160H180v160Zm440 0h160v-160H620v160ZM180-180h160v-160H180v160Zm440 0h160v-160H620v160Z\"/>\n",
       "  </svg>\n",
       "    </button>\n",
       "\n",
       "  <style>\n",
       "    .colab-df-container {\n",
       "      display:flex;\n",
       "      gap: 12px;\n",
       "    }\n",
       "\n",
       "    .colab-df-convert {\n",
       "      background-color: #E8F0FE;\n",
       "      border: none;\n",
       "      border-radius: 50%;\n",
       "      cursor: pointer;\n",
       "      display: none;\n",
       "      fill: #1967D2;\n",
       "      height: 32px;\n",
       "      padding: 0 0 0 0;\n",
       "      width: 32px;\n",
       "    }\n",
       "\n",
       "    .colab-df-convert:hover {\n",
       "      background-color: #E2EBFA;\n",
       "      box-shadow: 0px 1px 2px rgba(60, 64, 67, 0.3), 0px 1px 3px 1px rgba(60, 64, 67, 0.15);\n",
       "      fill: #174EA6;\n",
       "    }\n",
       "\n",
       "    .colab-df-buttons div {\n",
       "      margin-bottom: 4px;\n",
       "    }\n",
       "\n",
       "    [theme=dark] .colab-df-convert {\n",
       "      background-color: #3B4455;\n",
       "      fill: #D2E3FC;\n",
       "    }\n",
       "\n",
       "    [theme=dark] .colab-df-convert:hover {\n",
       "      background-color: #434B5C;\n",
       "      box-shadow: 0px 1px 3px 1px rgba(0, 0, 0, 0.15);\n",
       "      filter: drop-shadow(0px 1px 2px rgba(0, 0, 0, 0.3));\n",
       "      fill: #FFFFFF;\n",
       "    }\n",
       "  </style>\n",
       "\n",
       "    <script>\n",
       "      const buttonEl =\n",
       "        document.querySelector('#df-0dcf8b5f-5a1e-461b-8dbb-bbc88166c8d3 button.colab-df-convert');\n",
       "      buttonEl.style.display =\n",
       "        google.colab.kernel.accessAllowed ? 'block' : 'none';\n",
       "\n",
       "      async function convertToInteractive(key) {\n",
       "        const element = document.querySelector('#df-0dcf8b5f-5a1e-461b-8dbb-bbc88166c8d3');\n",
       "        const dataTable =\n",
       "          await google.colab.kernel.invokeFunction('convertToInteractive',\n",
       "                                                    [key], {});\n",
       "        if (!dataTable) return;\n",
       "\n",
       "        const docLinkHtml = 'Like what you see? Visit the ' +\n",
       "          '<a target=\"_blank\" href=https://colab.research.google.com/notebooks/data_table.ipynb>data table notebook</a>'\n",
       "          + ' to learn more about interactive tables.';\n",
       "        element.innerHTML = '';\n",
       "        dataTable['output_type'] = 'display_data';\n",
       "        await google.colab.output.renderOutput(dataTable, element);\n",
       "        const docLink = document.createElement('div');\n",
       "        docLink.innerHTML = docLinkHtml;\n",
       "        element.appendChild(docLink);\n",
       "      }\n",
       "    </script>\n",
       "  </div>\n",
       "\n",
       "\n",
       "<div id=\"df-b0b832c1-c0e8-4b08-b85f-1174c7816416\">\n",
       "  <button class=\"colab-df-quickchart\" onclick=\"quickchart('df-b0b832c1-c0e8-4b08-b85f-1174c7816416')\"\n",
       "            title=\"Suggest charts\"\n",
       "            style=\"display:none;\">\n",
       "\n",
       "<svg xmlns=\"http://www.w3.org/2000/svg\" height=\"24px\"viewBox=\"0 0 24 24\"\n",
       "     width=\"24px\">\n",
       "    <g>\n",
       "        <path d=\"M19 3H5c-1.1 0-2 .9-2 2v14c0 1.1.9 2 2 2h14c1.1 0 2-.9 2-2V5c0-1.1-.9-2-2-2zM9 17H7v-7h2v7zm4 0h-2V7h2v10zm4 0h-2v-4h2v4z\"/>\n",
       "    </g>\n",
       "</svg>\n",
       "  </button>\n",
       "\n",
       "<style>\n",
       "  .colab-df-quickchart {\n",
       "      --bg-color: #E8F0FE;\n",
       "      --fill-color: #1967D2;\n",
       "      --hover-bg-color: #E2EBFA;\n",
       "      --hover-fill-color: #174EA6;\n",
       "      --disabled-fill-color: #AAA;\n",
       "      --disabled-bg-color: #DDD;\n",
       "  }\n",
       "\n",
       "  [theme=dark] .colab-df-quickchart {\n",
       "      --bg-color: #3B4455;\n",
       "      --fill-color: #D2E3FC;\n",
       "      --hover-bg-color: #434B5C;\n",
       "      --hover-fill-color: #FFFFFF;\n",
       "      --disabled-bg-color: #3B4455;\n",
       "      --disabled-fill-color: #666;\n",
       "  }\n",
       "\n",
       "  .colab-df-quickchart {\n",
       "    background-color: var(--bg-color);\n",
       "    border: none;\n",
       "    border-radius: 50%;\n",
       "    cursor: pointer;\n",
       "    display: none;\n",
       "    fill: var(--fill-color);\n",
       "    height: 32px;\n",
       "    padding: 0;\n",
       "    width: 32px;\n",
       "  }\n",
       "\n",
       "  .colab-df-quickchart:hover {\n",
       "    background-color: var(--hover-bg-color);\n",
       "    box-shadow: 0 1px 2px rgba(60, 64, 67, 0.3), 0 1px 3px 1px rgba(60, 64, 67, 0.15);\n",
       "    fill: var(--button-hover-fill-color);\n",
       "  }\n",
       "\n",
       "  .colab-df-quickchart-complete:disabled,\n",
       "  .colab-df-quickchart-complete:disabled:hover {\n",
       "    background-color: var(--disabled-bg-color);\n",
       "    fill: var(--disabled-fill-color);\n",
       "    box-shadow: none;\n",
       "  }\n",
       "\n",
       "  .colab-df-spinner {\n",
       "    border: 2px solid var(--fill-color);\n",
       "    border-color: transparent;\n",
       "    border-bottom-color: var(--fill-color);\n",
       "    animation:\n",
       "      spin 1s steps(1) infinite;\n",
       "  }\n",
       "\n",
       "  @keyframes spin {\n",
       "    0% {\n",
       "      border-color: transparent;\n",
       "      border-bottom-color: var(--fill-color);\n",
       "      border-left-color: var(--fill-color);\n",
       "    }\n",
       "    20% {\n",
       "      border-color: transparent;\n",
       "      border-left-color: var(--fill-color);\n",
       "      border-top-color: var(--fill-color);\n",
       "    }\n",
       "    30% {\n",
       "      border-color: transparent;\n",
       "      border-left-color: var(--fill-color);\n",
       "      border-top-color: var(--fill-color);\n",
       "      border-right-color: var(--fill-color);\n",
       "    }\n",
       "    40% {\n",
       "      border-color: transparent;\n",
       "      border-right-color: var(--fill-color);\n",
       "      border-top-color: var(--fill-color);\n",
       "    }\n",
       "    60% {\n",
       "      border-color: transparent;\n",
       "      border-right-color: var(--fill-color);\n",
       "    }\n",
       "    80% {\n",
       "      border-color: transparent;\n",
       "      border-right-color: var(--fill-color);\n",
       "      border-bottom-color: var(--fill-color);\n",
       "    }\n",
       "    90% {\n",
       "      border-color: transparent;\n",
       "      border-bottom-color: var(--fill-color);\n",
       "    }\n",
       "  }\n",
       "</style>\n",
       "\n",
       "  <script>\n",
       "    async function quickchart(key) {\n",
       "      const quickchartButtonEl =\n",
       "        document.querySelector('#' + key + ' button');\n",
       "      quickchartButtonEl.disabled = true;  // To prevent multiple clicks.\n",
       "      quickchartButtonEl.classList.add('colab-df-spinner');\n",
       "      try {\n",
       "        const charts = await google.colab.kernel.invokeFunction(\n",
       "            'suggestCharts', [key], {});\n",
       "      } catch (error) {\n",
       "        console.error('Error during call to suggestCharts:', error);\n",
       "      }\n",
       "      quickchartButtonEl.classList.remove('colab-df-spinner');\n",
       "      quickchartButtonEl.classList.add('colab-df-quickchart-complete');\n",
       "    }\n",
       "    (() => {\n",
       "      let quickchartButtonEl =\n",
       "        document.querySelector('#df-b0b832c1-c0e8-4b08-b85f-1174c7816416 button');\n",
       "      quickchartButtonEl.style.display =\n",
       "        google.colab.kernel.accessAllowed ? 'block' : 'none';\n",
       "    })();\n",
       "  </script>\n",
       "</div>\n",
       "    </div>\n",
       "  </div>\n"
      ],
      "text/plain": [
       "                         images.fname images.disease_class  \\\n",
       "0  딸기_설향_잎끝마름_88_011_221128101701.jpg                 잎끝마름   \n",
       "1  딸기_설향_잎끝마름_88_011_221129131701.jpg                 잎끝마름   \n",
       "\n",
       "  images.disease_cause_method                            bbox_0 status_0  \\\n",
       "0                        칼슘부족  [981.56, 759.33, 195.39, 162.18]        N   \n",
       "1                        칼슘부족  [219.96, 513.36, 352.22, 111.62]        N   \n",
       "\n",
       "  name_0                            bbox_1 status_1 name_1  \\\n",
       "0     과실   [1060.33, 729.79, 152.72, 72.5]        Y     과실   \n",
       "1     줄기  [121.22, 750.02, 369.81, 258.93]        N      잎   \n",
       "\n",
       "                             bbox_2  ... name_11 bbox_12 status_12 name_12  \\\n",
       "0  [1088.79, 577.77, 105.67, 92.18]  ...      화방    None      None    None   \n",
       "1  [994.01, 770.45, 196.73, 144.29]  ...    None    None      None    None   \n",
       "\n",
       "  bbox_13 status_13 name_13 bbox_14 status_14 name_14  \n",
       "0    None      None    None    None      None    None  \n",
       "1    None      None    None    None      None    None  \n",
       "\n",
       "[2 rows x 48 columns]"
      ]
     },
     "execution_count": 10,
     "metadata": {},
     "output_type": "execute_result"
    }
   ],
   "source": [
    "df_sel.head(2)"
   ]
  },
  {
   "cell_type": "code",
   "execution_count": 12,
   "metadata": {
    "id": "U_cI7U99-B0H"
   },
   "outputs": [],
   "source": [
    "df_sel.rename(columns={'images.fname' : 'img', 'images.disease_class' : 'class', 'images.disease_cause_method' : 'method'}, inplace=True)"
   ]
  },
  {
   "cell_type": "code",
   "execution_count": 13,
   "metadata": {
    "id": "l1oUs2v56iuN"
   },
   "outputs": [],
   "source": [
    "df_sel.to_csv('leafdry_train_label_preprocessed.csv',encoding='utf-8', index=False)"
   ]
  },
  {
   "cell_type": "code",
   "execution_count": 14,
   "metadata": {
    "colab": {
     "base_uri": "https://localhost:8080/",
     "height": 162
    },
    "id": "42RK-GL8-zpo",
    "outputId": "81164a8b-34b2-48e6-e50f-964483a64907"
   },
   "outputs": [
    {
     "data": {
      "text/html": [
       "\n",
       "  <div id=\"df-069910ae-6356-47ba-a528-d83c84016f74\" class=\"colab-df-container\">\n",
       "    <div>\n",
       "<style scoped>\n",
       "    .dataframe tbody tr th:only-of-type {\n",
       "        vertical-align: middle;\n",
       "    }\n",
       "\n",
       "    .dataframe tbody tr th {\n",
       "        vertical-align: top;\n",
       "    }\n",
       "\n",
       "    .dataframe thead th {\n",
       "        text-align: right;\n",
       "    }\n",
       "</style>\n",
       "<table border=\"1\" class=\"dataframe\">\n",
       "  <thead>\n",
       "    <tr style=\"text-align: right;\">\n",
       "      <th></th>\n",
       "      <th>img</th>\n",
       "      <th>class</th>\n",
       "      <th>method</th>\n",
       "      <th>bbox_0</th>\n",
       "      <th>status_0</th>\n",
       "      <th>name_0</th>\n",
       "      <th>bbox_1</th>\n",
       "      <th>status_1</th>\n",
       "      <th>name_1</th>\n",
       "      <th>bbox_2</th>\n",
       "      <th>...</th>\n",
       "      <th>name_11</th>\n",
       "      <th>bbox_12</th>\n",
       "      <th>status_12</th>\n",
       "      <th>name_12</th>\n",
       "      <th>bbox_13</th>\n",
       "      <th>status_13</th>\n",
       "      <th>name_13</th>\n",
       "      <th>bbox_14</th>\n",
       "      <th>status_14</th>\n",
       "      <th>name_14</th>\n",
       "    </tr>\n",
       "  </thead>\n",
       "  <tbody>\n",
       "    <tr>\n",
       "      <th>0</th>\n",
       "      <td>딸기_설향_잎끝마름_88_011_221128101701.jpg</td>\n",
       "      <td>잎끝마름</td>\n",
       "      <td>칼슘부족</td>\n",
       "      <td>[981.56, 759.33, 195.39, 162.18]</td>\n",
       "      <td>N</td>\n",
       "      <td>과실</td>\n",
       "      <td>[1060.33, 729.79, 152.72, 72.5]</td>\n",
       "      <td>Y</td>\n",
       "      <td>과실</td>\n",
       "      <td>[1088.79, 577.77, 105.67, 92.18]</td>\n",
       "      <td>...</td>\n",
       "      <td>화방</td>\n",
       "      <td>None</td>\n",
       "      <td>None</td>\n",
       "      <td>None</td>\n",
       "      <td>None</td>\n",
       "      <td>None</td>\n",
       "      <td>None</td>\n",
       "      <td>None</td>\n",
       "      <td>None</td>\n",
       "      <td>None</td>\n",
       "    </tr>\n",
       "  </tbody>\n",
       "</table>\n",
       "<p>1 rows × 48 columns</p>\n",
       "</div>\n",
       "    <div class=\"colab-df-buttons\">\n",
       "\n",
       "  <div class=\"colab-df-container\">\n",
       "    <button class=\"colab-df-convert\" onclick=\"convertToInteractive('df-069910ae-6356-47ba-a528-d83c84016f74')\"\n",
       "            title=\"Convert this dataframe to an interactive table.\"\n",
       "            style=\"display:none;\">\n",
       "\n",
       "  <svg xmlns=\"http://www.w3.org/2000/svg\" height=\"24px\" viewBox=\"0 -960 960 960\">\n",
       "    <path d=\"M120-120v-720h720v720H120Zm60-500h600v-160H180v160Zm220 220h160v-160H400v160Zm0 220h160v-160H400v160ZM180-400h160v-160H180v160Zm440 0h160v-160H620v160ZM180-180h160v-160H180v160Zm440 0h160v-160H620v160Z\"/>\n",
       "  </svg>\n",
       "    </button>\n",
       "\n",
       "  <style>\n",
       "    .colab-df-container {\n",
       "      display:flex;\n",
       "      gap: 12px;\n",
       "    }\n",
       "\n",
       "    .colab-df-convert {\n",
       "      background-color: #E8F0FE;\n",
       "      border: none;\n",
       "      border-radius: 50%;\n",
       "      cursor: pointer;\n",
       "      display: none;\n",
       "      fill: #1967D2;\n",
       "      height: 32px;\n",
       "      padding: 0 0 0 0;\n",
       "      width: 32px;\n",
       "    }\n",
       "\n",
       "    .colab-df-convert:hover {\n",
       "      background-color: #E2EBFA;\n",
       "      box-shadow: 0px 1px 2px rgba(60, 64, 67, 0.3), 0px 1px 3px 1px rgba(60, 64, 67, 0.15);\n",
       "      fill: #174EA6;\n",
       "    }\n",
       "\n",
       "    .colab-df-buttons div {\n",
       "      margin-bottom: 4px;\n",
       "    }\n",
       "\n",
       "    [theme=dark] .colab-df-convert {\n",
       "      background-color: #3B4455;\n",
       "      fill: #D2E3FC;\n",
       "    }\n",
       "\n",
       "    [theme=dark] .colab-df-convert:hover {\n",
       "      background-color: #434B5C;\n",
       "      box-shadow: 0px 1px 3px 1px rgba(0, 0, 0, 0.15);\n",
       "      filter: drop-shadow(0px 1px 2px rgba(0, 0, 0, 0.3));\n",
       "      fill: #FFFFFF;\n",
       "    }\n",
       "  </style>\n",
       "\n",
       "    <script>\n",
       "      const buttonEl =\n",
       "        document.querySelector('#df-069910ae-6356-47ba-a528-d83c84016f74 button.colab-df-convert');\n",
       "      buttonEl.style.display =\n",
       "        google.colab.kernel.accessAllowed ? 'block' : 'none';\n",
       "\n",
       "      async function convertToInteractive(key) {\n",
       "        const element = document.querySelector('#df-069910ae-6356-47ba-a528-d83c84016f74');\n",
       "        const dataTable =\n",
       "          await google.colab.kernel.invokeFunction('convertToInteractive',\n",
       "                                                    [key], {});\n",
       "        if (!dataTable) return;\n",
       "\n",
       "        const docLinkHtml = 'Like what you see? Visit the ' +\n",
       "          '<a target=\"_blank\" href=https://colab.research.google.com/notebooks/data_table.ipynb>data table notebook</a>'\n",
       "          + ' to learn more about interactive tables.';\n",
       "        element.innerHTML = '';\n",
       "        dataTable['output_type'] = 'display_data';\n",
       "        await google.colab.output.renderOutput(dataTable, element);\n",
       "        const docLink = document.createElement('div');\n",
       "        docLink.innerHTML = docLinkHtml;\n",
       "        element.appendChild(docLink);\n",
       "      }\n",
       "    </script>\n",
       "  </div>\n",
       "\n",
       "    </div>\n",
       "  </div>\n"
      ],
      "text/plain": [
       "                                  img class method  \\\n",
       "0  딸기_설향_잎끝마름_88_011_221128101701.jpg  잎끝마름   칼슘부족   \n",
       "\n",
       "                             bbox_0 status_0 name_0  \\\n",
       "0  [981.56, 759.33, 195.39, 162.18]        N     과실   \n",
       "\n",
       "                            bbox_1 status_1 name_1  \\\n",
       "0  [1060.33, 729.79, 152.72, 72.5]        Y     과실   \n",
       "\n",
       "                             bbox_2  ... name_11 bbox_12 status_12 name_12  \\\n",
       "0  [1088.79, 577.77, 105.67, 92.18]  ...      화방    None      None    None   \n",
       "\n",
       "  bbox_13 status_13 name_13 bbox_14 status_14 name_14  \n",
       "0    None      None    None    None      None    None  \n",
       "\n",
       "[1 rows x 48 columns]"
      ]
     },
     "execution_count": 14,
     "metadata": {},
     "output_type": "execute_result"
    }
   ],
   "source": [
    "df_sel.head(1)"
   ]
  },
  {
   "cell_type": "code",
   "execution_count": null,
   "metadata": {
    "id": "5xNLeC5g9uHo"
   },
   "outputs": [],
   "source": [
    "#test data"
   ]
  },
  {
   "cell_type": "code",
   "execution_count": null,
   "metadata": {
    "id": "z27LwLso9uKM"
   },
   "outputs": [],
   "source": [
    "folder_path = r'/content/leafdry/test/label'\n",
    "df_list = []\n",
    "\n",
    "for filename in os.listdir(folder_path):\n",
    "    if filename.endswith('.json'):\n",
    "        file_path = os.path.join(folder_path, filename)\n",
    "\n",
    "        try:\n",
    "            with open(file_path, 'r', encoding='utf-8') as file:\n",
    "                data = json.load(file)\n",
    "\n",
    "            df_list.append(pd.json_normalize(data))\n",
    "        except json.JSONDecodeError as e:\n",
    "            print(f\"Error decoding JSON in file {filename}: {e}\")\n",
    "\n",
    "if df_list:\n",
    "    merged_df = pd.concat(df_list, ignore_index=True)\n",
    "    print(merged_df)\n",
    "else:\n",
    "    print(\"No valid JSON files found.\")"
   ]
  },
  {
   "cell_type": "code",
   "execution_count": 17,
   "metadata": {
    "id": "ouJg4qLh9uMk"
   },
   "outputs": [],
   "source": [
    "merged_df.to_csv('leafdry_test_label_merged.csv',encoding='utf-8', index=False)"
   ]
  },
  {
   "cell_type": "code",
   "execution_count": 18,
   "metadata": {
    "id": "uq_CVXEc9uPM"
   },
   "outputs": [],
   "source": [
    "df = pd.read_csv('leafdry_test_label_merged.csv', encoding='utf-8')"
   ]
  },
  {
   "cell_type": "code",
   "execution_count": 19,
   "metadata": {
    "colab": {
     "base_uri": "https://localhost:8080/"
    },
    "id": "z_Dkl5XU9uRs",
    "outputId": "7ed361cd-a2b2-410a-b230-6f135c7c6143"
   },
   "outputs": [
    {
     "name": "stdout",
     "output_type": "stream",
     "text": [
      "16\n"
     ]
    }
   ],
   "source": [
    "df_sel=df[['images.fname','images.disease_class','images.disease_cause_method','annotations','categories']].copy()\n",
    "\n",
    "df_sel['annotations']=df_sel['annotations'].apply(lambda x: json.loads(x.replace(\"'\",\"\\\"\")))\n",
    "df_sel['categories']=df_sel['categories'].apply(lambda x: json.loads(x.replace(\"'\",\"\\\"\")))\n",
    "\n",
    "max_len=df_sel.loc[df_sel['annotations'].str.len().idxmax()]\n",
    "max_len_val=max_len['annotations']\n",
    "data=max_len_val\n",
    "\n",
    "if data and isinstance(data, list):\n",
    "  item=data[-1]\n",
    "  cat_id=item['category_id']\n",
    "  print(cat_id)\n",
    "else:\n",
    "  print('fuck')\n",
    "\n",
    "length=cat_id+1\n",
    "zero_box=[0,0,0,0]\n",
    "unknown_status='F'\n",
    "\n",
    "for i in range(length):\n",
    "  df_sel[f'bbox_{i}'] = None\n",
    "  df_sel[f'status_{i}'] = None\n",
    "  df_sel[f'name_{i}'] = None\n",
    "\n",
    "for idx, row in df_sel.iterrows():\n",
    "  annotation_data=row['annotations']\n",
    "  for k in range(len(annotation_data)):\n",
    "    if k < len(annotation_data):\n",
    "      df_sel.at[idx,f'bbox_{k}']=annotation_data[k]['bbox']\n",
    "      df_sel.at[idx,f'status_{k}']=annotation_data[k]['disease_status']\n",
    "    else:\n",
    "\n",
    "      df_sel.at[idx,f'bbox_{k}']=zero_box\n",
    "      df_sel.at[idx,f'status_{k}']= unknown_status\n",
    "\n",
    "for idx, row in df_sel.iterrows():\n",
    "  name_data=row['categories']\n",
    "  for k in range(len(name_data)):\n",
    "    if k < len(name_data):\n",
    "      df_sel.at[idx,f'name_{k}']=name_data[k]['name']\n",
    "    else:\n",
    "      df_sel.at[idx,f'name_{k}']='unknown'\n",
    "\n",
    "\n",
    "df_sel.drop(columns=['annotations','categories'], axis=1, inplace=True)"
   ]
  },
  {
   "cell_type": "code",
   "execution_count": 20,
   "metadata": {
    "id": "zv6wQD9o9uUN"
   },
   "outputs": [],
   "source": [
    "df_sel.rename(columns={'images.fname' : 'img', 'images.disease_class' : 'class', 'images.disease_cause_method' : 'method'}, inplace=True)\n",
    "df_sel.to_csv('leafdry_test_label_preprocessed.csv',encoding='utf-8', index=False)"
   ]
  },
  {
   "cell_type": "code",
   "execution_count": null,
   "metadata": {
    "id": "a9eYNQUQ9uW5"
   },
   "outputs": [],
   "source": [
    "## validation"
   ]
  },
  {
   "cell_type": "code",
   "execution_count": null,
   "metadata": {
    "id": "iQc51Jat9uZU"
   },
   "outputs": [],
   "source": [
    "folder_path = r'/content/leafdry/validation/label'\n",
    "df_list = []\n",
    "\n",
    "for filename in os.listdir(folder_path):\n",
    "    if filename.endswith('.json'):\n",
    "        file_path = os.path.join(folder_path, filename)\n",
    "\n",
    "        try:\n",
    "            with open(file_path, 'r', encoding='utf-8') as file:\n",
    "                data = json.load(file)\n",
    "\n",
    "            df_list.append(pd.json_normalize(data))\n",
    "        except json.JSONDecodeError as e:\n",
    "            print(f\"Error decoding JSON in file {filename}: {e}\")\n",
    "\n",
    "if df_list:\n",
    "    merged_df = pd.concat(df_list, ignore_index=True)\n",
    "    print(merged_df)\n",
    "else:\n",
    "    print(\"No valid JSON files found.\")"
   ]
  },
  {
   "cell_type": "code",
   "execution_count": 22,
   "metadata": {
    "id": "WT-4BCdd9ub2"
   },
   "outputs": [],
   "source": [
    "merged_df.to_csv('leafdry_validation_label_merged.csv',encoding='utf-8', index=False)"
   ]
  },
  {
   "cell_type": "code",
   "execution_count": 23,
   "metadata": {
    "id": "28HIJSNG9ueg"
   },
   "outputs": [],
   "source": [
    "df = pd.read_csv('leafdry_validation_label_merged.csv', encoding='utf-8')"
   ]
  },
  {
   "cell_type": "code",
   "execution_count": 24,
   "metadata": {
    "colab": {
     "base_uri": "https://localhost:8080/"
    },
    "id": "peR8cKwI9uhF",
    "outputId": "68cc27a4-d89f-41c9-9e46-0f27f8604a2f"
   },
   "outputs": [
    {
     "name": "stdout",
     "output_type": "stream",
     "text": [
      "22\n"
     ]
    }
   ],
   "source": [
    "df_sel=df[['images.fname','images.disease_class','images.disease_cause_method','annotations','categories']].copy()\n",
    "\n",
    "df_sel['annotations']=df_sel['annotations'].apply(lambda x: json.loads(x.replace(\"'\",\"\\\"\")))\n",
    "df_sel['categories']=df_sel['categories'].apply(lambda x: json.loads(x.replace(\"'\",\"\\\"\")))\n",
    "\n",
    "max_len=df_sel.loc[df_sel['annotations'].str.len().idxmax()]\n",
    "max_len_val=max_len['annotations']\n",
    "data=max_len_val\n",
    "\n",
    "if data and isinstance(data, list):\n",
    "  item=data[-1]\n",
    "  cat_id=item['category_id']\n",
    "  print(cat_id)\n",
    "else:\n",
    "  print('fuck')\n",
    "\n",
    "length=cat_id+1\n",
    "zero_box=[0,0,0,0]\n",
    "unknown_status='F'\n",
    "\n",
    "for i in range(length):\n",
    "  df_sel[f'bbox_{i}'] = None\n",
    "  df_sel[f'status_{i}'] = None\n",
    "  df_sel[f'name_{i}'] = None\n",
    "\n",
    "for idx, row in df_sel.iterrows():\n",
    "  annotation_data=row['annotations']\n",
    "  for k in range(len(annotation_data)):\n",
    "    if k < len(annotation_data):\n",
    "      df_sel.at[idx,f'bbox_{k}']=annotation_data[k]['bbox']\n",
    "      df_sel.at[idx,f'status_{k}']=annotation_data[k]['disease_status']\n",
    "    else:\n",
    "\n",
    "      df_sel.at[idx,f'bbox_{k}']=zero_box\n",
    "      df_sel.at[idx,f'status_{k}']= unknown_status\n",
    "\n",
    "for idx, row in df_sel.iterrows():\n",
    "  name_data=row['categories']\n",
    "  for k in range(len(name_data)):\n",
    "    if k < len(name_data):\n",
    "      df_sel.at[idx,f'name_{k}']=name_data[k]['name']\n",
    "    else:\n",
    "      df_sel.at[idx,f'name_{k}']='unknown'\n",
    "\n",
    "\n",
    "df_sel.drop(columns=['annotations','categories'], axis=1, inplace=True)"
   ]
  },
  {
   "cell_type": "code",
   "execution_count": 25,
   "metadata": {
    "id": "CjemfOjh_rsb"
   },
   "outputs": [],
   "source": [
    "df_sel.rename(columns={'images.fname' : 'img', 'images.disease_class' : 'class', 'images.disease_cause_method' : 'method'}, inplace=True)\n",
    "df_sel.to_csv('leafdry_validation_label_preprocessed.csv',encoding='utf-8', index=False)"
   ]
  },
  {
   "cell_type": "code",
   "execution_count": null,
   "metadata": {
    "id": "AiIiX9dA_9wZ"
   },
   "outputs": [],
   "source": [
    "# model validation data"
   ]
  },
  {
   "cell_type": "code",
   "execution_count": null,
   "metadata": {
    "id": "4rtJOipP__3R"
   },
   "outputs": [],
   "source": [
    "folder_path = r'/content/leafdry/model_validation/model_validation_label'\n",
    "df_list = []\n",
    "\n",
    "for filename in os.listdir(folder_path):\n",
    "    if filename.endswith('.json'):\n",
    "        file_path = os.path.join(folder_path, filename)\n",
    "\n",
    "        try:\n",
    "            with open(file_path, 'r', encoding='utf-8') as file:\n",
    "                data = json.load(file)\n",
    "\n",
    "            df_list.append(pd.json_normalize(data))\n",
    "        except json.JSONDecodeError as e:\n",
    "            print(f\"Error decoding JSON in file {filename}: {e}\")\n",
    "\n",
    "if df_list:\n",
    "    merged_df = pd.concat(df_list, ignore_index=True)\n",
    "    print(merged_df)\n",
    "else:\n",
    "    print(\"No valid JSON files found.\")"
   ]
  },
  {
   "cell_type": "code",
   "execution_count": 27,
   "metadata": {
    "id": "lPzpSeX7__5v"
   },
   "outputs": [],
   "source": [
    "merged_df.to_csv('leafdry_model_validation_label_merged.csv',encoding='utf-8', index=False)"
   ]
  },
  {
   "cell_type": "code",
   "execution_count": 28,
   "metadata": {
    "id": "EP8OegsD__8F"
   },
   "outputs": [],
   "source": [
    "df = pd.read_csv('leafdry_model_validation_label_merged.csv', encoding='utf-8')"
   ]
  },
  {
   "cell_type": "code",
   "execution_count": 29,
   "metadata": {
    "colab": {
     "base_uri": "https://localhost:8080/"
    },
    "id": "WrV4gr1O__-_",
    "outputId": "253c6866-bd4e-4326-9d36-33e785d3330d"
   },
   "outputs": [
    {
     "name": "stdout",
     "output_type": "stream",
     "text": [
      "11\n"
     ]
    }
   ],
   "source": [
    "df_sel=df[['images.fname','images.disease_class','images.disease_cause_method','annotations','categories']].copy()\n",
    "\n",
    "df_sel['annotations']=df_sel['annotations'].apply(lambda x: json.loads(x.replace(\"'\",\"\\\"\")))\n",
    "df_sel['categories']=df_sel['categories'].apply(lambda x: json.loads(x.replace(\"'\",\"\\\"\")))\n",
    "\n",
    "max_len=df_sel.loc[df_sel['annotations'].str.len().idxmax()]\n",
    "max_len_val=max_len['annotations']\n",
    "data=max_len_val\n",
    "\n",
    "if data and isinstance(data, list):\n",
    "  item=data[-1]\n",
    "  cat_id=item['category_id']\n",
    "  print(cat_id)\n",
    "else:\n",
    "  print('fuck')\n",
    "\n",
    "length=cat_id+1\n",
    "zero_box=[0,0,0,0]\n",
    "unknown_status='F'\n",
    "\n",
    "for i in range(length):\n",
    "  df_sel[f'bbox_{i}'] = None\n",
    "  df_sel[f'status_{i}'] = None\n",
    "  df_sel[f'name_{i}'] = None\n",
    "\n",
    "for idx, row in df_sel.iterrows():\n",
    "  annotation_data=row['annotations']\n",
    "  for k in range(len(annotation_data)):\n",
    "    if k < len(annotation_data):\n",
    "      df_sel.at[idx,f'bbox_{k}']=annotation_data[k]['bbox']\n",
    "      df_sel.at[idx,f'status_{k}']=annotation_data[k]['disease_status']\n",
    "    else:\n",
    "\n",
    "      df_sel.at[idx,f'bbox_{k}']=zero_box\n",
    "      df_sel.at[idx,f'status_{k}']= unknown_status\n",
    "\n",
    "for idx, row in df_sel.iterrows():\n",
    "  name_data=row['categories']\n",
    "  for k in range(len(name_data)):\n",
    "    if k < len(name_data):\n",
    "      df_sel.at[idx,f'name_{k}']=name_data[k]['name']\n",
    "    else:\n",
    "      df_sel.at[idx,f'name_{k}']='unknown'\n",
    "\n",
    "\n",
    "df_sel.drop(columns=['annotations','categories'], axis=1, inplace=True)"
   ]
  },
  {
   "cell_type": "code",
   "execution_count": 30,
   "metadata": {
    "id": "fk0qGsxDAHMa"
   },
   "outputs": [],
   "source": [
    "df_sel.rename(columns={'images.fname' : 'img', 'images.disease_class' : 'class', 'images.disease_cause_method' : 'method'}, inplace=True)\n",
    "df_sel.to_csv('leafdry_model_validation_label_preprocessed.csv',encoding='utf-8', index=False)"
   ]
  }
 ],
 "metadata": {
  "colab": {
   "provenance": []
  },
  "kernelspec": {
   "display_name": "Python 3 (ipykernel)",
   "language": "python",
   "name": "python3"
  },
  "language_info": {
   "codemirror_mode": {
    "name": "ipython",
    "version": 3
   },
   "file_extension": ".py",
   "mimetype": "text/x-python",
   "name": "python",
   "nbconvert_exporter": "python",
   "pygments_lexer": "ipython3",
   "version": "3.11.5"
  }
 },
 "nbformat": 4,
 "nbformat_minor": 1
}
