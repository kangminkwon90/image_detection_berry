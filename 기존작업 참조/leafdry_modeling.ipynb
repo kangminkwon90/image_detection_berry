{
  "nbformat": 4,
  "nbformat_minor": 0,
  "metadata": {
    "colab": {
      "provenance": [],
      "gpuType": "T4"
    },
    "kernelspec": {
      "name": "python3",
      "display_name": "Python 3"
    },
    "language_info": {
      "name": "python"
    },
    "accelerator": "GPU"
  },
  "cells": [
    {
      "cell_type": "code",
      "execution_count": null,
      "metadata": {
        "id": "BQqGQR5i4Yx1"
      },
      "outputs": [],
      "source": [
        "!git clone https://github.com/ultralytics/yolov3\n",
        "%cd yolov3\n",
        "%pip install -qr requirements.txt\n",
        "\n",
        "%cd /content\n",
        "!git clone https://github.com/ultralytics/yolov5\n",
        "%cd yolov5\n",
        "\n",
        "%pip install -qr requirements.txt"
      ]
    },
    {
      "cell_type": "code",
      "source": [
        "## file loading\n",
        "\n",
        "from google.colab import drive\n",
        "import shutil\n",
        "import zipfile\n",
        "\n",
        "drive.mount('/content/drive')\n",
        "\n",
        "shutil.copy('/content/drive/My Drive/data/leafdry_with_annotation.zip', '/content/yolov5')\n",
        "\n",
        "zip_file_train_img='/content/yolov5/leafdry_with_annotation.zip'\n",
        "\n",
        "with zipfile.ZipFile(zip_file_train_img, 'r') as zip_ref:\n",
        "  zip_ref.extractall('/content/yolov5/leafdry')"
      ],
      "metadata": {
        "id": "SU5ZxmC6ICDW"
      },
      "execution_count": null,
      "outputs": []
    },
    {
      "cell_type": "code",
      "source": [],
      "metadata": {
        "id": "omjMq27rICFw"
      },
      "execution_count": null,
      "outputs": []
    },
    {
      "cell_type": "code",
      "source": [
        "from IPython.display import Image, display, clear_output\n",
        "from IPython.core.magic import register_line_cell_magic\n",
        "import yaml\n",
        "import torch\n",
        "\n",
        "import pandas as pd\n",
        "import numpy as np\n",
        "import matplotlib.pyplot as plt"
      ],
      "metadata": {
        "id": "cDtn7zQVICIf"
      },
      "execution_count": null,
      "outputs": []
    },
    {
      "cell_type": "code",
      "source": [
        "!touch /content/yolov5/leafdry/train/train.txt\n",
        "!touch /content/yolov5/leafdry/test/test.txt\n",
        "!touch /content/yolov5/leafdry/validation/validation.txt\n",
        "!touch /content/yolov5/leafdry/model_validation/model_validation.txt"
      ],
      "metadata": {
        "id": "2o3c4DROICLC"
      },
      "execution_count": null,
      "outputs": []
    },
    {
      "cell_type": "code",
      "source": [
        "df_train=pd.read_csv('/content/yolov5/leafdry/csv_files/annotation_train.csv', encoding='utf-8')\n",
        "df_test = pd.read_csv('/content/yolov5/leafdry/csv_files/annotation_test.csv', encoding='utf-8')\n",
        "df_val = pd.read_csv('/content/yolov5/leafdry/csv_files/validation.csv', encoding='utf-8')\n",
        "df_model_val = pd.read_csv('/content/yolov5/leafdry/csv_files/model_validation.csv', encoding='utf-8')\n",
        "\n",
        "train_img_list = df_train['img'].to_list()\n",
        "test_img_list = df_test['img'].to_list()\n",
        "val_img_list = df_val['img'].to_list()"
      ],
      "metadata": {
        "id": "ztU0POgkIdHH"
      },
      "execution_count": null,
      "outputs": []
    },
    {
      "cell_type": "code",
      "source": [
        "## 학습, 테스트 이미지 파일 리스트 txt 파일 생성\n",
        "import yaml\n",
        "\n",
        "with open('/content/yolov5/leafdry/train/train.txt', 'w') as f:\n",
        "  f.write('\\n' .join(train_img_list)+'\\n')\n",
        "\n",
        "with open('/content/yolov5/train_dry/test/test.txt', 'w') as f:\n",
        "  f.write('\\n' .join(test_img_list)+'\\n')\n",
        "\n",
        "with open('/content/yolov5/train_dry/validation/valid.txt', 'w') as f:\n",
        "  f.write('\\n' .join(val_img_list)+'\\n')"
      ],
      "metadata": {
        "id": "8K2P2IlKICNw"
      },
      "execution_count": null,
      "outputs": []
    },
    {
      "cell_type": "code",
      "source": [
        "## 객체탐지를 위한 모듈 임포트 및 정의함수 생성\n",
        "\n",
        "from IPython.core.magic import register_line_cell_magic\n",
        "\n",
        "@register_line_cell_magic\n",
        "def writetemplate(line, cell):\n",
        "    f.write(cell.format(**globals()))"
      ],
      "metadata": {
        "id": "LQkQuOdZICbW"
      },
      "execution_count": null,
      "outputs": []
    },
    {
      "cell_type": "code",
      "source": [
        "!touch /content/yolov5/leafdry/data.yaml"
      ],
      "metadata": {
        "id": "f_9CR0RpICfc"
      },
      "execution_count": null,
      "outputs": []
    },
    {
      "cell_type": "code",
      "source": [
        "yaml_content = \"\"\"\n",
        "train: /content/yolov5/leafdry/train/train_img\n",
        "test: /content/yolov5/leafdry/test\n",
        "val: /content/yolov5/leafdry/validation\n",
        "\n",
        "nc: 4\n",
        "names: ['leaf-N', 'stem-N', 'flower-N', 'fruit-N', 'leaf-E', 'stem-E', 'flower-E', 'fruit-E', 'leaf-Y', 'stem-Y', 'flower-Y', 'fruit-Y']\n",
        "\"\"\"\n",
        "\n",
        "with open('/content/yolov5/leafdry/data.yaml', 'w') as file:\n",
        "    file.write(yaml_content)"
      ],
      "metadata": {
        "id": "_DBMRWLMICho"
      },
      "execution_count": null,
      "outputs": []
    },
    {
      "cell_type": "code",
      "source": [
        "%cat /content/yolov5/leafdry/data.yaml"
      ],
      "metadata": {
        "id": "EqQ8ApJmICkM"
      },
      "execution_count": null,
      "outputs": []
    },
    {
      "cell_type": "code",
      "source": [
        "import yaml\n",
        "\n",
        "with open('/content/yolov5/leafdry/data.yaml', 'r') as steam:\n",
        "  num_classes = str(yaml.safe_load(steam)['nc'])"
      ],
      "metadata": {
        "id": "DR2N1kydLJIU"
      },
      "execution_count": null,
      "outputs": []
    },
    {
      "cell_type": "code",
      "source": [
        "%cat /content/yolov5/models/yolov5s.yaml"
      ],
      "metadata": {
        "id": "6k4atFL7LJLC"
      },
      "execution_count": null,
      "outputs": []
    },
    {
      "cell_type": "code",
      "source": [
        "yaml_content = \"\"\"\n",
        "# Parameters\n",
        "nc: 12  # number of classes\n",
        "depth_multiple: 0.33  # model depth multiple\n",
        "width_multiple: 0.50  # layer channel multiple\n",
        "anchors:\n",
        "  - [10,13, 16,30, 33,23]  # P3/8\n",
        "  - [30,61, 62,45, 59,119]  # P4/16\n",
        "  - [116,90, 156,198, 373,326]  # P5/32\n",
        "\n",
        "# YOLOv5 v6.0 backbone\n",
        "backbone:\n",
        "  # [from, number, module, args]\n",
        "  [[-1, 1, Conv, [64, 6, 2, 2]],  # 0-P1/2\n",
        "   [-1, 1, Conv, [128, 3, 2]],  # 1-P2/4\n",
        "   [-1, 3, C3, [128]],\n",
        "   [-1, 1, Conv, [256, 3, 2]],  # 3-P3/8\n",
        "   [-1, 6, C3, [256]],\n",
        "   [-1, 1, Conv, [512, 3, 2]],  # 5-P4/16\n",
        "   [-1, 9, C3, [512]],\n",
        "   [-1, 1, Conv, [1024, 3, 2]],  # 7-P5/32\n",
        "   [-1, 3, C3, [1024]],\n",
        "   [-1, 1, SPPF, [1024, 5]],  # 9\n",
        "  ]\n",
        "\n",
        "# YOLOv5 v6.0 head\n",
        "head:\n",
        "  [[-1, 1, Conv, [512, 1, 1]],\n",
        "   [-1, 1, nn.Upsample, [None, 2, 'nearest']],\n",
        "   [[-1, 6], 1, Concat, [1]],  # cat backbone P4\n",
        "   [-1, 3, C3, [512, False]],  # 13\n",
        "\n",
        "   [-1, 1, Conv, [256, 1, 1]],\n",
        "   [-1, 1, nn.Upsample, [None, 2, 'nearest']],\n",
        "   [[-1, 4], 1, Concat, [1]],  # cat backbone P3\n",
        "   [-1, 3, C3, [256, False]],  # 17 (P3/8-small)\n",
        "\n",
        "   [-1, 1, Conv, [256, 3, 2]],\n",
        "   [[-1, 14], 1, Concat, [1]],  # cat head P4\n",
        "   [-1, 3, C3, [512, False]],  # 20 (P4/16-medium)\n",
        "\n",
        "   [-1, 1, Conv, [512, 3, 2]],\n",
        "   [[-1, 10], 1, Concat, [1]],  # cat head P5\n",
        "   [-1, 3, C3, [1024, False]],  # 23 (P5/32-large)\n",
        "\n",
        "   [[17, 20, 23], 1, Detect, [nc, anchors]],  # Detect(P3, P4, P5)\n",
        "  ]\n",
        "\"\"\"\n",
        "\n",
        "with open('/content/yolov5/models/custom_yolov5s.yaml', 'w') as file:\n",
        "    file.write(yaml_content)"
      ],
      "metadata": {
        "id": "kOzzd3ugLJNN"
      },
      "execution_count": null,
      "outputs": []
    },
    {
      "cell_type": "code",
      "source": [
        "%cat /content/yolov5/models/custom_yolov5s.yaml"
      ],
      "metadata": {
        "id": "v_tkOVq4LJPw"
      },
      "execution_count": null,
      "outputs": []
    },
    {
      "cell_type": "code",
      "source": [
        "%time\n",
        "\n",
        "!python train.py --img 640 --batch 32 --epochs 50 --data ./leafdry/data.yaml --cfg ./models/custom_yolov5s.yaml --weights '' --name dry_train_result --cache"
      ],
      "metadata": {
        "id": "3ubOlcRaLJSW"
      },
      "execution_count": null,
      "outputs": []
    },
    {
      "cell_type": "code",
      "source": [
        "%time\n",
        "\n",
        "!python train.py --img 640 --batch 32 --epochs 100 --data ./leafdry/data.yaml --cfg ./models/custom_yolov5s.yaml --weights '' --name dry_train_result --cache"
      ],
      "metadata": {
        "id": "REzoKLr8LJUz"
      },
      "execution_count": null,
      "outputs": []
    },
    {
      "cell_type": "code",
      "source": [
        "Image(filename='/content/yolov5/runs/train/leafdry_result/train_batch0.jpg', width=1200)"
      ],
      "metadata": {
        "id": "4Vopf_P7LJXS"
      },
      "execution_count": null,
      "outputs": []
    },
    {
      "cell_type": "code",
      "source": [
        "!python val.py --weights runs/train/leafdry_result2/weights/best.pt --data ./leafdry/data.yaml --img 640 --iou 0.65 --half"
      ],
      "metadata": {
        "id": "l2SRwz4CLYSQ"
      },
      "execution_count": null,
      "outputs": []
    },
    {
      "cell_type": "code",
      "source": [
        "!python val.py --weights runs/train/leafdry_result3/weights/best.pt --data ./leafdry/data.yaml --img 640 --iou 0.65 --half"
      ],
      "metadata": {
        "id": "9VcQTpYULYUw"
      },
      "execution_count": null,
      "outputs": []
    },
    {
      "cell_type": "code",
      "source": [
        "!python detect.py --weights runs/train/leafdry_result2/weights/best.pt --img 640 --conf 0.2 --source ./leafdry/test"
      ],
      "metadata": {
        "id": "guUq0rzJLeHR"
      },
      "execution_count": null,
      "outputs": []
    },
    {
      "cell_type": "code",
      "source": [
        "!python detect.py --weights runs/train/leafdry_result3/weights/best.pt --img 640 --conf 0.2 --source ./leafdry/test"
      ],
      "metadata": {
        "id": "SOR3GWCbLeLt"
      },
      "execution_count": null,
      "outputs": []
    },
    {
      "cell_type": "code",
      "source": [
        "import random\n",
        "from IPython.display import Image, display\n",
        "import glob\n",
        "\n",
        "Image_name = random.choice(glob.glob('/content/yolov5/runs/val/exp4/*.jpg'))\n",
        "display(Image(filename=Image_name))"
      ],
      "metadata": {
        "id": "yy2U-6QXLlwN"
      },
      "execution_count": null,
      "outputs": []
    },
    {
      "cell_type": "code",
      "source": [
        "import random\n",
        "from IPython.display import Image, display\n",
        "import glob\n",
        "\n",
        "Image_name = random.choice(glob.glob('/content/yolov5/runs/detect/exp3/*.jpg'))\n",
        "display(Image(filename=Image_name))"
      ],
      "metadata": {
        "id": "OzoWRsFbLlym"
      },
      "execution_count": null,
      "outputs": []
    },
    {
      "cell_type": "code",
      "source": [],
      "metadata": {
        "id": "z7TvpQr4Ll1G"
      },
      "execution_count": null,
      "outputs": []
    }
  ]
}