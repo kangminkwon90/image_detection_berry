{
 "cells": [
  {
   "cell_type": "code",
   "execution_count": 1,
   "metadata": {},
   "outputs": [
    {
     "data": {
      "text/plain": [
       "\"\\n*module 1: part_symptom_classifying.h5\\n\\n    * x_data: part image features: bboxes for each plant image -> extract features\\n    * y_data: part_status(Y: yes symptom, N: no symptom)\\n    * model pulpose: regardless which is in a certain part of plant, distinguish the status of input par\\n\\n*module 2: part_disease_class_classifying.h5\\n\\n    * x_data: same as module 1 but only use 'Y' labeled parts\\n    * y_data: disease_class data\\n    * module purpose: regardless which is in a certain part, distinguish the disease class of 'Y' labeled parts\\n\\n* module 1, 2 integrated structure(after modules trained)\\n    *input data: image[bbox1, bbox2,...]\\n    *module 1 prediction(input: image[])\\n        *prediction: image[N, Y, N, Y, ...]\\n        *classifying: \\n            if all image[i] == 'N' --> {normal(prediction finished)}\\n            else                   --> abnormal(go to module 2)\\n\\n            *module 2 prediction(input: abnormal([N, Y, N, Y])\\n                output_list = []\\n                *classifying:\\n                    if abnormal[] == 'N' --> output list.append() \\n\""
      ]
     },
     "execution_count": 1,
     "metadata": {},
     "output_type": "execute_result"
    }
   ],
   "source": [
    "## model modules for total detection model\n",
    "\n",
    "\"\"\"\n",
    "*module 1: part_symptom_classifying.h5\n",
    "\n",
    "    * x_data: part image features: bboxes for each plant image -> extract features\n",
    "    * y_data: part_status(Y: yes symptom, N: no symptom)\n",
    "    * model pulpose: regardless which is in a certain part of plant, distinguish the status of input par\n",
    "\n",
    "*module 2: part_disease_class_classifying.h5\n",
    "\n",
    "    * x_data: same as module 1 but only use 'Y' labeled parts\n",
    "    * y_data: disease_class data\n",
    "    * module purpose: regardless which is in a certain part, distinguish the disease class of 'Y' labeled parts\n",
    "\n",
    "* module 1, 2 integrated structure(after modules trained)(ex. blight)\n",
    "    *input data: image[bbox1, bbox2,...] -> 이 리스트를 순회하면서 개별 바운딩 박스에 대해 모듈 추론 적용후 결과 병합)\n",
    "        *module 1 prediction(input: image[])\n",
    "            *prediction: image[N, Y, N, Y, ...]\n",
    "            *classifying: \n",
    "                if all image[i] == 'N' --> {normal(output directly and start next loop)}\n",
    "                else                   --> abnormal(go to module 2)\n",
    "\n",
    "                *module 2 prediction(input: abnormal([N, Y, N, Y])\n",
    "                    output_list = []\n",
    "                    *classifying:\n",
    "                        if abnormal[] == 'N' --> output list.append() \n",
    "                        else                 --> output_list.append(predicted_class)\n",
    "\n",
    "    final_output:\n",
    "        *(normal): imagename = {bbox: [[bbox1], [bbox2],...], status: [N, N, ...], class: normal}\n",
    "        *(abnormal): imagename = {bbox: [[bbox1], [bbox2], ...], status: [N, Y, N, Y], class: blight}\n",
    "\n",
    "\"\"\""
   ]
  },
  {
   "cell_type": "code",
   "execution_count": 1,
   "metadata": {},
   "outputs": [],
   "source": [
    "# import lists\n",
    "\n",
    "import pandas as pd\n",
    "import numpy as np\n",
    "import os\n",
    "import glob\n",
    "import torch\n",
    "from torchvision import models, transforms\n",
    "from PIL import Image\n",
    "import cv2"
   ]
  },
  {
   "cell_type": "code",
   "execution_count": 4,
   "metadata": {},
   "outputs": [],
   "source": [
    "# label data load and define X, Y data\n",
    "\n",
    "test_data = pd.read_csv('./data_preprocessed/label/test_label.csv', encoding='utf-8')\n",
    "\n",
    "dir_path = './data_preprocessed/label/'\n",
    "tr_label_dict = {}\n",
    "train_num = 20\n",
    "\n",
    "csv_files = glob.glob(os.path.join(dir_path, 'train_label*.csv'))\n",
    "csv_files.sort()\n",
    "\n",
    "for file in csv_files:\n",
    "     df = pd.read_csv(file, encoding='utf-8')\n",
    "     tr_label_dict[f'train_{train_num}'] = df\n",
    "     train_num += 10\n",
    "\n",
    "     if train_num > 100:\n",
    "          break"
   ]
  },
  {
   "cell_type": "code",
   "execution_count": 3,
   "metadata": {},
   "outputs": [],
   "source": [
    "test_data = pd.read_csv('./data_preprocessed/label/test_label.csv', encoding='utf-8')\n",
    "train_20 = pd.read_csv('./data_preprocessed/label/train_label_20.csv', encoding='utf-8')"
   ]
  },
  {
   "cell_type": "code",
   "execution_count": 5,
   "metadata": {},
   "outputs": [],
   "source": [
    "# part image extraction and image preprocess for CNN model\n",
    "\n",
    "class PartImageExtractor:\n",
    "    def __init__(self):\n",
    "        self.transform = transforms.Compose([\n",
    "            transforms.Resize(299),\n",
    "            transforms.CenterCrop(299),\n",
    "            transforms.ToTensor(),\n",
    "            transforms.Normalize(mean=[0.485, 0.456, 0.406], std=[0.229, 0.224, 0.225]),\n",
    "        ])\n",
    "        self.model = models.inception_v3(pretrained=True)\n",
    "        self.model.eval()\n",
    "\n",
    "        if torch.cuda.is_available():\n",
    "            self.model = self.model.cuda()\n",
    "\n",
    "    def extract_features(self, image, bbox):\n",
    "        x, y, w, h = bbox\n",
    "        image = Image.open(image)\n",
    "        image = image.crop((x, y, x+w, y+h))\n",
    "        image = self.transform(image)\n",
    "        image = image.unsqueeze(0)\n",
    "\n",
    "        if torch.cuda.is_available():\n",
    "            image = image.cuda()\n",
    "\n",
    "        with torch.no_grad():\n",
    "            features = self.model(image)\n",
    "\n",
    "        return features.cpu().numpy()\n"
   ]
  },
  {
   "cell_type": "code",
   "execution_count": 6,
   "metadata": {},
   "outputs": [
    {
     "name": "stderr",
     "output_type": "stream",
     "text": [
      "c:\\Users\\KM_AI_90\\anaconda3\\envs\\berry_detection\\Lib\\site-packages\\torchvision\\models\\_utils.py:208: UserWarning: The parameter 'pretrained' is deprecated since 0.13 and may be removed in the future, please use 'weights' instead.\n",
      "  warnings.warn(\n",
      "c:\\Users\\KM_AI_90\\anaconda3\\envs\\berry_detection\\Lib\\site-packages\\torchvision\\models\\_utils.py:223: UserWarning: Arguments other than a weight enum or `None` for 'weights' are deprecated since 0.13 and may be removed in the future. The current behavior is equivalent to passing `weights=Inception_V3_Weights.IMAGENET1K_V1`. You can also use `weights=Inception_V3_Weights.DEFAULT` to get the most up-to-date weights.\n",
      "  warnings.warn(msg)\n"
     ]
    },
    {
     "ename": "ZeroDivisionError",
     "evalue": "division by zero",
     "output_type": "error",
     "traceback": [
      "\u001b[1;31m---------------------------------------------------------------------------\u001b[0m",
      "\u001b[1;31mZeroDivisionError\u001b[0m                         Traceback (most recent call last)",
      "Cell \u001b[1;32mIn[6], line 10\u001b[0m\n\u001b[0;32m      7\u001b[0m     bbox \u001b[38;5;241m=\u001b[39m (row[\u001b[38;5;124m'\u001b[39m\u001b[38;5;124mbbox_x\u001b[39m\u001b[38;5;124m'\u001b[39m], row[\u001b[38;5;124m'\u001b[39m\u001b[38;5;124mbbox_y\u001b[39m\u001b[38;5;124m'\u001b[39m], row[\u001b[38;5;124m'\u001b[39m\u001b[38;5;124mbbox_width\u001b[39m\u001b[38;5;124m'\u001b[39m], row[\u001b[38;5;124m'\u001b[39m\u001b[38;5;124mbbox_height\u001b[39m\u001b[38;5;124m'\u001b[39m])\n\u001b[0;32m      9\u001b[0m     image_path \u001b[38;5;241m=\u001b[39m os\u001b[38;5;241m.\u001b[39mpath\u001b[38;5;241m.\u001b[39mjoin(folder_path, file_name)\n\u001b[1;32m---> 10\u001b[0m     features \u001b[38;5;241m=\u001b[39m extractor\u001b[38;5;241m.\u001b[39mextract_features(image_path, bbox)\n\u001b[0;32m     11\u001b[0m     features_list\u001b[38;5;241m.\u001b[39mappend(features)\n\u001b[0;32m     13\u001b[0m features_array \u001b[38;5;241m=\u001b[39m np\u001b[38;5;241m.\u001b[39marray(features_list)\n",
      "Cell \u001b[1;32mIn[5], line 21\u001b[0m, in \u001b[0;36mPartImageExtractor.extract_features\u001b[1;34m(self, image, bbox)\u001b[0m\n\u001b[0;32m     19\u001b[0m image \u001b[38;5;241m=\u001b[39m Image\u001b[38;5;241m.\u001b[39mopen(image)\n\u001b[0;32m     20\u001b[0m image \u001b[38;5;241m=\u001b[39m image\u001b[38;5;241m.\u001b[39mcrop((x, y, x\u001b[38;5;241m+\u001b[39mw, y\u001b[38;5;241m+\u001b[39mh))\n\u001b[1;32m---> 21\u001b[0m image \u001b[38;5;241m=\u001b[39m \u001b[38;5;28mself\u001b[39m\u001b[38;5;241m.\u001b[39mtransform(image)\n\u001b[0;32m     22\u001b[0m image \u001b[38;5;241m=\u001b[39m image\u001b[38;5;241m.\u001b[39munsqueeze(\u001b[38;5;241m0\u001b[39m)\n\u001b[0;32m     24\u001b[0m \u001b[38;5;28;01mif\u001b[39;00m torch\u001b[38;5;241m.\u001b[39mcuda\u001b[38;5;241m.\u001b[39mis_available():\n",
      "File \u001b[1;32mc:\\Users\\KM_AI_90\\anaconda3\\envs\\berry_detection\\Lib\\site-packages\\torchvision\\transforms\\transforms.py:95\u001b[0m, in \u001b[0;36mCompose.__call__\u001b[1;34m(self, img)\u001b[0m\n\u001b[0;32m     93\u001b[0m \u001b[38;5;28;01mdef\u001b[39;00m \u001b[38;5;21m__call__\u001b[39m(\u001b[38;5;28mself\u001b[39m, img):\n\u001b[0;32m     94\u001b[0m     \u001b[38;5;28;01mfor\u001b[39;00m t \u001b[38;5;129;01min\u001b[39;00m \u001b[38;5;28mself\u001b[39m\u001b[38;5;241m.\u001b[39mtransforms:\n\u001b[1;32m---> 95\u001b[0m         img \u001b[38;5;241m=\u001b[39m t(img)\n\u001b[0;32m     96\u001b[0m     \u001b[38;5;28;01mreturn\u001b[39;00m img\n",
      "File \u001b[1;32mc:\\Users\\KM_AI_90\\anaconda3\\envs\\berry_detection\\Lib\\site-packages\\torch\\nn\\modules\\module.py:1511\u001b[0m, in \u001b[0;36mModule._wrapped_call_impl\u001b[1;34m(self, *args, **kwargs)\u001b[0m\n\u001b[0;32m   1509\u001b[0m     \u001b[38;5;28;01mreturn\u001b[39;00m \u001b[38;5;28mself\u001b[39m\u001b[38;5;241m.\u001b[39m_compiled_call_impl(\u001b[38;5;241m*\u001b[39margs, \u001b[38;5;241m*\u001b[39m\u001b[38;5;241m*\u001b[39mkwargs)  \u001b[38;5;66;03m# type: ignore[misc]\u001b[39;00m\n\u001b[0;32m   1510\u001b[0m \u001b[38;5;28;01melse\u001b[39;00m:\n\u001b[1;32m-> 1511\u001b[0m     \u001b[38;5;28;01mreturn\u001b[39;00m \u001b[38;5;28mself\u001b[39m\u001b[38;5;241m.\u001b[39m_call_impl(\u001b[38;5;241m*\u001b[39margs, \u001b[38;5;241m*\u001b[39m\u001b[38;5;241m*\u001b[39mkwargs)\n",
      "File \u001b[1;32mc:\\Users\\KM_AI_90\\anaconda3\\envs\\berry_detection\\Lib\\site-packages\\torch\\nn\\modules\\module.py:1520\u001b[0m, in \u001b[0;36mModule._call_impl\u001b[1;34m(self, *args, **kwargs)\u001b[0m\n\u001b[0;32m   1515\u001b[0m \u001b[38;5;66;03m# If we don't have any hooks, we want to skip the rest of the logic in\u001b[39;00m\n\u001b[0;32m   1516\u001b[0m \u001b[38;5;66;03m# this function, and just call forward.\u001b[39;00m\n\u001b[0;32m   1517\u001b[0m \u001b[38;5;28;01mif\u001b[39;00m \u001b[38;5;129;01mnot\u001b[39;00m (\u001b[38;5;28mself\u001b[39m\u001b[38;5;241m.\u001b[39m_backward_hooks \u001b[38;5;129;01mor\u001b[39;00m \u001b[38;5;28mself\u001b[39m\u001b[38;5;241m.\u001b[39m_backward_pre_hooks \u001b[38;5;129;01mor\u001b[39;00m \u001b[38;5;28mself\u001b[39m\u001b[38;5;241m.\u001b[39m_forward_hooks \u001b[38;5;129;01mor\u001b[39;00m \u001b[38;5;28mself\u001b[39m\u001b[38;5;241m.\u001b[39m_forward_pre_hooks\n\u001b[0;32m   1518\u001b[0m         \u001b[38;5;129;01mor\u001b[39;00m _global_backward_pre_hooks \u001b[38;5;129;01mor\u001b[39;00m _global_backward_hooks\n\u001b[0;32m   1519\u001b[0m         \u001b[38;5;129;01mor\u001b[39;00m _global_forward_hooks \u001b[38;5;129;01mor\u001b[39;00m _global_forward_pre_hooks):\n\u001b[1;32m-> 1520\u001b[0m     \u001b[38;5;28;01mreturn\u001b[39;00m forward_call(\u001b[38;5;241m*\u001b[39margs, \u001b[38;5;241m*\u001b[39m\u001b[38;5;241m*\u001b[39mkwargs)\n\u001b[0;32m   1522\u001b[0m \u001b[38;5;28;01mtry\u001b[39;00m:\n\u001b[0;32m   1523\u001b[0m     result \u001b[38;5;241m=\u001b[39m \u001b[38;5;28;01mNone\u001b[39;00m\n",
      "File \u001b[1;32mc:\\Users\\KM_AI_90\\anaconda3\\envs\\berry_detection\\Lib\\site-packages\\torchvision\\transforms\\transforms.py:354\u001b[0m, in \u001b[0;36mResize.forward\u001b[1;34m(self, img)\u001b[0m\n\u001b[0;32m    346\u001b[0m \u001b[38;5;28;01mdef\u001b[39;00m \u001b[38;5;21mforward\u001b[39m(\u001b[38;5;28mself\u001b[39m, img):\n\u001b[0;32m    347\u001b[0m \u001b[38;5;250m    \u001b[39m\u001b[38;5;124;03m\"\"\"\u001b[39;00m\n\u001b[0;32m    348\u001b[0m \u001b[38;5;124;03m    Args:\u001b[39;00m\n\u001b[0;32m    349\u001b[0m \u001b[38;5;124;03m        img (PIL Image or Tensor): Image to be scaled.\u001b[39;00m\n\u001b[1;32m   (...)\u001b[0m\n\u001b[0;32m    352\u001b[0m \u001b[38;5;124;03m        PIL Image or Tensor: Rescaled image.\u001b[39;00m\n\u001b[0;32m    353\u001b[0m \u001b[38;5;124;03m    \"\"\"\u001b[39;00m\n\u001b[1;32m--> 354\u001b[0m     \u001b[38;5;28;01mreturn\u001b[39;00m F\u001b[38;5;241m.\u001b[39mresize(img, \u001b[38;5;28mself\u001b[39m\u001b[38;5;241m.\u001b[39msize, \u001b[38;5;28mself\u001b[39m\u001b[38;5;241m.\u001b[39minterpolation, \u001b[38;5;28mself\u001b[39m\u001b[38;5;241m.\u001b[39mmax_size, \u001b[38;5;28mself\u001b[39m\u001b[38;5;241m.\u001b[39mantialias)\n",
      "File \u001b[1;32mc:\\Users\\KM_AI_90\\anaconda3\\envs\\berry_detection\\Lib\\site-packages\\torchvision\\transforms\\functional.py:458\u001b[0m, in \u001b[0;36mresize\u001b[1;34m(img, size, interpolation, max_size, antialias)\u001b[0m\n\u001b[0;32m    456\u001b[0m \u001b[38;5;28;01mif\u001b[39;00m \u001b[38;5;28misinstance\u001b[39m(size, \u001b[38;5;28mint\u001b[39m):\n\u001b[0;32m    457\u001b[0m     size \u001b[38;5;241m=\u001b[39m [size]\n\u001b[1;32m--> 458\u001b[0m output_size \u001b[38;5;241m=\u001b[39m _compute_resized_output_size((image_height, image_width), size, max_size)\n\u001b[0;32m    460\u001b[0m \u001b[38;5;28;01mif\u001b[39;00m [image_height, image_width] \u001b[38;5;241m==\u001b[39m output_size:\n\u001b[0;32m    461\u001b[0m     \u001b[38;5;28;01mreturn\u001b[39;00m img\n",
      "File \u001b[1;32mc:\\Users\\KM_AI_90\\anaconda3\\envs\\berry_detection\\Lib\\site-packages\\torchvision\\transforms\\functional.py:360\u001b[0m, in \u001b[0;36m_compute_resized_output_size\u001b[1;34m(image_size, size, max_size)\u001b[0m\n\u001b[0;32m    357\u001b[0m short, long \u001b[38;5;241m=\u001b[39m (w, h) \u001b[38;5;28;01mif\u001b[39;00m w \u001b[38;5;241m<\u001b[39m\u001b[38;5;241m=\u001b[39m h \u001b[38;5;28;01melse\u001b[39;00m (h, w)\n\u001b[0;32m    358\u001b[0m requested_new_short \u001b[38;5;241m=\u001b[39m size \u001b[38;5;28;01mif\u001b[39;00m \u001b[38;5;28misinstance\u001b[39m(size, \u001b[38;5;28mint\u001b[39m) \u001b[38;5;28;01melse\u001b[39;00m size[\u001b[38;5;241m0\u001b[39m]\n\u001b[1;32m--> 360\u001b[0m new_short, new_long \u001b[38;5;241m=\u001b[39m requested_new_short, \u001b[38;5;28mint\u001b[39m(requested_new_short \u001b[38;5;241m*\u001b[39m long \u001b[38;5;241m/\u001b[39m short)\n\u001b[0;32m    362\u001b[0m \u001b[38;5;28;01mif\u001b[39;00m max_size \u001b[38;5;129;01mis\u001b[39;00m \u001b[38;5;129;01mnot\u001b[39;00m \u001b[38;5;28;01mNone\u001b[39;00m:\n\u001b[0;32m    363\u001b[0m     \u001b[38;5;28;01mif\u001b[39;00m max_size \u001b[38;5;241m<\u001b[39m\u001b[38;5;241m=\u001b[39m requested_new_short:\n",
      "\u001b[1;31mZeroDivisionError\u001b[0m: division by zero"
     ]
    }
   ],
   "source": [
    "extractor = PartImageExtractor()\n",
    "features_list = []\n",
    "\n",
    "for index, row in train_20.iterrows():\n",
    "    folder_path = row['folder_path']\n",
    "    file_name = row['file_name']\n",
    "    bbox = (row['bbox_x'], row['bbox_y'], row['bbox_width'], row['bbox_height'])\n",
    "\n",
    "    image_path = os.path.join(folder_path, file_name)\n",
    "    features = extractor.extract_features(image_path, bbox)\n",
    "    features_list.append(features)\n",
    "\n",
    "features_array = np.array(features_list)\n",
    "print(features_array.shape)"
   ]
  },
  {
   "cell_type": "code",
   "execution_count": 13,
   "metadata": {},
   "outputs": [
    {
     "data": {
      "text/html": [
       "<div>\n",
       "<style scoped>\n",
       "    .dataframe tbody tr th:only-of-type {\n",
       "        vertical-align: middle;\n",
       "    }\n",
       "\n",
       "    .dataframe tbody tr th {\n",
       "        vertical-align: top;\n",
       "    }\n",
       "\n",
       "    .dataframe thead th {\n",
       "        text-align: right;\n",
       "    }\n",
       "</style>\n",
       "<table border=\"1\" class=\"dataframe\">\n",
       "  <thead>\n",
       "    <tr style=\"text-align: right;\">\n",
       "      <th></th>\n",
       "      <th>file_id</th>\n",
       "      <th>folder_path</th>\n",
       "      <th>file_name</th>\n",
       "      <th>image_width</th>\n",
       "      <th>image_height</th>\n",
       "      <th>class</th>\n",
       "      <th>cause_method</th>\n",
       "      <th>ei_value</th>\n",
       "      <th>pl_value</th>\n",
       "      <th>el_value</th>\n",
       "      <th>pi_value</th>\n",
       "      <th>bbox</th>\n",
       "      <th>bbox_x</th>\n",
       "      <th>bbox_y</th>\n",
       "      <th>bbox_width</th>\n",
       "      <th>bbox_height</th>\n",
       "      <th>category_id</th>\n",
       "      <th>disease_status</th>\n",
       "      <th>name</th>\n",
       "      <th>object_status</th>\n",
       "    </tr>\n",
       "  </thead>\n",
       "  <tbody>\n",
       "  </tbody>\n",
       "</table>\n",
       "</div>"
      ],
      "text/plain": [
       "Empty DataFrame\n",
       "Columns: [file_id, folder_path, file_name, image_width, image_height, class, cause_method, ei_value, pl_value, el_value, pi_value, bbox, bbox_x, bbox_y, bbox_width, bbox_height, category_id, disease_status, name, object_status]\n",
       "Index: []"
      ]
     },
     "execution_count": 13,
     "metadata": {},
     "output_type": "execute_result"
    }
   ],
   "source": [
    "# 직전에 해결한 문제: bbox y or height 값이 음수로 표기된 데이터 문제\n",
    "    # 해당 컬럼 데이터에서 음수가 발견되는지 확인 -> 라벨 전처리 과정에서 bbox_y, bbox_height 값이 음수인 행 제외 처리함\n",
    "\n",
    "# division zero 원인 검토 1: bbox width or height가 0 또는 음수값이 있는지 확인\n",
    "    # 확인결과: 없음\n",
    "\n",
    "zero_or_under = train_20[(train_20['bbox_width'] <= 0) | (train_20['bbox_height'] <= 0)]\n",
    "zero_or_under"
   ]
  },
  {
   "cell_type": "code",
   "execution_count": 16,
   "metadata": {},
   "outputs": [],
   "source": [
    "# division zero 원인 검토 2: \"x + width\" or \"y + height\"가 실제 이미지의 너비, 높이를 초과하는지 확인\n",
    "    # 확인결과: 전체 데이터 중 32개 행에서 초과 문제 발생 -> 이 행들을 삭제하는 내용을 추가하여 라벨 전처리를 다시 수행해야 함.\n",
    "    # 추가 확인: \"x + width\" or \"y + height가 실제 이미지의 너비, 높이와 동일한 경우도 식별됨(약 860개 행)\n",
    "        # 대상 이미지에 해당 바운딩 박스를 그려보았을 때 단일 부위가 아닌 여러 부위들이 포함됨\n",
    "        # 결론: 해당 데이터들도 이상치로 간주하고 제외해야 함.\n",
    "\n",
    "size_check = train_20[['image_width', 'image_height', 'bbox_x', 'bbox_y', 'bbox_width', 'bbox_height']].copy()\n",
    "\n",
    "size_check['x_width'] = size_check['bbox_x'] + size_check['bbox_width']\n",
    "size_check['y_height'] = size_check['bbox_y'] + size_check['bbox_height']"
   ]
  },
  {
   "cell_type": "code",
   "execution_count": 18,
   "metadata": {},
   "outputs": [],
   "source": [
    "over_check = size_check[(size_check['image_width'] < size_check['x_width']) | (size_check['image_height'] < size_check['y_height'])]"
   ]
  },
  {
   "cell_type": "code",
   "execution_count": 20,
   "metadata": {},
   "outputs": [
    {
     "name": "stdout",
     "output_type": "stream",
     "text": [
      "32\n"
     ]
    }
   ],
   "source": [
    "print(len(over_check))"
   ]
  },
  {
   "cell_type": "code",
   "execution_count": 21,
   "metadata": {},
   "outputs": [],
   "source": [
    "train_100 = pd.read_csv('./data_preprocessed/label/train_label_20.csv', encoding='utf-8')"
   ]
  },
  {
   "cell_type": "code",
   "execution_count": 22,
   "metadata": {},
   "outputs": [],
   "source": [
    "image_width = train_100['image_width']\n",
    "image_height = train_100['image_height']\n",
    "x = train_100['bbox_x']\n",
    "y = train_100['bbox_y']\n",
    "width = train_100['bbox_width']\n",
    "height = train_100['bbox_height']\n",
    "\n",
    "total_check = train_100[(image_width < (x+width)) | (image_height < (y+height))]"
   ]
  },
  {
   "cell_type": "code",
   "execution_count": 23,
   "metadata": {},
   "outputs": [
    {
     "name": "stdout",
     "output_type": "stream",
     "text": [
      "32\n"
     ]
    }
   ],
   "source": [
    "print(len(total_check))"
   ]
  },
  {
   "cell_type": "code",
   "execution_count": 32,
   "metadata": {},
   "outputs": [
    {
     "name": "stdout",
     "output_type": "stream",
     "text": [
      "783\n",
      "81\n",
      "0\n",
      "242560\n",
      "242560\n",
      "             file_id                           folder_path  \\\n",
      "506  tr_normal_47649  ./data_raw/train_image/train_normal/   \n",
      "\n",
      "                          file_name  image_width  image_height   class  \\\n",
      "506  normal_55_008_221130091804.jpg          914          1585  normal   \n",
      "\n",
      "    cause_method  ei_value  pl_value  el_value  pi_value  \\\n",
      "506       normal      0.07       6.2       3.2      11.0   \n",
      "\n",
      "                                bbox  bbox_x  bbox_y  bbox_width  bbox_height  \\\n",
      "506  [606.36, 577.43, 307.64, 177.8]  606.36  577.43      307.64        177.8   \n",
      "\n",
      "     category_id disease_status  name object_status  \n",
      "506            3              N  leaf        normal  \n"
     ]
    }
   ],
   "source": [
    "train_100_test = train_100.copy()\n",
    "\n",
    "width_same = train_100_test[image_width == (x+width)]\n",
    "height_same = train_100_test[image_height == (y+height)]\n",
    "width_height_same = train_100_test[(image_width == (x+width)) & (image_height == (y+height))]\n",
    "\n",
    "print(len(width_same))\n",
    "print(len(height_same))\n",
    "print(len(width_height_same))\n",
    "print(len(train_100_test) - len(width_height_same))\n",
    "print(len(train_100_test))\n",
    "print(width_same.head(1))"
   ]
  },
  {
   "cell_type": "code",
   "execution_count": null,
   "metadata": {},
   "outputs": [],
   "source": [
    "# model build"
   ]
  },
  {
   "cell_type": "code",
   "execution_count": null,
   "metadata": {},
   "outputs": [],
   "source": [
    "# model train"
   ]
  },
  {
   "cell_type": "code",
   "execution_count": null,
   "metadata": {},
   "outputs": [],
   "source": [
    "# model validation and save"
   ]
  },
  {
   "cell_type": "code",
   "execution_count": null,
   "metadata": {},
   "outputs": [],
   "source": []
  },
  {
   "cell_type": "code",
   "execution_count": null,
   "metadata": {},
   "outputs": [],
   "source": []
  }
 ],
 "metadata": {
  "kernelspec": {
   "display_name": "berry_detection",
   "language": "python",
   "name": "python3"
  },
  "language_info": {
   "codemirror_mode": {
    "name": "ipython",
    "version": 3
   },
   "file_extension": ".py",
   "mimetype": "text/x-python",
   "name": "python",
   "nbconvert_exporter": "python",
   "pygments_lexer": "ipython3",
   "version": "3.11.8"
  }
 },
 "nbformat": 4,
 "nbformat_minor": 2
}
