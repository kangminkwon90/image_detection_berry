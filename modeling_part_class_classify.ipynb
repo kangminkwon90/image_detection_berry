{
 "cells": [
  {
   "cell_type": "code",
   "execution_count": 1,
   "metadata": {},
   "outputs": [
    {
     "data": {
      "text/plain": [
       "\"\\n*module 1: part_symptom_classifying.h5\\n\\n    * x_data: part image features: bboxes for each plant image -> extract features\\n    * y_data: part_status(Y: yes symptom, N: no symptom)\\n    * model pulpose: regardless which is in a certain part of plant, distinguish the status of input par\\n\\n*module 2: part_disease_class_classifying.h5\\n\\n    * x_data: same as module 1 but only use 'Y' labeled parts\\n    * y_data: disease_class data\\n    * module purpose: regardless which is in a certain part, distinguish the disease class of 'Y' labeled parts\\n\\n* module 1, 2 integrated structure(after modules trained)\\n    *input data: image[bbox1, bbox2,...]\\n    *module 1 prediction(input: image[])\\n        *prediction: image[N, Y, N, Y, ...]\\n        *classifying: \\n            if all image[i] == 'N' --> {normal(prediction finished)}\\n            else                   --> abnormal(go to module 2)\\n\\n            *module 2 prediction(input: abnormal([N, Y, N, Y])\\n                output_list = []\\n                *classifying:\\n                    if abnormal[] == 'N' --> output list.append() \\n\""
      ]
     },
     "execution_count": 1,
     "metadata": {},
     "output_type": "execute_result"
    }
   ],
   "source": [
    "## model modules for total detection model\n",
    "\n",
    "\"\"\"\n",
    "*module 1: part_symptom_classifying.h5\n",
    "\n",
    "    * x_data: part image features: bboxes for each plant image -> extract features\n",
    "    * y_data: part_status(Y: yes symptom, N: no symptom)\n",
    "    * model pulpose: regardless which is in a certain part of plant, distinguish the status of input par\n",
    "\n",
    "*module 2: part_disease_class_classifying.h5\n",
    "\n",
    "    * x_data: same as module 1 but only use 'Y' labeled parts\n",
    "    * y_data: disease_class data\n",
    "    * module purpose: regardless which is in a certain part, distinguish the disease class of 'Y' labeled parts\n",
    "\n",
    "* module 1, 2 integrated structure(after modules trained)(ex. blight)\n",
    "    *input data: image[bbox1, bbox2,...] -> 이 리스트를 순회하면서 개별 바운딩 박스에 대해 모듈 추론 적용후 결과 병합)\n",
    "        *module 1 prediction(input: image[])\n",
    "            *prediction: image[N, Y, N, Y, ...]\n",
    "            *classifying: \n",
    "                if all image[i] == 'N' --> {normal(output directly and start next loop)}\n",
    "                else                   --> abnormal(go to module 2)\n",
    "\n",
    "                *module 2 prediction(input: abnormal([N, Y, N, Y])\n",
    "                    output_list = []\n",
    "                    *classifying:\n",
    "                        if abnormal[] == 'N' --> output list.append() \n",
    "                        else                 --> output_list.append(predicted_class)\n",
    "\n",
    "    final_output:\n",
    "        *(normal): imagename = {bbox: [[bbox1], [bbox2],...], status: [N, N, ...], class: normal}\n",
    "        *(abnormal): imagename = {bbox: [[bbox1], [bbox2], ...], status: [N, Y, N, Y], class: blight}\n",
    "\n",
    "\"\"\""
   ]
  },
  {
   "cell_type": "code",
   "execution_count": 3,
   "metadata": {},
   "outputs": [],
   "source": [
    "# import lists\n",
    "\n",
    "import pandas as pd\n",
    "import numpy\n",
    "import os\n",
    "import torch\n",
    "from torchvision import models, transforms\n",
    "from PIL import Image\n",
    "import cv2"
   ]
  },
  {
   "cell_type": "code",
   "execution_count": null,
   "metadata": {},
   "outputs": [],
   "source": [
    "# label data load and define X, Y data"
   ]
  },
  {
   "cell_type": "code",
   "execution_count": null,
   "metadata": {},
   "outputs": [],
   "source": [
    "# part image extraction and image preprocess for CNN model"
   ]
  },
  {
   "cell_type": "code",
   "execution_count": null,
   "metadata": {},
   "outputs": [],
   "source": [
    "# model build"
   ]
  },
  {
   "cell_type": "code",
   "execution_count": null,
   "metadata": {},
   "outputs": [],
   "source": [
    "# model train"
   ]
  },
  {
   "cell_type": "code",
   "execution_count": null,
   "metadata": {},
   "outputs": [],
   "source": [
    "# model validation and save"
   ]
  },
  {
   "cell_type": "code",
   "execution_count": null,
   "metadata": {},
   "outputs": [],
   "source": []
  },
  {
   "cell_type": "code",
   "execution_count": null,
   "metadata": {},
   "outputs": [],
   "source": []
  }
 ],
 "metadata": {
  "kernelspec": {
   "display_name": "berry_detection",
   "language": "python",
   "name": "python3"
  },
  "language_info": {
   "codemirror_mode": {
    "name": "ipython",
    "version": 3
   },
   "file_extension": ".py",
   "mimetype": "text/x-python",
   "name": "python",
   "nbconvert_exporter": "python",
   "pygments_lexer": "ipython3",
   "version": "3.11.8"
  }
 },
 "nbformat": 4,
 "nbformat_minor": 2
}
