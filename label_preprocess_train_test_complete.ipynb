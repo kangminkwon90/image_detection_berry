{
 "cells": [
  {
   "cell_type": "code",
   "execution_count": 31,
   "metadata": {},
   "outputs": [],
   "source": [
    "# import tools\n",
    "\n",
    "import pandas as pd\n",
    "import numpy as np\n",
    "import os\n",
    "import ast\n",
    "import json"
   ]
  },
  {
   "cell_type": "code",
   "execution_count": 74,
   "metadata": {},
   "outputs": [
    {
     "name": "stderr",
     "output_type": "stream",
     "text": [
      "C:\\Users\\KM_AI_90\\AppData\\Local\\Temp\\ipykernel_15432\\1820309206.py:9: DtypeWarning: Columns (30,31,32,35,41) have mixed types. Specify dtype option on import or set low_memory=False.\n",
      "  tr_normal = pd.read_csv('./data_raw/train_label/merged_df/raw_en_normal.csv', encoding='utf-8')\n"
     ]
    }
   ],
   "source": [
    "# raw label load(train)\n",
    "\n",
    "vl_raw_normal = pd.read_csv('./data_raw/test_label/merged_df/vl_raw_en_normal.csv', encoding='utf-8')\n",
    "vl_raw_blight = pd.read_csv('./data_raw/test_label/merged_df/vl_raw_en_blight.csv', encoding='utf-8')\n",
    "vl_raw_wilt = pd.read_csv('./data_raw/test_label/merged_df/vl_raw_en_wilt.csv', encoding='utf-8')\n",
    "vl_raw_scorch = pd.read_csv('./data_raw/test_label/merged_df/vl_raw_en_scorch.csv', encoding='utf-8')\n",
    "vl_raw_chlorosis = pd.read_csv('./data_raw/test_label/merged_df/vl_raw_en_chlorosis.csv', encoding='utf-8')\n",
    "\n",
    "tr_normal = pd.read_csv('./data_raw/train_label/merged_df/raw_en_normal.csv', encoding='utf-8')\n",
    "tr_blight = pd.read_csv('./data_raw/train_label/merged_df/raw_en_blight.csv', encoding='utf-8')\n",
    "tr_wilt = pd.read_csv('./data_raw/train_label/merged_df/raw_en_wilt.csv', encoding='utf-8')\n",
    "tr_scorch = pd.read_csv('./data_raw/train_label/merged_df/raw_en_scorch.csv', encoding='utf-8')\n",
    "tr_chlorosis = pd.read_csv('./data_raw/train_label/merged_df/raw_en_chlorosis.csv', encoding='utf-8')"
   ]
  },
  {
   "cell_type": "code",
   "execution_count": 33,
   "metadata": {},
   "outputs": [],
   "source": [
    "def columns_selection(df, col_list):\n",
    "    df_sel = df[col_list].copy()\n",
    "    return df_sel"
   ]
  },
  {
   "cell_type": "code",
   "execution_count": 7,
   "metadata": {},
   "outputs": [
    {
     "name": "stdout",
     "output_type": "stream",
     "text": [
      "['역병주입']\n",
      "['수분제한60%']\n",
      "['EC 3.0' 'EC 0.75' 'pH 5.0' 'pH 7.5' '칼슘부족']\n",
      "['철결핍' '질소부족']\n"
     ]
    }
   ],
   "source": [
    "# print(blight_data['images.disease_cause_method'].unique())\n",
    "# print(wilt_data['images.disease_cause_method'].unique())\n",
    "# print(scorch_data['images.disease_cause_method'].unique())\n",
    "# print(chlorosis_data['images.disease_cause_method'].unique())"
   ]
  },
  {
   "cell_type": "code",
   "execution_count": 34,
   "metadata": {},
   "outputs": [],
   "source": [
    "## label preprocess functions\n",
    "\n",
    "def json_data_to_pandas(df, target_col, saving_col):\n",
    "    df[saving_col] = None\n",
    "    \n",
    "    for idx, row in df.iterrows():\n",
    "        json_str = row[target_col]\n",
    "        str_corrected = json_str.replace(\"None\", \"null\").replace(\"'\", \"\\\"\")\n",
    "        corrected_data = json.loads(str_corrected)\n",
    "        df.at[idx, saving_col] = corrected_data\n",
    "\n",
    "    dict_format = df[saving_col][0]\n",
    "    extraction_keys = dict_format[0].keys()\n",
    "    key_list = list(extraction_keys)\n",
    "    df_pandas_type = df.drop([target_col], axis=1)\n",
    "\n",
    "    print(type(df[saving_col]))\n",
    "    return df_pandas_type, key_list\n",
    "\n",
    "def extraction_env_values(df_pandas_type, key_list, target_col):\n",
    "    df = df_pandas_type\n",
    "    df['value_types'] = None\n",
    "    value_names = []\n",
    "\n",
    "    for i in range(len(key_list)):\n",
    "        candidate = key_list[i]\n",
    "        if candidate.endswith('_value'):\n",
    "            value_names.append(candidate)\n",
    "\n",
    "    for idx, row in df.iterrows():\n",
    "        value_dict = {}\n",
    "        dict_list = row[target_col]\n",
    "        for dictionary in dict_list:\n",
    "            for key, value in dictionary.items():\n",
    "                if key in value_names:\n",
    "                    if key not in value_dict:\n",
    "                        value_dict[key] = [value]\n",
    "                    else:\n",
    "                        value_dict[key].append(value)\n",
    "        df.at[idx, 'value_types'] = value_dict\n",
    "    \n",
    "    for idx, row in df.iterrows():\n",
    "        value_to_split = row['value_types']\n",
    "        for key, value in value_to_split.items():\n",
    "            if key not in df.columns:\n",
    "                df[key] = pd.NA\n",
    "            df.at[idx, key] = value\n",
    "\n",
    "    df_splited_env_values = df.drop([target_col, 'value_types'], axis=1)\n",
    "    print(df_splited_env_values.columns)\n",
    "    return df_splited_env_values\n",
    "\n",
    "def str_to_num(string_list):\n",
    "    if isinstance(string_list, str):\n",
    "        try:\n",
    "            list_obj = ast.literal_eval(string_list)\n",
    "        except ValueError:\n",
    "            return string_list\n",
    "    else:\n",
    "        list_obj = string_list\n",
    "\n",
    "    if all(item is None for item in list_obj):\n",
    "        return None\n",
    "    else:\n",
    "        list_num = [float(item) for item in list_obj if item is not None]\n",
    "        return list_num\n",
    "    \n",
    "def string_to_number(df):\n",
    "    col_list = [col for col in df.columns if col.endswith('_value')]\n",
    "    \n",
    "    for col in col_list:\n",
    "        df[col] = df[col].apply(str_to_num)\n",
    "        \n",
    "    return df\n",
    "\n",
    "def calculate_avg(df):\n",
    "    col_list = [col for col in df.columns if col.endswith('_value')]\n",
    "\n",
    "    for value_name in col_list:\n",
    "        for idx, row in df.iterrows():\n",
    "            values = row[value_name]\n",
    "            if values is not None:\n",
    "                df.at[idx, value_name] = np.mean(values)\n",
    "\n",
    "            else:\n",
    "                df.at[idx, value_name] = None\n",
    "\n",
    "    return df"
   ]
  },
  {
   "cell_type": "code",
   "execution_count": 35,
   "metadata": {},
   "outputs": [],
   "source": [
    "def data_split(df, target_col):\n",
    "    exploded_df = df.explode(target_col).reset_index(drop=True)\n",
    "    exploded_df = pd.concat([exploded_df.drop([target_col], axis=1),\n",
    "                             exploded_df[target_col].apply(pd.Series)], axis=1)\n",
    "    \n",
    "    return exploded_df"
   ]
  },
  {
   "cell_type": "code",
   "execution_count": 88,
   "metadata": {},
   "outputs": [],
   "source": [
    "def split_bbox(df):\n",
    "    df['bbox_x'] = df['bbox'].apply(lambda bbox: bbox[0])\n",
    "    df['bbox_y'] = df['bbox'].apply(lambda bbox: bbox[1])\n",
    "    df['bbox_width'] = df['bbox'].apply(lambda bbox: bbox[2])\n",
    "    df['bbox_height'] = df['bbox'].apply(lambda bbox: bbox[3])\n",
    "\n",
    "    return df\n",
    "\n",
    "def process_rest_values(df, class_kor, class_en):\n",
    "    df_cleaned = df.rename(columns={'images.fname':'file_name',\n",
    "                                    'images.width':'image_width',\n",
    "                                      'images.height':'image_height',\n",
    "                                        'images.disease_class':'class',\n",
    "                                          'images.disease_cause_method':'cause_method'})\n",
    "    \n",
    "    df_cleaned['cause_method']=df_cleaned['cause_method'].apply(lambda x: x.replace('칼슘부족','low_Ca'))\n",
    "    df_cleaned['cause_method']=df_cleaned['cause_method'].apply(lambda x: x.replace('질소부족','low_N'))\n",
    "    df_cleaned['cause_method']=df_cleaned['cause_method'].apply(lambda x: x.replace('철결핍','leck_Fe'))\n",
    "    df_cleaned['cause_method']=df_cleaned['cause_method'].apply(lambda x: x.replace('수분제한','water_'))\n",
    "    df_cleaned['cause_method']=df_cleaned['cause_method'].apply(lambda x: x.replace('주입','_injection'))    \n",
    "    df_cleaned['cause_method']=df_cleaned['cause_method'].apply(lambda x: x.replace(class_kor,class_en))\n",
    "    df_cleaned['disease_status']=df_cleaned['disease_status'].apply(lambda x: x.replace('E','Y'))\n",
    "    df_cleaned['class']=df_cleaned['class'].apply(lambda x: x.replace(class_kor, class_en))\n",
    "\n",
    "    replace_values = {'잎': 'leaf', '줄기': 'stem', '과실': 'fruit', '화방': 'flower'}\n",
    "    df_cleaned['name'] = df_cleaned['name'].replace(replace_values, regex=True)\n",
    "    df_cleaned = df_cleaned.drop(['ir_value', 'tl_value', 'rp_value'], axis=1)\n",
    "    df_cleaned = df_cleaned[(df_cleaned['bbox_y'] >= 0) & (df_cleaned['bbox_height'] >= 0)]\n",
    "    df_cleaned = df_cleaned[(df_cleaned['image_width'] > (df_cleaned['bbox_x'] + df_cleaned['bbox_width'])) & \n",
    "                            (df_cleaned['image_height'] > (df_cleaned['bbox_y'] + df_cleaned['bbox_height']))]\n",
    "    return df_cleaned"
   ]
  },
  {
   "cell_type": "code",
   "execution_count": 37,
   "metadata": {},
   "outputs": [],
   "source": [
    "# envrionments 컬럼 데이터 처리 통합 함수\n",
    "\n",
    "def process_col_environments(df, target_col, saving_col):\n",
    "    env_target, env_saving = target_col, saving_col\n",
    "    env_pandas, env_list = json_data_to_pandas(df, target_col=env_target, saving_col=env_saving)\n",
    "    env_values = extraction_env_values(env_pandas, env_list, env_saving)\n",
    "    env_values_num = string_to_number(env_values)\n",
    "    env_values_avg = calculate_avg(env_values_num)\n",
    "    \n",
    "    return env_values_avg"
   ]
  },
  {
   "cell_type": "code",
   "execution_count": 38,
   "metadata": {},
   "outputs": [],
   "source": [
    "# annotations, categories 컬럼 데이터 처리 통합 함수\n",
    "\n",
    "def process_col_annotations_categories(df, target_col_1, saving_col_1, target_col_2, saving_col_2):\n",
    "    df_anno = df.drop(['categories'], axis=1)\n",
    "    df_cat = df[['images.fname', 'categories']].copy()\n",
    "    anno_target, anno_saving = target_col_1, saving_col_1\n",
    "    cat_target, cat_saving = target_col_2, saving_col_2\n",
    "\n",
    "    anno_pandas, _ = json_data_to_pandas(df_anno, anno_target, anno_saving)\n",
    "    cat_pandas, _ = json_data_to_pandas(df_cat, cat_target, cat_saving)\n",
    "\n",
    "    anno_split = data_split(anno_pandas, target_col=anno_saving)\n",
    "    anno_split_sel = anno_split.drop(['coordinates', 'area', 'isCrowd',\n",
    "                                      'id', 'image_id'],\n",
    "                                      axis=1)\n",
    "    cat_split = data_split(cat_pandas, target_col=cat_saving)\n",
    "    anno_split_sel['category_id'] = cat_split['id']\n",
    "    anno_split_sel['name'] = cat_split['name']\n",
    "\n",
    "    return anno_split_sel"
   ]
  },
  {
   "cell_type": "code",
   "execution_count": 39,
   "metadata": {},
   "outputs": [],
   "source": [
    "def sampling_df(df, ratio):\n",
    "    total_rows = len(df)\n",
    "    sampling_rows_num = int(round((total_rows*ratio), -2))\n",
    "    sampled_df = df.tail(sampling_rows_num)\n",
    "    sampled_df = sampled_df.reset_index(drop=True)\n",
    "\n",
    "    return sampled_df"
   ]
  },
  {
   "cell_type": "code",
   "execution_count": 40,
   "metadata": {},
   "outputs": [],
   "source": [
    "## integrated label preprocess functions\n",
    "\n",
    "# 모든 대상 컬럼 데이터 처리 통합 함수\n",
    "    # 컬럼 규칙\n",
    "        # environments: environments -> env_values -> value_types -> 개별 컬럼들\n",
    "        # annotations: annotations -> anno_values -> 개별 컬럼들\n",
    "        # categories: categories -> cat_values -> 개별 컬럼들\n",
    "\n",
    "def label_preprocess(df, target_0, target_1, target_2, saving_0, saving_1, saving_2, class_kor, class_en):\n",
    "    processed_env = process_col_environments(df, target_0, saving_0)\n",
    "    processed_anno_cat = process_col_annotations_categories(processed_env, target_1, saving_1, target_2, saving_2)\n",
    "    processed_bbox = split_bbox(processed_anno_cat)\n",
    "    processed_data = process_rest_values(processed_bbox, class_kor, class_en)\n",
    "\n",
    "    return processed_data"
   ]
  },
  {
   "cell_type": "code",
   "execution_count": 14,
   "metadata": {},
   "outputs": [
    {
     "name": "stdout",
     "output_type": "stream",
     "text": [
      "<class 'pandas.core.series.Series'>\n",
      "Index(['annotations', 'categories', 'images.fname', 'images.width',\n",
      "       'images.height', 'images.disease_class', 'images.disease_cause_method',\n",
      "       'folder_path', 'ti_value', 'hi_value', 'ci_value', 'ir_value',\n",
      "       'tl_value', 'ei_value', 'pl_value', 'sr_value', 'cl_value', 'el_value',\n",
      "       'hl_value', 'pi_value', 'rp_value'],\n",
      "      dtype='object')\n",
      "<class 'pandas.core.series.Series'>\n",
      "<class 'pandas.core.series.Series'>\n",
      "<class 'pandas.core.series.Series'>\n",
      "Index(['annotations', 'categories', 'images.fname', 'images.width',\n",
      "       'images.height', 'images.disease_class', 'images.disease_cause_method',\n",
      "       'folder_path', 'ti_value', 'hi_value', 'ci_value', 'ir_value',\n",
      "       'tl_value', 'ei_value', 'pl_value', 'sr_value', 'cl_value', 'el_value',\n",
      "       'hl_value', 'pi_value', 'rp_value'],\n",
      "      dtype='object')\n",
      "<class 'pandas.core.series.Series'>\n",
      "<class 'pandas.core.series.Series'>\n",
      "<class 'pandas.core.series.Series'>\n",
      "Index(['annotations', 'categories', 'images.fname', 'images.width',\n",
      "       'images.height', 'images.disease_class', 'images.disease_cause_method',\n",
      "       'folder_path', 'ti_value', 'hi_value', 'ci_value', 'ir_value',\n",
      "       'tl_value', 'ei_value', 'pl_value', 'sr_value', 'cl_value', 'el_value',\n",
      "       'hl_value', 'pi_value', 'rp_value'],\n",
      "      dtype='object')\n",
      "<class 'pandas.core.series.Series'>\n",
      "<class 'pandas.core.series.Series'>\n",
      "<class 'pandas.core.series.Series'>\n",
      "Index(['annotations', 'categories', 'images.fname', 'images.width',\n",
      "       'images.height', 'images.disease_class', 'images.disease_cause_method',\n",
      "       'folder_path', 'ti_value', 'hi_value', 'ci_value', 'ir_value',\n",
      "       'tl_value', 'ei_value', 'pl_value', 'sr_value', 'cl_value', 'el_value',\n",
      "       'hl_value', 'pi_value', 'rp_value'],\n",
      "      dtype='object')\n",
      "<class 'pandas.core.series.Series'>\n",
      "<class 'pandas.core.series.Series'>\n",
      "<class 'pandas.core.series.Series'>\n",
      "Index(['annotations', 'categories', 'images.fname', 'images.width',\n",
      "       'images.height', 'images.disease_class', 'images.disease_cause_method',\n",
      "       'folder_path', 'ti_value', 'hi_value', 'ci_value', 'ir_value',\n",
      "       'tl_value', 'ei_value', 'pl_value', 'sr_value', 'cl_value', 'el_value',\n",
      "       'hl_value', 'pi_value', 'rp_value'],\n",
      "      dtype='object')\n",
      "<class 'pandas.core.series.Series'>\n",
      "<class 'pandas.core.series.Series'>\n"
     ]
    }
   ],
   "source": [
    "# train data preparation\n",
    "\n",
    "# normal_preprocessed = label_preprocess(normal_data, 'environments', 'annotations', 'categories', 'env_values', 'anno_values', 'cat_values', '정상', 'normal')\n",
    "# blight_preprocessed = label_preprocess(blight_data, 'environments', 'annotations', 'categories', 'env_values', 'anno_values', 'cat_values', '역병', 'blight')\n",
    "# wilt_preprocessed = label_preprocess(wilt_data, 'environments', 'annotations', 'categories', 'env_values', 'anno_values', 'cat_values', '시들음병', 'wilt')\n",
    "# scorch_preprocessed = label_preprocess(scorch_data, 'environments', 'annotations', 'categories', 'env_values', 'anno_values', 'cat_values', '잎끝마름', 'scorch')\n",
    "# chlorosis_preprocessed = label_preprocess(chlorosis_data, 'environments', 'annotations', 'categories', 'env_values', 'anno_values', 'cat_values', '황화', 'chlorosis')"
   ]
  },
  {
   "cell_type": "code",
   "execution_count": 27,
   "metadata": {},
   "outputs": [],
   "source": [
    "## 처리된 데이터 확인 및 컬럼 선별 추가작업\n",
    "    ### value 컬럼 선택: ei, pl, el, pi\n",
    "    ### 컬럼 추가, 변경\n",
    "        # object_status(추가): class=normal => normal, 나머지 => abnormal\n",
    "        # disease_status(변경): E => Y로 변경(보류)\n",
    "\n",
    "# selection = ['file_name', 'image_width', 'image_height', 'class', 'cause_method', 'folder_path', 'ei_value', 'pl_value', 'el_value', 'pi_value',\n",
    "#              'bbox', 'category_id', 'disease_status', 'name', 'bbox_x', 'bbox_y', 'bbox_width', 'bbox_height']\n",
    "\n",
    "# normal = normal_preprocessed[selection].copy()\n",
    "# blight = blight_preprocessed[selection].copy()\n",
    "# wilt = wilt_preprocessed[selection].copy()\n",
    "# scorch = scorch_preprocessed[selection].copy()\n",
    "# chlorosis = chlorosis_preprocessed[selection].copy()"
   ]
  },
  {
   "cell_type": "code",
   "execution_count": 28,
   "metadata": {},
   "outputs": [],
   "source": [
    "# normal['object_status'] = 'normal'\n",
    "# blight['object_status'] = 'abnormal'\n",
    "# wilt['object_status'] = 'abnormal'\n",
    "# scorch['object_status'] = 'abnormal'\n",
    "# chlorosis['object_status'] = 'abnormal'"
   ]
  },
  {
   "cell_type": "code",
   "execution_count": 30,
   "metadata": {},
   "outputs": [],
   "source": [
    "# train_20 = pd.concat([normal, blight, wilt, scorch, chlorosis], axis=0)"
   ]
  },
  {
   "cell_type": "code",
   "execution_count": 31,
   "metadata": {},
   "outputs": [
    {
     "name": "stdout",
     "output_type": "stream",
     "text": [
      "<class 'pandas.core.frame.DataFrame'>\n",
      "Index: 242562 entries, 0 to 27542\n",
      "Data columns (total 19 columns):\n",
      " #   Column          Non-Null Count   Dtype  \n",
      "---  ------          --------------   -----  \n",
      " 0   file_name       242562 non-null  object \n",
      " 1   image_width     242562 non-null  int64  \n",
      " 2   image_height    242562 non-null  int64  \n",
      " 3   class           242562 non-null  object \n",
      " 4   cause_method    242562 non-null  object \n",
      " 5   folder_path     242562 non-null  object \n",
      " 6   ei_value        242562 non-null  object \n",
      " 7   pl_value        242562 non-null  object \n",
      " 8   el_value        242562 non-null  object \n",
      " 9   pi_value        242562 non-null  object \n",
      " 10  bbox            242562 non-null  object \n",
      " 11  category_id     242562 non-null  int64  \n",
      " 12  disease_status  242562 non-null  object \n",
      " 13  name            242562 non-null  object \n",
      " 14  bbox_x          242562 non-null  float64\n",
      " 15  bbox_y          242562 non-null  float64\n",
      " 16  bbox_width      242562 non-null  float64\n",
      " 17  bbox_height     242562 non-null  float64\n",
      " 18  object_status   242562 non-null  object \n",
      "dtypes: float64(4), int64(3), object(12)\n",
      "memory usage: 37.0+ MB\n"
     ]
    }
   ],
   "source": [
    "# train_20.info()"
   ]
  },
  {
   "cell_type": "code",
   "execution_count": 33,
   "metadata": {},
   "outputs": [],
   "source": [
    "# train_20.to_csv('./data_preprocessed/label/train_20.csv', encoding='utf-8', index=False)"
   ]
  },
  {
   "cell_type": "code",
   "execution_count": 86,
   "metadata": {},
   "outputs": [],
   "source": [
    "# sampling and preprocessed df\n",
    "\n",
    "col_selection = ['environments', 'annotations', 'categories',\n",
    "                 'images.fname', 'images.width', 'images.height',\n",
    "                 'images.disease_class', 'images.disease_cause_method',\n",
    "                 'folder_path', 'file_id']\n",
    "\n",
    "final_selection = ['file_id', 'folder_path', 'file_name', 'image_width', 'image_height',\n",
    "                   'class', 'cause_method',\n",
    "                   'ei_value', 'pl_value', 'el_value', 'pi_value',\n",
    "                   'bbox','bbox_x', 'bbox_y', 'bbox_width', 'bbox_height',\n",
    "                   'category_id', 'disease_status', 'name']\n",
    "\n",
    "common_args = ['environments', 'annotations', 'categories', 'env_values', 'anno_values', 'cat_values']\n",
    "class_args = {\"normal\": [\"정상\", \"normal\"], \"blight\": [\"역병\", \"blight\"],\n",
    "              \"wilt\": [\"시들음병\", \"wilt\"], \"scorch\": [\"잎끝마름\", \"scorch\"],\n",
    "              \"chlorosis\": [\"황화\", \"chlorosis\"]}\n",
    "\n",
    "path_str = './data_preprocessed/label/'\n",
    "name_str = 'train_label'\n",
    "raw_df_list = [tr_normal, tr_blight, tr_wilt, tr_scorch, tr_chlorosis]\n",
    "\n",
    "\n",
    "def preprocessing_and_sampling(ratio, df_list, col_selection, final_selection, common_arg_list, class_arg_dict):\n",
    "    df_sel_list = []\n",
    "    df_sel_sampling_list = []\n",
    "    df_sel_final_list = []\n",
    "    class_args_list = list(class_arg_dict.values())\n",
    "\n",
    "    for df in df_list:\n",
    "        df_sel = columns_selection(df, col_selection)\n",
    "        df_sel_list.append(df_sel)\n",
    "        \n",
    "    for df_selected in df_sel_list:\n",
    "        df_sampled = sampling_df(df_selected, ratio)\n",
    "        df_sel_sampling_list.append(df_sampled)\n",
    "        \n",
    "    for sample, class_args in zip(df_sel_sampling_list, class_args_list):\n",
    "        df_processed = label_preprocess(sample, *common_arg_list, *class_args)\n",
    "        df_processed_cols = columns_selection(df_processed, final_selection)\n",
    "        if df_processed_cols['class'].unique() == 'normal':\n",
    "            df_processed_cols['object_status'] = 'normal'\n",
    "        else:\n",
    "            df_processed_cols['object_status'] = 'abnormal'\n",
    "\n",
    "        df_sel_final_list.append(df_processed_cols)\n",
    "        \n",
    "    df_preprocessed = pd.concat(df_sel_final_list, axis=0)\n",
    "\n",
    "    return df_preprocessed\n",
    "\n",
    "\n"
   ]
  },
  {
   "cell_type": "code",
   "execution_count": 100,
   "metadata": {},
   "outputs": [
    {
     "name": "stdout",
     "output_type": "stream",
     "text": [
      "<class 'pandas.core.series.Series'>\n",
      "Index(['annotations', 'categories', 'images.fname', 'images.width',\n",
      "       'images.height', 'images.disease_class', 'images.disease_cause_method',\n",
      "       'folder_path', 'file_id', 'ti_value', 'hi_value', 'ci_value',\n",
      "       'ir_value', 'tl_value', 'ei_value', 'pl_value', 'sr_value', 'cl_value',\n",
      "       'el_value', 'hl_value', 'pi_value', 'rp_value'],\n",
      "      dtype='object')\n",
      "<class 'pandas.core.series.Series'>\n",
      "<class 'pandas.core.series.Series'>\n",
      "<class 'pandas.core.series.Series'>\n",
      "Index(['annotations', 'categories', 'images.fname', 'images.width',\n",
      "       'images.height', 'images.disease_class', 'images.disease_cause_method',\n",
      "       'folder_path', 'file_id', 'ti_value', 'hi_value', 'ci_value',\n",
      "       'ir_value', 'tl_value', 'ei_value', 'pl_value', 'sr_value', 'cl_value',\n",
      "       'el_value', 'hl_value', 'pi_value', 'rp_value'],\n",
      "      dtype='object')\n",
      "<class 'pandas.core.series.Series'>\n",
      "<class 'pandas.core.series.Series'>\n",
      "<class 'pandas.core.series.Series'>\n",
      "Index(['annotations', 'categories', 'images.fname', 'images.width',\n",
      "       'images.height', 'images.disease_class', 'images.disease_cause_method',\n",
      "       'folder_path', 'file_id', 'ti_value', 'hi_value', 'ci_value',\n",
      "       'ir_value', 'tl_value', 'ei_value', 'pl_value', 'sr_value', 'cl_value',\n",
      "       'el_value', 'hl_value', 'pi_value', 'rp_value'],\n",
      "      dtype='object')\n",
      "<class 'pandas.core.series.Series'>\n",
      "<class 'pandas.core.series.Series'>\n",
      "<class 'pandas.core.series.Series'>\n",
      "Index(['annotations', 'categories', 'images.fname', 'images.width',\n",
      "       'images.height', 'images.disease_class', 'images.disease_cause_method',\n",
      "       'folder_path', 'file_id', 'ti_value', 'hi_value', 'ci_value',\n",
      "       'ir_value', 'tl_value', 'ei_value', 'pl_value', 'sr_value', 'cl_value',\n",
      "       'el_value', 'hl_value', 'pi_value', 'rp_value'],\n",
      "      dtype='object')\n",
      "<class 'pandas.core.series.Series'>\n",
      "<class 'pandas.core.series.Series'>\n",
      "<class 'pandas.core.series.Series'>\n",
      "Index(['annotations', 'categories', 'images.fname', 'images.width',\n",
      "       'images.height', 'images.disease_class', 'images.disease_cause_method',\n",
      "       'folder_path', 'file_id', 'ti_value', 'hi_value', 'ci_value',\n",
      "       'ir_value', 'tl_value', 'ei_value', 'pl_value', 'sr_value', 'cl_value',\n",
      "       'el_value', 'hl_value', 'pi_value', 'rp_value'],\n",
      "      dtype='object')\n",
      "<class 'pandas.core.series.Series'>\n",
      "<class 'pandas.core.series.Series'>\n",
      "train_label_20\n",
      "<class 'pandas.core.series.Series'>\n",
      "Index(['annotations', 'categories', 'images.fname', 'images.width',\n",
      "       'images.height', 'images.disease_class', 'images.disease_cause_method',\n",
      "       'folder_path', 'file_id', 'ti_value', 'hi_value', 'ci_value',\n",
      "       'ir_value', 'tl_value', 'ei_value', 'pl_value', 'sr_value', 'cl_value',\n",
      "       'el_value', 'hl_value', 'pi_value', 'rp_value'],\n",
      "      dtype='object')\n",
      "<class 'pandas.core.series.Series'>\n",
      "<class 'pandas.core.series.Series'>\n",
      "<class 'pandas.core.series.Series'>\n",
      "Index(['annotations', 'categories', 'images.fname', 'images.width',\n",
      "       'images.height', 'images.disease_class', 'images.disease_cause_method',\n",
      "       'folder_path', 'file_id', 'ti_value', 'hi_value', 'ci_value',\n",
      "       'ir_value', 'tl_value', 'ei_value', 'pl_value', 'sr_value', 'cl_value',\n",
      "       'el_value', 'hl_value', 'pi_value', 'rp_value'],\n",
      "      dtype='object')\n",
      "<class 'pandas.core.series.Series'>\n",
      "<class 'pandas.core.series.Series'>\n",
      "<class 'pandas.core.series.Series'>\n",
      "Index(['annotations', 'categories', 'images.fname', 'images.width',\n",
      "       'images.height', 'images.disease_class', 'images.disease_cause_method',\n",
      "       'folder_path', 'file_id', 'ti_value', 'hi_value', 'ci_value',\n",
      "       'ir_value', 'tl_value', 'ei_value', 'pl_value', 'sr_value', 'cl_value',\n",
      "       'el_value', 'hl_value', 'pi_value', 'rp_value'],\n",
      "      dtype='object')\n",
      "<class 'pandas.core.series.Series'>\n",
      "<class 'pandas.core.series.Series'>\n",
      "<class 'pandas.core.series.Series'>\n",
      "Index(['annotations', 'categories', 'images.fname', 'images.width',\n",
      "       'images.height', 'images.disease_class', 'images.disease_cause_method',\n",
      "       'folder_path', 'file_id', 'ti_value', 'hi_value', 'ci_value',\n",
      "       'ir_value', 'tl_value', 'ei_value', 'pl_value', 'sr_value', 'cl_value',\n",
      "       'el_value', 'hl_value', 'pi_value', 'rp_value'],\n",
      "      dtype='object')\n",
      "<class 'pandas.core.series.Series'>\n",
      "<class 'pandas.core.series.Series'>\n",
      "<class 'pandas.core.series.Series'>\n",
      "Index(['annotations', 'categories', 'images.fname', 'images.width',\n",
      "       'images.height', 'images.disease_class', 'images.disease_cause_method',\n",
      "       'folder_path', 'file_id', 'ti_value', 'hi_value', 'ci_value',\n",
      "       'ir_value', 'tl_value', 'ei_value', 'pl_value', 'sr_value', 'cl_value',\n",
      "       'el_value', 'hl_value', 'pi_value', 'rp_value'],\n",
      "      dtype='object')\n",
      "<class 'pandas.core.series.Series'>\n",
      "<class 'pandas.core.series.Series'>\n",
      "train_label_30\n",
      "<class 'pandas.core.series.Series'>\n",
      "Index(['annotations', 'categories', 'images.fname', 'images.width',\n",
      "       'images.height', 'images.disease_class', 'images.disease_cause_method',\n",
      "       'folder_path', 'file_id', 'ti_value', 'hi_value', 'ci_value',\n",
      "       'ir_value', 'tl_value', 'ei_value', 'pl_value', 'sr_value', 'cl_value',\n",
      "       'el_value', 'hl_value', 'pi_value', 'rp_value'],\n",
      "      dtype='object')\n",
      "<class 'pandas.core.series.Series'>\n",
      "<class 'pandas.core.series.Series'>\n",
      "<class 'pandas.core.series.Series'>\n",
      "Index(['annotations', 'categories', 'images.fname', 'images.width',\n",
      "       'images.height', 'images.disease_class', 'images.disease_cause_method',\n",
      "       'folder_path', 'file_id', 'ti_value', 'hi_value', 'ci_value',\n",
      "       'ir_value', 'tl_value', 'ei_value', 'pl_value', 'sr_value', 'cl_value',\n",
      "       'el_value', 'hl_value', 'pi_value', 'rp_value'],\n",
      "      dtype='object')\n",
      "<class 'pandas.core.series.Series'>\n",
      "<class 'pandas.core.series.Series'>\n",
      "<class 'pandas.core.series.Series'>\n",
      "Index(['annotations', 'categories', 'images.fname', 'images.width',\n",
      "       'images.height', 'images.disease_class', 'images.disease_cause_method',\n",
      "       'folder_path', 'file_id', 'ti_value', 'hi_value', 'ci_value',\n",
      "       'ir_value', 'tl_value', 'ei_value', 'pl_value', 'sr_value', 'cl_value',\n",
      "       'el_value', 'hl_value', 'pi_value', 'rp_value'],\n",
      "      dtype='object')\n",
      "<class 'pandas.core.series.Series'>\n",
      "<class 'pandas.core.series.Series'>\n",
      "<class 'pandas.core.series.Series'>\n",
      "Index(['annotations', 'categories', 'images.fname', 'images.width',\n",
      "       'images.height', 'images.disease_class', 'images.disease_cause_method',\n",
      "       'folder_path', 'file_id', 'ti_value', 'hi_value', 'ci_value',\n",
      "       'ir_value', 'tl_value', 'ei_value', 'pl_value', 'sr_value', 'cl_value',\n",
      "       'el_value', 'hl_value', 'pi_value', 'rp_value'],\n",
      "      dtype='object')\n",
      "<class 'pandas.core.series.Series'>\n",
      "<class 'pandas.core.series.Series'>\n",
      "<class 'pandas.core.series.Series'>\n",
      "Index(['annotations', 'categories', 'images.fname', 'images.width',\n",
      "       'images.height', 'images.disease_class', 'images.disease_cause_method',\n",
      "       'folder_path', 'file_id', 'ti_value', 'hi_value', 'ci_value',\n",
      "       'ir_value', 'tl_value', 'ei_value', 'pl_value', 'sr_value', 'cl_value',\n",
      "       'el_value', 'hl_value', 'pi_value', 'rp_value'],\n",
      "      dtype='object')\n",
      "<class 'pandas.core.series.Series'>\n",
      "<class 'pandas.core.series.Series'>\n",
      "train_label_40\n"
     ]
    }
   ],
   "source": [
    "# train_label_30 = preprocessing_and_sampling(ratio=0.3, df_list=raw_df_list,\n",
    "#                                             col_selection=col_selection, final_selection=final_selection,\n",
    "#                                             common_arg_list=common_args, class_arg_dict=class_args)\n",
    "\n",
    "# ratio_list = [0.2, 0.3, 0.4, 0.5, 0.6, 0.7, 0.8, 0.9, 1]\n",
    "# ratio_name_list = [20, 30, 40, 50, 60, 70, 80, 90, 100]\n",
    "\n",
    "ratio_list = [0.2, 0.3, 0.4]\n",
    "ratio_name_list = [20, 30, 40]\n",
    "arg_list = [raw_df_list, col_selection, final_selection, common_args, class_args]\n",
    "\n",
    "for ratio in ratio_list:\n",
    "    name = int(ratio*100)\n",
    "    saving = f\"./data_preprocessed/label/train_label_{name}.csv\"\n",
    "    train_label = preprocessing_and_sampling(ratio, *arg_list)\n",
    "    train_label.to_csv(saving, encoding='utf-8', index=False)\n",
    "    print(f\"train_label_{name}\")"
   ]
  },
  {
   "cell_type": "code",
   "execution_count": 34,
   "metadata": {},
   "outputs": [
    {
     "data": {
      "text/plain": [
       "object_status\n",
       "abnormal    229683\n",
       "normal      119756\n",
       "Name: count, dtype: int64"
      ]
     },
     "execution_count": 34,
     "metadata": {},
     "output_type": "execute_result"
    }
   ],
   "source": [
    "# train_label_30['object_status'].value_counts()"
   ]
  },
  {
   "cell_type": "code",
   "execution_count": 29,
   "metadata": {},
   "outputs": [
    {
     "data": {
      "text/plain": [
       "Index(['environments', 'annotations', 'licenses', 'categories',\n",
       "       'images.image_id', 'images.farm_id', 'images.crops_id', 'images.crops',\n",
       "       'images.kind_type', 'images.file_path', 'images.fname', 'images.fext',\n",
       "       'images.width', 'images.height', 'images.create_date',\n",
       "       'images.date_captured', 'images.growth_stage', 'images.leaf',\n",
       "       'images.disease_class', 'images.disease_cause',\n",
       "       'images.disease_cause_method', 'images.plant_body',\n",
       "       'growth_index.crops_id', 'growth_index.measured_date',\n",
       "       'growth_index.stem_length', 'growth_index.leaf_cnt',\n",
       "       'growth_index.leaf_width', 'growth_index.leaf_length',\n",
       "       'growth_index.stem_thick', 'growth_index.bloom1_date',\n",
       "       'growth_index.bloom2_date', 'growth_index.bloom3_date',\n",
       "       'growth_index.fr1_cnt', 'growth_index.fr2_cnt', 'growth_index.fr3_cnt',\n",
       "       'growth_index.fr_weight', 'etc_infor.crops_id', 'etc_infor.create_date',\n",
       "       'etc_infor.inform', 'images.stem', 'images.grpoint', 'images.fruit',\n",
       "       'images.flower', 'folder_path', 'image_id'],\n",
       "      dtype='object')"
      ]
     },
     "execution_count": 29,
     "metadata": {},
     "output_type": "execute_result"
    }
   ],
   "source": [
    "vl_raw_normal.columns"
   ]
  },
  {
   "cell_type": "code",
   "execution_count": 89,
   "metadata": {},
   "outputs": [],
   "source": [
    "# test data preparation\n",
    "\n",
    "col_selection = ['environments', 'annotations', 'categories', 'images.fname', 'images.width',\n",
    "                 'images.height', 'images.disease_class', 'images.disease_cause_method', 'folder_path', 'file_id']\n",
    "\n",
    "vl_normal_data = columns_selection(vl_raw_normal, col_selection)\n",
    "vl_blight_data = columns_selection(vl_raw_blight, col_selection)\n",
    "vl_wilt_data = columns_selection(vl_raw_wilt, col_selection)\n",
    "vl_scorch_data = columns_selection(vl_raw_scorch, col_selection)\n",
    "vl_chlorosis_data = columns_selection(vl_raw_chlorosis, col_selection)\n",
    "\n"
   ]
  },
  {
   "cell_type": "code",
   "execution_count": 90,
   "metadata": {},
   "outputs": [
    {
     "data": {
      "text/plain": [
       "'vl_normal_2'"
      ]
     },
     "execution_count": 90,
     "metadata": {},
     "output_type": "execute_result"
    }
   ],
   "source": [
    "vl_normal_data['file_id'][2]"
   ]
  },
  {
   "cell_type": "code",
   "execution_count": 91,
   "metadata": {},
   "outputs": [
    {
     "name": "stdout",
     "output_type": "stream",
     "text": [
      "<class 'pandas.core.series.Series'>\n",
      "Index(['annotations', 'categories', 'images.fname', 'images.width',\n",
      "       'images.height', 'images.disease_class', 'images.disease_cause_method',\n",
      "       'folder_path', 'file_id', 'ti_value', 'hi_value', 'ci_value',\n",
      "       'ir_value', 'tl_value', 'ei_value', 'pl_value', 'sr_value', 'cl_value',\n",
      "       'el_value', 'hl_value', 'pi_value', 'rp_value'],\n",
      "      dtype='object')\n",
      "<class 'pandas.core.series.Series'>\n",
      "<class 'pandas.core.series.Series'>\n",
      "<class 'pandas.core.series.Series'>\n",
      "Index(['annotations', 'categories', 'images.fname', 'images.width',\n",
      "       'images.height', 'images.disease_class', 'images.disease_cause_method',\n",
      "       'folder_path', 'file_id', 'ti_value', 'hi_value', 'ci_value',\n",
      "       'ir_value', 'tl_value', 'ei_value', 'pl_value', 'sr_value', 'cl_value',\n",
      "       'el_value', 'hl_value', 'pi_value', 'rp_value'],\n",
      "      dtype='object')\n",
      "<class 'pandas.core.series.Series'>\n",
      "<class 'pandas.core.series.Series'>\n",
      "<class 'pandas.core.series.Series'>\n",
      "Index(['annotations', 'categories', 'images.fname', 'images.width',\n",
      "       'images.height', 'images.disease_class', 'images.disease_cause_method',\n",
      "       'folder_path', 'file_id', 'ti_value', 'hi_value', 'ci_value',\n",
      "       'ir_value', 'tl_value', 'ei_value', 'pl_value', 'sr_value', 'cl_value',\n",
      "       'el_value', 'hl_value', 'pi_value', 'rp_value'],\n",
      "      dtype='object')\n",
      "<class 'pandas.core.series.Series'>\n",
      "<class 'pandas.core.series.Series'>\n",
      "<class 'pandas.core.series.Series'>\n",
      "Index(['annotations', 'categories', 'images.fname', 'images.width',\n",
      "       'images.height', 'images.disease_class', 'images.disease_cause_method',\n",
      "       'folder_path', 'file_id', 'ti_value', 'hi_value', 'ci_value',\n",
      "       'ir_value', 'tl_value', 'ei_value', 'pl_value', 'sr_value', 'cl_value',\n",
      "       'el_value', 'hl_value', 'pi_value', 'rp_value'],\n",
      "      dtype='object')\n",
      "<class 'pandas.core.series.Series'>\n",
      "<class 'pandas.core.series.Series'>\n",
      "<class 'pandas.core.series.Series'>\n",
      "Index(['annotations', 'categories', 'images.fname', 'images.width',\n",
      "       'images.height', 'images.disease_class', 'images.disease_cause_method',\n",
      "       'folder_path', 'file_id', 'ti_value', 'hi_value', 'ci_value',\n",
      "       'ir_value', 'tl_value', 'ei_value', 'pl_value', 'sr_value', 'cl_value',\n",
      "       'el_value', 'hl_value', 'pi_value', 'rp_value'],\n",
      "      dtype='object')\n",
      "<class 'pandas.core.series.Series'>\n",
      "<class 'pandas.core.series.Series'>\n"
     ]
    }
   ],
   "source": [
    "vl_normal_preprocessed = label_preprocess(vl_normal_data, 'environments', 'annotations', 'categories', 'env_values', 'anno_values', 'cat_values', '정상', 'normal')\n",
    "vl_blight_preprocessed = label_preprocess(vl_blight_data, 'environments', 'annotations', 'categories', 'env_values', 'anno_values', 'cat_values', '역병', 'blight')\n",
    "vl_wilt_preprocessed = label_preprocess(vl_wilt_data, 'environments', 'annotations', 'categories', 'env_values', 'anno_values', 'cat_values', '시들음병', 'wilt')\n",
    "vl_scorch_preprocessed = label_preprocess(vl_scorch_data, 'environments', 'annotations', 'categories', 'env_values', 'anno_values', 'cat_values', '잎끝마름', 'scorch')\n",
    "vl_chlorosis_preprocessed = label_preprocess(vl_chlorosis_data, 'environments', 'annotations', 'categories', 'env_values', 'anno_values', 'cat_values', '황화', 'chlorosis')"
   ]
  },
  {
   "cell_type": "code",
   "execution_count": 92,
   "metadata": {},
   "outputs": [
    {
     "data": {
      "text/plain": [
       "Index(['file_name', 'image_width', 'image_height', 'class', 'cause_method',\n",
       "       'folder_path', 'file_id', 'ti_value', 'hi_value', 'ci_value',\n",
       "       'ei_value', 'pl_value', 'sr_value', 'cl_value', 'el_value', 'hl_value',\n",
       "       'pi_value', 'bbox', 'category_id', 'disease_status', 'name', 'bbox_x',\n",
       "       'bbox_y', 'bbox_width', 'bbox_height'],\n",
       "      dtype='object')"
      ]
     },
     "execution_count": 92,
     "metadata": {},
     "output_type": "execute_result"
    }
   ],
   "source": [
    "vl_normal_preprocessed.columns"
   ]
  },
  {
   "cell_type": "code",
   "execution_count": 93,
   "metadata": {},
   "outputs": [],
   "source": [
    "selection = ['file_id', 'folder_path', 'file_name', 'image_width', 'image_height', 'class', 'cause_method', 'folder_path', 'ei_value', 'pl_value', 'el_value', 'pi_value',\n",
    "             'bbox', 'category_id', 'disease_status', 'name', 'bbox_x', 'bbox_y', 'bbox_width', 'bbox_height']\n",
    "\n",
    "vl_normal = vl_normal_preprocessed[selection].copy()\n",
    "vl_blight = vl_blight_preprocessed[selection].copy()\n",
    "vl_wilt = vl_wilt_preprocessed[selection].copy()\n",
    "vl_scorch = vl_scorch_preprocessed[selection].copy()\n",
    "vl_chlorosis = vl_chlorosis_preprocessed[selection].copy()\n",
    "\n",
    "vl_normal['object_status'] = 'normal'\n",
    "vl_blight['object_status'] = 'abnormal'\n",
    "vl_wilt['object_status'] = 'abnormal'\n",
    "vl_scorch['object_status'] = 'abnormal'\n",
    "vl_chlorosis['object_status'] = 'abnormal'\n",
    "\n",
    "test_label = pd.concat([vl_normal, vl_blight, vl_wilt, vl_scorch, vl_chlorosis], axis=0)"
   ]
  },
  {
   "cell_type": "code",
   "execution_count": 94,
   "metadata": {},
   "outputs": [],
   "source": [
    "## saving csv files\n",
    "\n",
    "test_label.to_csv('./data_preprocessed/label/test_label.csv', encoding='utf-8', index=False)"
   ]
  },
  {
   "cell_type": "code",
   "execution_count": 95,
   "metadata": {},
   "outputs": [],
   "source": [
    "def bbox_size_check(df):\n",
    "    check_size = df.copy()\n",
    "    image_width = check_size['image_width']\n",
    "    image_height = check_size['image_height']\n",
    "    bbox_width = check_size['bbox_x'] + check_size['bbox_width']\n",
    "    bbox_height = check_size['bbox_y'] + check_size['bbox_height']\n",
    "\n",
    "    width_same = check_size[image_width == bbox_width]\n",
    "    height_same = check_size[image_height == bbox_height]\n",
    "    all_same = check_size[(image_width == bbox_width) & (image_height == bbox_height)]\n",
    "\n",
    "    abnormal_nums = [len(width_same), len(height_same), len(all_same)]\n",
    "    return abnormal_nums"
   ]
  },
  {
   "cell_type": "code",
   "execution_count": 96,
   "metadata": {},
   "outputs": [
    {
     "name": "stdout",
     "output_type": "stream",
     "text": [
      "[0, 0, 0]\n"
     ]
    }
   ],
   "source": [
    "test_label_abnormal = bbox_size_check(test_label)\n",
    "print(test_label_abnormal)"
   ]
  },
  {
   "cell_type": "code",
   "execution_count": 101,
   "metadata": {},
   "outputs": [],
   "source": [
    "train_20 = pd.read_csv('./data_preprocessed/label/train_label_20.csv', encoding='utf-8')\n",
    "train_30 = pd.read_csv('./data_preprocessed/label/train_label_30.csv', encoding='utf-8')\n",
    "train_40 = pd.read_csv('./data_preprocessed/label/train_label_40.csv', encoding='utf-8')"
   ]
  },
  {
   "cell_type": "code",
   "execution_count": 102,
   "metadata": {},
   "outputs": [
    {
     "name": "stdout",
     "output_type": "stream",
     "text": [
      "[0, 0, 0]\n",
      "[0, 0, 0]\n",
      "[0, 0, 0]\n"
     ]
    }
   ],
   "source": [
    "abnormal_20 = bbox_size_check(train_20)\n",
    "abnormal_30 = bbox_size_check(train_30)\n",
    "abnormal_40 = bbox_size_check(train_40)\n",
    "\n",
    "print(abnormal_20)\n",
    "print(abnormal_30)\n",
    "print(abnormal_40)"
   ]
  },
  {
   "cell_type": "code",
   "execution_count": 7,
   "metadata": {},
   "outputs": [
    {
     "data": {
      "text/plain": [
       "disease_status\n",
       "N    127849\n",
       "Y     17545\n",
       "Name: count, dtype: int64"
      ]
     },
     "execution_count": 7,
     "metadata": {},
     "output_type": "execute_result"
    }
   ],
   "source": [
    "# test_label['disease_status'].value_counts()"
   ]
  },
  {
   "cell_type": "code",
   "execution_count": 8,
   "metadata": {},
   "outputs": [],
   "source": [
    "# train_label.to_csv('./data_preprocessed/label/train_20.csv', encoding='utf-8', index=False)\n",
    "# test_label.to_csv('./data_preprocessed/label/test_label.csv', encoding='utf-8', index=False)"
   ]
  },
  {
   "cell_type": "code",
   "execution_count": null,
   "metadata": {},
   "outputs": [],
   "source": []
  }
 ],
 "metadata": {
  "kernelspec": {
   "display_name": "berry_detection",
   "language": "python",
   "name": "python3"
  },
  "language_info": {
   "codemirror_mode": {
    "name": "ipython",
    "version": 3
   },
   "file_extension": ".py",
   "mimetype": "text/x-python",
   "name": "python",
   "nbconvert_exporter": "python",
   "pygments_lexer": "ipython3",
   "version": "3.11.8"
  }
 },
 "nbformat": 4,
 "nbformat_minor": 2
}
