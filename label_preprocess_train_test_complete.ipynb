{
 "cells": [
  {
   "cell_type": "code",
   "execution_count": 1,
   "metadata": {},
   "outputs": [],
   "source": [
    "# import tools\n",
    "\n",
    "import pandas as pd\n",
    "import numpy as np\n",
    "import os\n",
    "import ast\n",
    "import json"
   ]
  },
  {
   "cell_type": "code",
   "execution_count": 145,
   "metadata": {},
   "outputs": [
    {
     "name": "stderr",
     "output_type": "stream",
     "text": [
      "C:\\Users\\KM_AI_90\\AppData\\Local\\Temp\\ipykernel_16908\\1820309206.py:9: DtypeWarning: Columns (30,31,32,35,41) have mixed types. Specify dtype option on import or set low_memory=False.\n",
      "  tr_normal = pd.read_csv('./data_raw/train_label/merged_df/raw_en_normal.csv', encoding='utf-8')\n"
     ]
    }
   ],
   "source": [
    "# raw label load(train)\n",
    "\n",
    "vl_raw_normal = pd.read_csv('./data_raw/test_label/merged_df/vl_raw_en_normal.csv', encoding='utf-8')\n",
    "vl_raw_blight = pd.read_csv('./data_raw/test_label/merged_df/vl_raw_en_blight.csv', encoding='utf-8')\n",
    "vl_raw_wilt = pd.read_csv('./data_raw/test_label/merged_df/vl_raw_en_wilt.csv', encoding='utf-8')\n",
    "vl_raw_scorch = pd.read_csv('./data_raw/test_label/merged_df/vl_raw_en_scorch.csv', encoding='utf-8')\n",
    "vl_raw_chlorosis = pd.read_csv('./data_raw/test_label/merged_df/vl_raw_en_chlorosis.csv', encoding='utf-8')\n",
    "\n",
    "tr_normal = pd.read_csv('./data_raw/train_label/merged_df/raw_en_normal.csv', encoding='utf-8')\n",
    "tr_blight = pd.read_csv('./data_raw/train_label/merged_df/raw_en_blight.csv', encoding='utf-8')\n",
    "tr_wilt = pd.read_csv('./data_raw/train_label/merged_df/raw_en_wilt.csv', encoding='utf-8')\n",
    "tr_scorch = pd.read_csv('./data_raw/train_label/merged_df/raw_en_scorch.csv', encoding='utf-8')\n",
    "tr_chlorosis = pd.read_csv('./data_raw/train_label/merged_df/raw_en_chlorosis.csv', encoding='utf-8')"
   ]
  },
  {
   "cell_type": "code",
   "execution_count": 94,
   "metadata": {},
   "outputs": [],
   "source": [
    "def data_selection_by_date(df):\n",
    "    original = df.copy()\n",
    "    original_date = original['images.fname']\n",
    "    date_list = []\n",
    "\n",
    "    for date in original_date:\n",
    "        format_cut = date.replace('.jpg', '')\n",
    "        month_day = format_cut[:-6]\n",
    "        date_list.append(month_day)\n",
    "\n",
    "    df_date = pd.DataFrame({'month_day': date_list})\n",
    "\n",
    "    add_month_day = pd.concat([original, df_date], axis=1)\n",
    "\n",
    "    first_in = add_month_day.drop_duplicates(subset=['month_day'], keep='first').reset_index(drop=True)\n",
    "    last_in = add_month_day.drop_duplicates(subset=['month_day'], keep='last').reset_index(drop=True)\n",
    "\n",
    "    df_sel = pd.concat([first_in, last_in], axis=0).reset_index(drop=True)\n",
    "\n",
    "    return df_sel"
   ]
  },
  {
   "cell_type": "code",
   "execution_count": 51,
   "metadata": {},
   "outputs": [],
   "source": [
    "def columns_selection(df, col_list):\n",
    "    df_sel = df[col_list].copy()\n",
    "    return df_sel"
   ]
  },
  {
   "cell_type": "code",
   "execution_count": 7,
   "metadata": {},
   "outputs": [
    {
     "name": "stdout",
     "output_type": "stream",
     "text": [
      "['역병주입']\n",
      "['수분제한60%']\n",
      "['EC 3.0' 'EC 0.75' 'pH 5.0' 'pH 7.5' '칼슘부족']\n",
      "['철결핍' '질소부족']\n"
     ]
    }
   ],
   "source": [
    "# print(blight_data['images.disease_cause_method'].unique())\n",
    "# print(wilt_data['images.disease_cause_method'].unique())\n",
    "# print(scorch_data['images.disease_cause_method'].unique())\n",
    "# print(chlorosis_data['images.disease_cause_method'].unique())"
   ]
  },
  {
   "cell_type": "code",
   "execution_count": 52,
   "metadata": {},
   "outputs": [],
   "source": [
    "## label preprocess functions\n",
    "\n",
    "def json_data_to_pandas(df, target_col, saving_col):\n",
    "    df[saving_col] = None\n",
    "    \n",
    "    for idx, row in df.iterrows():\n",
    "        json_str = row[target_col]\n",
    "        str_corrected = json_str.replace(\"None\", \"null\").replace(\"'\", \"\\\"\")\n",
    "        corrected_data = json.loads(str_corrected)\n",
    "        df.at[idx, saving_col] = corrected_data\n",
    "\n",
    "    dict_format = df[saving_col][0]\n",
    "    extraction_keys = dict_format[0].keys()\n",
    "    key_list = list(extraction_keys)\n",
    "    df_pandas_type = df.drop([target_col], axis=1)\n",
    "\n",
    "    print(type(df[saving_col]))\n",
    "    return df_pandas_type, key_list\n",
    "\n",
    "def extraction_env_values(df_pandas_type, key_list, target_col):\n",
    "    df = df_pandas_type\n",
    "    df['value_types'] = None\n",
    "    value_names = []\n",
    "\n",
    "    for i in range(len(key_list)):\n",
    "        candidate = key_list[i]\n",
    "        if candidate.endswith('_value'):\n",
    "            value_names.append(candidate)\n",
    "\n",
    "    for idx, row in df.iterrows():\n",
    "        value_dict = {}\n",
    "        dict_list = row[target_col]\n",
    "        for dictionary in dict_list:\n",
    "            for key, value in dictionary.items():\n",
    "                if key in value_names:\n",
    "                    if key not in value_dict:\n",
    "                        value_dict[key] = [value]\n",
    "                    else:\n",
    "                        value_dict[key].append(value)\n",
    "        df.at[idx, 'value_types'] = value_dict\n",
    "    \n",
    "    for idx, row in df.iterrows():\n",
    "        value_to_split = row['value_types']\n",
    "        for key, value in value_to_split.items():\n",
    "            if key not in df.columns:\n",
    "                df[key] = pd.NA\n",
    "            df.at[idx, key] = value\n",
    "\n",
    "    df_splited_env_values = df.drop([target_col, 'value_types'], axis=1)\n",
    "    print(df_splited_env_values.columns)\n",
    "    return df_splited_env_values\n",
    "\n",
    "def str_to_num(string_list):\n",
    "    if isinstance(string_list, str):\n",
    "        try:\n",
    "            list_obj = ast.literal_eval(string_list)\n",
    "        except ValueError:\n",
    "            return string_list\n",
    "    else:\n",
    "        list_obj = string_list\n",
    "\n",
    "    if all(item is None for item in list_obj):\n",
    "        return None\n",
    "    else:\n",
    "        list_num = [float(item) for item in list_obj if item is not None]\n",
    "        return list_num\n",
    "    \n",
    "def string_to_number(df):\n",
    "    col_list = [col for col in df.columns if col.endswith('_value')]\n",
    "    \n",
    "    for col in col_list:\n",
    "        df[col] = df[col].apply(str_to_num)\n",
    "        \n",
    "    return df\n",
    "\n",
    "def calculate_avg(df):\n",
    "    col_list = [col for col in df.columns if col.endswith('_value')]\n",
    "\n",
    "    for value_name in col_list:\n",
    "        for idx, row in df.iterrows():\n",
    "            values = row[value_name]\n",
    "            if values is not None:\n",
    "                df.at[idx, value_name] = np.mean(values)\n",
    "\n",
    "            else:\n",
    "                df.at[idx, value_name] = None\n",
    "\n",
    "    return df"
   ]
  },
  {
   "cell_type": "code",
   "execution_count": 53,
   "metadata": {},
   "outputs": [],
   "source": [
    "def data_split(df, target_col):\n",
    "    exploded_df = df.explode(target_col).reset_index(drop=True)\n",
    "    exploded_df = pd.concat([exploded_df.drop([target_col], axis=1),\n",
    "                             exploded_df[target_col].apply(pd.Series)], axis=1)\n",
    "    \n",
    "    return exploded_df"
   ]
  },
  {
   "cell_type": "code",
   "execution_count": 151,
   "metadata": {},
   "outputs": [],
   "source": [
    "def split_bbox(df):\n",
    "    df['bbox_x'] = df['bbox'].apply(lambda bbox: bbox[0])\n",
    "    df['bbox_y'] = df['bbox'].apply(lambda bbox: bbox[1])\n",
    "    df['bbox_width'] = df['bbox'].apply(lambda bbox: bbox[2])\n",
    "    df['bbox_height'] = df['bbox'].apply(lambda bbox: bbox[3])\n",
    "    return df\n",
    "\n",
    "def process_rest_values(df, class_kor, class_en):\n",
    "    df_cleaned = df.rename(columns={'images.fname':'file_name',\n",
    "                                    'images.width':'image_width',\n",
    "                                      'images.height':'image_height',\n",
    "                                        'images.disease_class':'class',\n",
    "                                          'images.disease_cause_method':'cause_method'})\n",
    "    \n",
    "    df_cleaned['cause_method']=df_cleaned['cause_method'].apply(lambda x: x.replace('칼슘부족','low_Ca'))\n",
    "    df_cleaned['cause_method']=df_cleaned['cause_method'].apply(lambda x: x.replace('질소부족','low_N'))\n",
    "    df_cleaned['cause_method']=df_cleaned['cause_method'].apply(lambda x: x.replace('철결핍','leck_Fe'))\n",
    "    df_cleaned['cause_method']=df_cleaned['cause_method'].apply(lambda x: x.replace('수분제한','water_'))\n",
    "    df_cleaned['cause_method']=df_cleaned['cause_method'].apply(lambda x: x.replace('주입','_injection'))    \n",
    "    df_cleaned['cause_method']=df_cleaned['cause_method'].apply(lambda x: x.replace(class_kor,class_en))\n",
    "    df_cleaned['disease_status']=df_cleaned['disease_status'].apply(lambda x: x.replace('E','Y'))\n",
    "    df_cleaned['class']=df_cleaned['class'].apply(lambda x: x.replace(class_kor, class_en))\n",
    "\n",
    "    replace_values = {'잎': 'leaf', '줄기': 'stem', '과실': 'fruit', '화방': 'flower'}\n",
    "    df_cleaned['name'] = df_cleaned['name'].replace(replace_values, regex=True)\n",
    "    df_cleaned = df_cleaned.drop(['ir_value', 'tl_value', 'rp_value'], axis=1)\n",
    "    df_cleaned = df_cleaned[(df_cleaned['bbox_y'] >= 0) & (df_cleaned['bbox_height'] >= 0)]\n",
    "    df_cleaned = df_cleaned[(df_cleaned['image_width'] > (df_cleaned['bbox_x'] + df_cleaned['bbox_width'])) & \n",
    "                            (df_cleaned['image_height'] > (df_cleaned['bbox_y'] + df_cleaned['bbox_height']))]\n",
    "    return df_cleaned"
   ]
  },
  {
   "cell_type": "code",
   "execution_count": 55,
   "metadata": {},
   "outputs": [],
   "source": [
    "# envrionments 컬럼 데이터 처리 통합 함수\n",
    "\n",
    "def process_col_environments(df, target_col, saving_col):\n",
    "    env_target, env_saving = target_col, saving_col\n",
    "    env_pandas, env_list = json_data_to_pandas(df, target_col=env_target, saving_col=env_saving)\n",
    "    env_values = extraction_env_values(env_pandas, env_list, env_saving)\n",
    "    env_values_num = string_to_number(env_values)\n",
    "    env_values_avg = calculate_avg(env_values_num)\n",
    "    \n",
    "    return env_values_avg"
   ]
  },
  {
   "cell_type": "code",
   "execution_count": 56,
   "metadata": {},
   "outputs": [],
   "source": [
    "# annotations, categories 컬럼 데이터 처리 통합 함수\n",
    "\n",
    "def process_col_annotations_categories(df, target_col_1, saving_col_1, target_col_2, saving_col_2):\n",
    "    df_anno = df.drop(['categories'], axis=1)\n",
    "    df_cat = df[['images.fname', 'categories']].copy()\n",
    "    anno_target, anno_saving = target_col_1, saving_col_1\n",
    "    cat_target, cat_saving = target_col_2, saving_col_2\n",
    "\n",
    "    anno_pandas, _ = json_data_to_pandas(df_anno, anno_target, anno_saving)\n",
    "    cat_pandas, _ = json_data_to_pandas(df_cat, cat_target, cat_saving)\n",
    "\n",
    "    anno_split = data_split(anno_pandas, target_col=anno_saving)\n",
    "    anno_split_sel = anno_split.drop(['coordinates', 'area', 'isCrowd',\n",
    "                                      'id', 'image_id'],\n",
    "                                      axis=1)\n",
    "    cat_split = data_split(cat_pandas, target_col=cat_saving)\n",
    "    anno_split_sel['category_id'] = cat_split['id']\n",
    "    anno_split_sel['name'] = cat_split['name']\n",
    "\n",
    "    return anno_split_sel"
   ]
  },
  {
   "cell_type": "code",
   "execution_count": 57,
   "metadata": {},
   "outputs": [],
   "source": [
    "def sampling_df(df, ratio):\n",
    "    total_rows = len(df)\n",
    "    sampling_rows_num = int(round((total_rows*ratio), -2))\n",
    "    sampled_df = df.tail(sampling_rows_num)\n",
    "    sampled_df = sampled_df.reset_index(drop=True)\n",
    "\n",
    "    return sampled_df"
   ]
  },
  {
   "cell_type": "code",
   "execution_count": 58,
   "metadata": {},
   "outputs": [],
   "source": [
    "## integrated label preprocess functions\n",
    "\n",
    "# 모든 대상 컬럼 데이터 처리 통합 함수\n",
    "    # 컬럼 규칙\n",
    "        # environments: environments -> env_values -> value_types -> 개별 컬럼들\n",
    "        # annotations: annotations -> anno_values -> 개별 컬럼들\n",
    "        # categories: categories -> cat_values -> 개별 컬럼들\n",
    "\n",
    "def label_preprocess(df, target_0, target_1, target_2, saving_0, saving_1, saving_2, class_kor, class_en):\n",
    "    processed_env = process_col_environments(df, target_0, saving_0)\n",
    "    processed_anno_cat = process_col_annotations_categories(processed_env, target_1, saving_1, target_2, saving_2)\n",
    "    processed_bbox = split_bbox(processed_anno_cat)\n",
    "    processed_data = process_rest_values(processed_bbox, class_kor, class_en)\n",
    "\n",
    "    return processed_data"
   ]
  },
  {
   "cell_type": "code",
   "execution_count": 14,
   "metadata": {},
   "outputs": [
    {
     "name": "stdout",
     "output_type": "stream",
     "text": [
      "<class 'pandas.core.series.Series'>\n",
      "Index(['annotations', 'categories', 'images.fname', 'images.width',\n",
      "       'images.height', 'images.disease_class', 'images.disease_cause_method',\n",
      "       'folder_path', 'ti_value', 'hi_value', 'ci_value', 'ir_value',\n",
      "       'tl_value', 'ei_value', 'pl_value', 'sr_value', 'cl_value', 'el_value',\n",
      "       'hl_value', 'pi_value', 'rp_value'],\n",
      "      dtype='object')\n",
      "<class 'pandas.core.series.Series'>\n",
      "<class 'pandas.core.series.Series'>\n",
      "<class 'pandas.core.series.Series'>\n",
      "Index(['annotations', 'categories', 'images.fname', 'images.width',\n",
      "       'images.height', 'images.disease_class', 'images.disease_cause_method',\n",
      "       'folder_path', 'ti_value', 'hi_value', 'ci_value', 'ir_value',\n",
      "       'tl_value', 'ei_value', 'pl_value', 'sr_value', 'cl_value', 'el_value',\n",
      "       'hl_value', 'pi_value', 'rp_value'],\n",
      "      dtype='object')\n",
      "<class 'pandas.core.series.Series'>\n",
      "<class 'pandas.core.series.Series'>\n",
      "<class 'pandas.core.series.Series'>\n",
      "Index(['annotations', 'categories', 'images.fname', 'images.width',\n",
      "       'images.height', 'images.disease_class', 'images.disease_cause_method',\n",
      "       'folder_path', 'ti_value', 'hi_value', 'ci_value', 'ir_value',\n",
      "       'tl_value', 'ei_value', 'pl_value', 'sr_value', 'cl_value', 'el_value',\n",
      "       'hl_value', 'pi_value', 'rp_value'],\n",
      "      dtype='object')\n",
      "<class 'pandas.core.series.Series'>\n",
      "<class 'pandas.core.series.Series'>\n",
      "<class 'pandas.core.series.Series'>\n",
      "Index(['annotations', 'categories', 'images.fname', 'images.width',\n",
      "       'images.height', 'images.disease_class', 'images.disease_cause_method',\n",
      "       'folder_path', 'ti_value', 'hi_value', 'ci_value', 'ir_value',\n",
      "       'tl_value', 'ei_value', 'pl_value', 'sr_value', 'cl_value', 'el_value',\n",
      "       'hl_value', 'pi_value', 'rp_value'],\n",
      "      dtype='object')\n",
      "<class 'pandas.core.series.Series'>\n",
      "<class 'pandas.core.series.Series'>\n",
      "<class 'pandas.core.series.Series'>\n",
      "Index(['annotations', 'categories', 'images.fname', 'images.width',\n",
      "       'images.height', 'images.disease_class', 'images.disease_cause_method',\n",
      "       'folder_path', 'ti_value', 'hi_value', 'ci_value', 'ir_value',\n",
      "       'tl_value', 'ei_value', 'pl_value', 'sr_value', 'cl_value', 'el_value',\n",
      "       'hl_value', 'pi_value', 'rp_value'],\n",
      "      dtype='object')\n",
      "<class 'pandas.core.series.Series'>\n",
      "<class 'pandas.core.series.Series'>\n"
     ]
    }
   ],
   "source": [
    "# train data preparation\n",
    "\n",
    "# normal_preprocessed = label_preprocess(normal_data, 'environments', 'annotations', 'categories', 'env_values', 'anno_values', 'cat_values', '정상', 'normal')\n",
    "# blight_preprocessed = label_preprocess(blight_data, 'environments', 'annotations', 'categories', 'env_values', 'anno_values', 'cat_values', '역병', 'blight')\n",
    "# wilt_preprocessed = label_preprocess(wilt_data, 'environments', 'annotations', 'categories', 'env_values', 'anno_values', 'cat_values', '시들음병', 'wilt')\n",
    "# scorch_preprocessed = label_preprocess(scorch_data, 'environments', 'annotations', 'categories', 'env_values', 'anno_values', 'cat_values', '잎끝마름', 'scorch')\n",
    "# chlorosis_preprocessed = label_preprocess(chlorosis_data, 'environments', 'annotations', 'categories', 'env_values', 'anno_values', 'cat_values', '황화', 'chlorosis')"
   ]
  },
  {
   "cell_type": "code",
   "execution_count": 27,
   "metadata": {},
   "outputs": [],
   "source": [
    "## 처리된 데이터 확인 및 컬럼 선별 추가작업\n",
    "    ### value 컬럼 선택: ei, pl, el, pi\n",
    "    ### 컬럼 추가, 변경\n",
    "        # object_status(추가): class=normal => normal, 나머지 => abnormal\n",
    "        # disease_status(변경): E => Y로 변경(보류)\n",
    "\n",
    "# selection = ['file_name', 'image_width', 'image_height', 'class', 'cause_method', 'folder_path', 'ei_value', 'pl_value', 'el_value', 'pi_value',\n",
    "#              'bbox', 'category_id', 'disease_status', 'name', 'bbox_x', 'bbox_y', 'bbox_width', 'bbox_height']\n",
    "\n",
    "# normal = normal_preprocessed[selection].copy()\n",
    "# blight = blight_preprocessed[selection].copy()\n",
    "# wilt = wilt_preprocessed[selection].copy()\n",
    "# scorch = scorch_preprocessed[selection].copy()\n",
    "# chlorosis = chlorosis_preprocessed[selection].copy()"
   ]
  },
  {
   "cell_type": "code",
   "execution_count": 28,
   "metadata": {},
   "outputs": [],
   "source": [
    "# normal['object_status'] = 'normal'\n",
    "# blight['object_status'] = 'abnormal'\n",
    "# wilt['object_status'] = 'abnormal'\n",
    "# scorch['object_status'] = 'abnormal'\n",
    "# chlorosis['object_status'] = 'abnormal'"
   ]
  },
  {
   "cell_type": "code",
   "execution_count": 30,
   "metadata": {},
   "outputs": [],
   "source": [
    "# train_20 = pd.concat([normal, blight, wilt, scorch, chlorosis], axis=0)"
   ]
  },
  {
   "cell_type": "code",
   "execution_count": 31,
   "metadata": {},
   "outputs": [
    {
     "name": "stdout",
     "output_type": "stream",
     "text": [
      "<class 'pandas.core.frame.DataFrame'>\n",
      "Index: 242562 entries, 0 to 27542\n",
      "Data columns (total 19 columns):\n",
      " #   Column          Non-Null Count   Dtype  \n",
      "---  ------          --------------   -----  \n",
      " 0   file_name       242562 non-null  object \n",
      " 1   image_width     242562 non-null  int64  \n",
      " 2   image_height    242562 non-null  int64  \n",
      " 3   class           242562 non-null  object \n",
      " 4   cause_method    242562 non-null  object \n",
      " 5   folder_path     242562 non-null  object \n",
      " 6   ei_value        242562 non-null  object \n",
      " 7   pl_value        242562 non-null  object \n",
      " 8   el_value        242562 non-null  object \n",
      " 9   pi_value        242562 non-null  object \n",
      " 10  bbox            242562 non-null  object \n",
      " 11  category_id     242562 non-null  int64  \n",
      " 12  disease_status  242562 non-null  object \n",
      " 13  name            242562 non-null  object \n",
      " 14  bbox_x          242562 non-null  float64\n",
      " 15  bbox_y          242562 non-null  float64\n",
      " 16  bbox_width      242562 non-null  float64\n",
      " 17  bbox_height     242562 non-null  float64\n",
      " 18  object_status   242562 non-null  object \n",
      "dtypes: float64(4), int64(3), object(12)\n",
      "memory usage: 37.0+ MB\n"
     ]
    }
   ],
   "source": [
    "# train_20.info()"
   ]
  },
  {
   "cell_type": "code",
   "execution_count": 33,
   "metadata": {},
   "outputs": [],
   "source": [
    "# train_20.to_csv('./data_preprocessed/label/train_20.csv', encoding='utf-8', index=False)"
   ]
  },
  {
   "cell_type": "code",
   "execution_count": 59,
   "metadata": {},
   "outputs": [],
   "source": [
    "# sampling and preprocessed df\n",
    "\n",
    "col_selection = ['environments', 'annotations', 'categories',\n",
    "                 'images.fname', 'images.width', 'images.height',\n",
    "                 'images.disease_class', 'images.disease_cause_method',\n",
    "                 'folder_path', 'file_id']\n",
    "\n",
    "final_selection = ['file_id', 'folder_path', 'file_name', 'image_width', 'image_height',\n",
    "                   'class', 'cause_method',\n",
    "                   'ei_value', 'pl_value', 'el_value', 'pi_value',\n",
    "                   'bbox','bbox_x', 'bbox_y', 'bbox_width', 'bbox_height',\n",
    "                   'category_id', 'disease_status', 'name']\n",
    "\n",
    "common_args = ['environments', 'annotations', 'categories', 'env_values', 'anno_values', 'cat_values']\n",
    "class_args = {\"normal\": [\"정상\", \"normal\"], \"blight\": [\"역병\", \"blight\"],\n",
    "              \"wilt\": [\"시들음병\", \"wilt\"], \"scorch\": [\"잎끝마름\", \"scorch\"],\n",
    "              \"chlorosis\": [\"황화\", \"chlorosis\"]}\n",
    "\n",
    "path_str = './data_preprocessed/label/'\n",
    "name_str = 'train_label'\n",
    "raw_df_list = [tr_normal, tr_blight, tr_wilt, tr_scorch, tr_chlorosis]\n",
    "\n",
    "\n",
    "def preprocessing_and_sampling(ratio, df_list, col_selection, final_selection, common_arg_list, class_arg_dict):\n",
    "    df_sel_list = []\n",
    "    df_sel_sampling_list = []\n",
    "    df_sel_final_list = []\n",
    "    class_args_list = list(class_arg_dict.values())\n",
    "\n",
    "    for df in df_list:\n",
    "        df_sel = columns_selection(df, col_selection)\n",
    "        df_sel_list.append(df_sel)\n",
    "        \n",
    "    for df_selected in df_sel_list:\n",
    "        df_sampled = sampling_df(df_selected, ratio)\n",
    "        df_sel_sampling_list.append(df_sampled)\n",
    "        \n",
    "    for sample, class_args in zip(df_sel_sampling_list, class_args_list):\n",
    "        df_processed = label_preprocess(sample, *common_arg_list, *class_args)\n",
    "        df_processed_cols = columns_selection(df_processed, final_selection)\n",
    "        if df_processed_cols['class'].unique() == 'normal':\n",
    "            df_processed_cols['object_status'] = 'normal'\n",
    "        else:\n",
    "            df_processed_cols['object_status'] = 'abnormal'\n",
    "\n",
    "        df_sel_final_list.append(df_processed_cols)\n",
    "        \n",
    "    df_preprocessed = pd.concat(df_sel_final_list, axis=0)\n",
    "\n",
    "    return df_preprocessed\n",
    "\n",
    "\n"
   ]
  },
  {
   "cell_type": "code",
   "execution_count": 158,
   "metadata": {},
   "outputs": [],
   "source": [
    "# data selection by image name date first\n",
    "\n",
    "train_normal = data_selection_by_date(tr_normal).copy()\n",
    "train_blight = data_selection_by_date(tr_blight).copy()\n",
    "train_wilt = data_selection_by_date(tr_wilt).copy()\n",
    "train_scorch = data_selection_by_date(tr_scorch).copy()\n",
    "train_chlorosis = data_selection_by_date(tr_chlorosis).copy()"
   ]
  },
  {
   "cell_type": "code",
   "execution_count": 159,
   "metadata": {},
   "outputs": [
    {
     "name": "stdout",
     "output_type": "stream",
     "text": [
      "<class 'pandas.core.series.Series'>\n",
      "Index(['annotations', 'categories', 'images.fname', 'images.width',\n",
      "       'images.height', 'images.disease_class', 'images.disease_cause_method',\n",
      "       'folder_path', 'file_id', 'ti_value', 'hi_value', 'ci_value',\n",
      "       'ir_value', 'tl_value', 'ei_value', 'pl_value', 'sr_value', 'cl_value',\n",
      "       'el_value', 'hl_value', 'pi_value', 'rp_value'],\n",
      "      dtype='object')\n",
      "<class 'pandas.core.series.Series'>\n",
      "<class 'pandas.core.series.Series'>\n",
      "<class 'pandas.core.series.Series'>\n",
      "Index(['annotations', 'categories', 'images.fname', 'images.width',\n",
      "       'images.height', 'images.disease_class', 'images.disease_cause_method',\n",
      "       'folder_path', 'file_id', 'ti_value', 'hi_value', 'ci_value',\n",
      "       'ir_value', 'tl_value', 'ei_value', 'pl_value', 'sr_value', 'cl_value',\n",
      "       'el_value', 'hl_value', 'pi_value', 'rp_value'],\n",
      "      dtype='object')\n",
      "<class 'pandas.core.series.Series'>\n",
      "<class 'pandas.core.series.Series'>\n",
      "<class 'pandas.core.series.Series'>\n",
      "Index(['annotations', 'categories', 'images.fname', 'images.width',\n",
      "       'images.height', 'images.disease_class', 'images.disease_cause_method',\n",
      "       'folder_path', 'file_id', 'ti_value', 'hi_value', 'ci_value',\n",
      "       'ir_value', 'tl_value', 'ei_value', 'pl_value', 'sr_value', 'cl_value',\n",
      "       'el_value', 'hl_value', 'pi_value', 'rp_value'],\n",
      "      dtype='object')\n",
      "<class 'pandas.core.series.Series'>\n",
      "<class 'pandas.core.series.Series'>\n",
      "<class 'pandas.core.series.Series'>\n",
      "Index(['annotations', 'categories', 'images.fname', 'images.width',\n",
      "       'images.height', 'images.disease_class', 'images.disease_cause_method',\n",
      "       'folder_path', 'file_id', 'ti_value', 'hi_value', 'ci_value',\n",
      "       'ir_value', 'tl_value', 'ei_value', 'pl_value', 'sr_value', 'cl_value',\n",
      "       'el_value', 'hl_value', 'pi_value', 'rp_value'],\n",
      "      dtype='object')\n",
      "<class 'pandas.core.series.Series'>\n",
      "<class 'pandas.core.series.Series'>\n",
      "<class 'pandas.core.series.Series'>\n",
      "Index(['annotations', 'categories', 'images.fname', 'images.width',\n",
      "       'images.height', 'images.disease_class', 'images.disease_cause_method',\n",
      "       'folder_path', 'file_id', 'ti_value', 'hi_value', 'ci_value',\n",
      "       'ir_value', 'tl_value', 'ei_value', 'pl_value', 'sr_value', 'cl_value',\n",
      "       'el_value', 'hl_value', 'pi_value', 'rp_value'],\n",
      "      dtype='object')\n",
      "<class 'pandas.core.series.Series'>\n",
      "<class 'pandas.core.series.Series'>\n",
      "train_label_10\n",
      "<class 'pandas.core.series.Series'>\n",
      "Index(['annotations', 'categories', 'images.fname', 'images.width',\n",
      "       'images.height', 'images.disease_class', 'images.disease_cause_method',\n",
      "       'folder_path', 'file_id', 'ti_value', 'hi_value', 'ci_value',\n",
      "       'ir_value', 'tl_value', 'ei_value', 'pl_value', 'sr_value', 'cl_value',\n",
      "       'el_value', 'hl_value', 'pi_value', 'rp_value'],\n",
      "      dtype='object')\n",
      "<class 'pandas.core.series.Series'>\n",
      "<class 'pandas.core.series.Series'>\n",
      "<class 'pandas.core.series.Series'>\n",
      "Index(['annotations', 'categories', 'images.fname', 'images.width',\n",
      "       'images.height', 'images.disease_class', 'images.disease_cause_method',\n",
      "       'folder_path', 'file_id', 'ti_value', 'hi_value', 'ci_value',\n",
      "       'ir_value', 'tl_value', 'ei_value', 'pl_value', 'sr_value', 'cl_value',\n",
      "       'el_value', 'hl_value', 'pi_value', 'rp_value'],\n",
      "      dtype='object')\n",
      "<class 'pandas.core.series.Series'>\n",
      "<class 'pandas.core.series.Series'>\n",
      "<class 'pandas.core.series.Series'>\n",
      "Index(['annotations', 'categories', 'images.fname', 'images.width',\n",
      "       'images.height', 'images.disease_class', 'images.disease_cause_method',\n",
      "       'folder_path', 'file_id', 'ti_value', 'hi_value', 'ci_value',\n",
      "       'ir_value', 'tl_value', 'ei_value', 'pl_value', 'sr_value', 'cl_value',\n",
      "       'el_value', 'hl_value', 'pi_value', 'rp_value'],\n",
      "      dtype='object')\n",
      "<class 'pandas.core.series.Series'>\n",
      "<class 'pandas.core.series.Series'>\n",
      "<class 'pandas.core.series.Series'>\n",
      "Index(['annotations', 'categories', 'images.fname', 'images.width',\n",
      "       'images.height', 'images.disease_class', 'images.disease_cause_method',\n",
      "       'folder_path', 'file_id', 'ti_value', 'hi_value', 'ci_value',\n",
      "       'ir_value', 'tl_value', 'ei_value', 'pl_value', 'sr_value', 'cl_value',\n",
      "       'el_value', 'hl_value', 'pi_value', 'rp_value'],\n",
      "      dtype='object')\n",
      "<class 'pandas.core.series.Series'>\n",
      "<class 'pandas.core.series.Series'>\n",
      "<class 'pandas.core.series.Series'>\n",
      "Index(['annotations', 'categories', 'images.fname', 'images.width',\n",
      "       'images.height', 'images.disease_class', 'images.disease_cause_method',\n",
      "       'folder_path', 'file_id', 'ti_value', 'hi_value', 'ci_value',\n",
      "       'ir_value', 'tl_value', 'ei_value', 'pl_value', 'sr_value', 'cl_value',\n",
      "       'el_value', 'hl_value', 'pi_value', 'rp_value'],\n",
      "      dtype='object')\n",
      "<class 'pandas.core.series.Series'>\n",
      "<class 'pandas.core.series.Series'>\n",
      "train_label_50\n",
      "<class 'pandas.core.series.Series'>\n",
      "Index(['annotations', 'categories', 'images.fname', 'images.width',\n",
      "       'images.height', 'images.disease_class', 'images.disease_cause_method',\n",
      "       'folder_path', 'file_id', 'ti_value', 'hi_value', 'ci_value',\n",
      "       'ir_value', 'tl_value', 'ei_value', 'pl_value', 'sr_value', 'cl_value',\n",
      "       'el_value', 'hl_value', 'pi_value', 'rp_value'],\n",
      "      dtype='object')\n",
      "<class 'pandas.core.series.Series'>\n",
      "<class 'pandas.core.series.Series'>\n",
      "<class 'pandas.core.series.Series'>\n",
      "Index(['annotations', 'categories', 'images.fname', 'images.width',\n",
      "       'images.height', 'images.disease_class', 'images.disease_cause_method',\n",
      "       'folder_path', 'file_id', 'ti_value', 'hi_value', 'ci_value',\n",
      "       'ir_value', 'tl_value', 'ei_value', 'pl_value', 'sr_value', 'cl_value',\n",
      "       'el_value', 'hl_value', 'pi_value', 'rp_value'],\n",
      "      dtype='object')\n",
      "<class 'pandas.core.series.Series'>\n",
      "<class 'pandas.core.series.Series'>\n",
      "<class 'pandas.core.series.Series'>\n",
      "Index(['annotations', 'categories', 'images.fname', 'images.width',\n",
      "       'images.height', 'images.disease_class', 'images.disease_cause_method',\n",
      "       'folder_path', 'file_id', 'ti_value', 'hi_value', 'ci_value',\n",
      "       'ir_value', 'tl_value', 'ei_value', 'pl_value', 'sr_value', 'cl_value',\n",
      "       'el_value', 'hl_value', 'pi_value', 'rp_value'],\n",
      "      dtype='object')\n",
      "<class 'pandas.core.series.Series'>\n",
      "<class 'pandas.core.series.Series'>\n",
      "<class 'pandas.core.series.Series'>\n",
      "Index(['annotations', 'categories', 'images.fname', 'images.width',\n",
      "       'images.height', 'images.disease_class', 'images.disease_cause_method',\n",
      "       'folder_path', 'file_id', 'ti_value', 'hi_value', 'ci_value',\n",
      "       'ir_value', 'tl_value', 'ei_value', 'pl_value', 'sr_value', 'cl_value',\n",
      "       'el_value', 'hl_value', 'pi_value', 'rp_value'],\n",
      "      dtype='object')\n",
      "<class 'pandas.core.series.Series'>\n",
      "<class 'pandas.core.series.Series'>\n",
      "<class 'pandas.core.series.Series'>\n",
      "Index(['annotations', 'categories', 'images.fname', 'images.width',\n",
      "       'images.height', 'images.disease_class', 'images.disease_cause_method',\n",
      "       'folder_path', 'file_id', 'ti_value', 'hi_value', 'ci_value',\n",
      "       'ir_value', 'tl_value', 'ei_value', 'pl_value', 'sr_value', 'cl_value',\n",
      "       'el_value', 'hl_value', 'pi_value', 'rp_value'],\n",
      "      dtype='object')\n",
      "<class 'pandas.core.series.Series'>\n",
      "<class 'pandas.core.series.Series'>\n",
      "train_label_70\n",
      "<class 'pandas.core.series.Series'>\n",
      "Index(['annotations', 'categories', 'images.fname', 'images.width',\n",
      "       'images.height', 'images.disease_class', 'images.disease_cause_method',\n",
      "       'folder_path', 'file_id', 'ti_value', 'hi_value', 'ci_value',\n",
      "       'ir_value', 'tl_value', 'ei_value', 'pl_value', 'sr_value', 'cl_value',\n",
      "       'el_value', 'hl_value', 'pi_value', 'rp_value'],\n",
      "      dtype='object')\n",
      "<class 'pandas.core.series.Series'>\n",
      "<class 'pandas.core.series.Series'>\n",
      "<class 'pandas.core.series.Series'>\n",
      "Index(['annotations', 'categories', 'images.fname', 'images.width',\n",
      "       'images.height', 'images.disease_class', 'images.disease_cause_method',\n",
      "       'folder_path', 'file_id', 'ti_value', 'hi_value', 'ci_value',\n",
      "       'ir_value', 'tl_value', 'ei_value', 'pl_value', 'sr_value', 'cl_value',\n",
      "       'el_value', 'hl_value', 'pi_value', 'rp_value'],\n",
      "      dtype='object')\n",
      "<class 'pandas.core.series.Series'>\n",
      "<class 'pandas.core.series.Series'>\n",
      "<class 'pandas.core.series.Series'>\n",
      "Index(['annotations', 'categories', 'images.fname', 'images.width',\n",
      "       'images.height', 'images.disease_class', 'images.disease_cause_method',\n",
      "       'folder_path', 'file_id', 'ti_value', 'hi_value', 'ci_value',\n",
      "       'ir_value', 'tl_value', 'ei_value', 'pl_value', 'sr_value', 'cl_value',\n",
      "       'el_value', 'hl_value', 'pi_value', 'rp_value'],\n",
      "      dtype='object')\n",
      "<class 'pandas.core.series.Series'>\n",
      "<class 'pandas.core.series.Series'>\n",
      "<class 'pandas.core.series.Series'>\n",
      "Index(['annotations', 'categories', 'images.fname', 'images.width',\n",
      "       'images.height', 'images.disease_class', 'images.disease_cause_method',\n",
      "       'folder_path', 'file_id', 'ti_value', 'hi_value', 'ci_value',\n",
      "       'ir_value', 'tl_value', 'ei_value', 'pl_value', 'sr_value', 'cl_value',\n",
      "       'el_value', 'hl_value', 'pi_value', 'rp_value'],\n",
      "      dtype='object')\n",
      "<class 'pandas.core.series.Series'>\n",
      "<class 'pandas.core.series.Series'>\n",
      "<class 'pandas.core.series.Series'>\n",
      "Index(['annotations', 'categories', 'images.fname', 'images.width',\n",
      "       'images.height', 'images.disease_class', 'images.disease_cause_method',\n",
      "       'folder_path', 'file_id', 'ti_value', 'hi_value', 'ci_value',\n",
      "       'ir_value', 'tl_value', 'ei_value', 'pl_value', 'sr_value', 'cl_value',\n",
      "       'el_value', 'hl_value', 'pi_value', 'rp_value'],\n",
      "      dtype='object')\n",
      "<class 'pandas.core.series.Series'>\n",
      "<class 'pandas.core.series.Series'>\n",
      "train_label_90\n",
      "<class 'pandas.core.series.Series'>\n",
      "Index(['annotations', 'categories', 'images.fname', 'images.width',\n",
      "       'images.height', 'images.disease_class', 'images.disease_cause_method',\n",
      "       'folder_path', 'file_id', 'ti_value', 'hi_value', 'ci_value',\n",
      "       'ir_value', 'tl_value', 'ei_value', 'pl_value', 'sr_value', 'cl_value',\n",
      "       'el_value', 'hl_value', 'pi_value', 'rp_value'],\n",
      "      dtype='object')\n",
      "<class 'pandas.core.series.Series'>\n",
      "<class 'pandas.core.series.Series'>\n",
      "<class 'pandas.core.series.Series'>\n",
      "Index(['annotations', 'categories', 'images.fname', 'images.width',\n",
      "       'images.height', 'images.disease_class', 'images.disease_cause_method',\n",
      "       'folder_path', 'file_id', 'ti_value', 'hi_value', 'ci_value',\n",
      "       'ir_value', 'tl_value', 'ei_value', 'pl_value', 'sr_value', 'cl_value',\n",
      "       'el_value', 'hl_value', 'pi_value', 'rp_value'],\n",
      "      dtype='object')\n",
      "<class 'pandas.core.series.Series'>\n",
      "<class 'pandas.core.series.Series'>\n",
      "<class 'pandas.core.series.Series'>\n",
      "Index(['annotations', 'categories', 'images.fname', 'images.width',\n",
      "       'images.height', 'images.disease_class', 'images.disease_cause_method',\n",
      "       'folder_path', 'file_id', 'ti_value', 'hi_value', 'ci_value',\n",
      "       'ir_value', 'tl_value', 'ei_value', 'pl_value', 'sr_value', 'cl_value',\n",
      "       'el_value', 'hl_value', 'pi_value', 'rp_value'],\n",
      "      dtype='object')\n",
      "<class 'pandas.core.series.Series'>\n",
      "<class 'pandas.core.series.Series'>\n",
      "<class 'pandas.core.series.Series'>\n",
      "Index(['annotations', 'categories', 'images.fname', 'images.width',\n",
      "       'images.height', 'images.disease_class', 'images.disease_cause_method',\n",
      "       'folder_path', 'file_id', 'ti_value', 'hi_value', 'ci_value',\n",
      "       'ir_value', 'tl_value', 'ei_value', 'pl_value', 'sr_value', 'cl_value',\n",
      "       'el_value', 'hl_value', 'pi_value', 'rp_value'],\n",
      "      dtype='object')\n",
      "<class 'pandas.core.series.Series'>\n",
      "<class 'pandas.core.series.Series'>\n",
      "<class 'pandas.core.series.Series'>\n",
      "Index(['annotations', 'categories', 'images.fname', 'images.width',\n",
      "       'images.height', 'images.disease_class', 'images.disease_cause_method',\n",
      "       'folder_path', 'file_id', 'ti_value', 'hi_value', 'ci_value',\n",
      "       'ir_value', 'tl_value', 'ei_value', 'pl_value', 'sr_value', 'cl_value',\n",
      "       'el_value', 'hl_value', 'pi_value', 'rp_value'],\n",
      "      dtype='object')\n",
      "<class 'pandas.core.series.Series'>\n",
      "<class 'pandas.core.series.Series'>\n",
      "train_label_100\n"
     ]
    }
   ],
   "source": [
    "# train_label_30 = preprocessing_and_sampling(ratio=0.3, df_list=raw_df_list,\n",
    "#                                             col_selection=col_selection, final_selection=final_selection,\n",
    "#                                             common_arg_list=common_args, class_arg_dict=class_args)\n",
    "\n",
    "# ratio_list = [0.2, 0.3, 0.4, 0.5, 0.6, 0.7, 0.8, 0.9, 1]\n",
    "# ratio_name_list = [20, 30, 40, 50, 60, 70, 80, 90, 100]\n",
    "\n",
    "train_label_list = [train_normal, train_blight, train_wilt, train_scorch, train_chlorosis]\n",
    "ratio_list = [0.1, 0.5, 0.7, 0.9, 1]\n",
    "ratio_name_list = [10, 50, 70, 90, 100]\n",
    "arg_list = [train_label_list, col_selection, final_selection, common_args, class_args]\n",
    "\n",
    "for ratio in ratio_list:\n",
    "    name = int(ratio*100)\n",
    "    saving = f\"./data_preprocessed/label/train_label_{name}.csv\"\n",
    "    train_label = preprocessing_and_sampling(ratio, *arg_list)\n",
    "    train_label.to_csv(saving, encoding='utf-8', index=False)\n",
    "    print(f\"train_label_{name}\")"
   ]
  },
  {
   "cell_type": "code",
   "execution_count": 34,
   "metadata": {},
   "outputs": [
    {
     "data": {
      "text/plain": [
       "object_status\n",
       "abnormal    229683\n",
       "normal      119756\n",
       "Name: count, dtype: int64"
      ]
     },
     "execution_count": 34,
     "metadata": {},
     "output_type": "execute_result"
    }
   ],
   "source": [
    "# train_label_30['object_status'].value_counts()"
   ]
  },
  {
   "cell_type": "code",
   "execution_count": 29,
   "metadata": {},
   "outputs": [
    {
     "data": {
      "text/plain": [
       "Index(['environments', 'annotations', 'licenses', 'categories',\n",
       "       'images.image_id', 'images.farm_id', 'images.crops_id', 'images.crops',\n",
       "       'images.kind_type', 'images.file_path', 'images.fname', 'images.fext',\n",
       "       'images.width', 'images.height', 'images.create_date',\n",
       "       'images.date_captured', 'images.growth_stage', 'images.leaf',\n",
       "       'images.disease_class', 'images.disease_cause',\n",
       "       'images.disease_cause_method', 'images.plant_body',\n",
       "       'growth_index.crops_id', 'growth_index.measured_date',\n",
       "       'growth_index.stem_length', 'growth_index.leaf_cnt',\n",
       "       'growth_index.leaf_width', 'growth_index.leaf_length',\n",
       "       'growth_index.stem_thick', 'growth_index.bloom1_date',\n",
       "       'growth_index.bloom2_date', 'growth_index.bloom3_date',\n",
       "       'growth_index.fr1_cnt', 'growth_index.fr2_cnt', 'growth_index.fr3_cnt',\n",
       "       'growth_index.fr_weight', 'etc_infor.crops_id', 'etc_infor.create_date',\n",
       "       'etc_infor.inform', 'images.stem', 'images.grpoint', 'images.fruit',\n",
       "       'images.flower', 'folder_path', 'image_id'],\n",
       "      dtype='object')"
      ]
     },
     "execution_count": 29,
     "metadata": {},
     "output_type": "execute_result"
    }
   ],
   "source": [
    "vl_raw_normal.columns"
   ]
  },
  {
   "cell_type": "code",
   "execution_count": 99,
   "metadata": {},
   "outputs": [],
   "source": [
    "# test data preparation\n",
    "\n",
    "vl_normal = data_selection_by_date(vl_raw_normal).copy()\n",
    "vl_blight = data_selection_by_date(vl_raw_blight).copy()\n",
    "vl_wilt = data_selection_by_date(vl_raw_wilt).copy()\n",
    "vl_scorch = data_selection_by_date(vl_raw_scorch).copy()\n",
    "vl_chlorosis = data_selection_by_date(vl_raw_chlorosis).copy()\n",
    "\n"
   ]
  },
  {
   "cell_type": "code",
   "execution_count": 100,
   "metadata": {},
   "outputs": [],
   "source": [
    "col_selection = ['environments', 'annotations', 'categories', 'images.fname', 'images.width',\n",
    "                 'images.height', 'images.disease_class', 'images.disease_cause_method', 'folder_path', 'file_id']\n",
    "\n",
    "vl_normal_data = columns_selection(vl_normal, col_selection)\n",
    "vl_blight_data = columns_selection(vl_blight, col_selection)\n",
    "vl_wilt_data = columns_selection(vl_wilt, col_selection)\n",
    "vl_scorch_data = columns_selection(vl_scorch, col_selection)\n",
    "vl_chlorosis_data = columns_selection(vl_chlorosis, col_selection)\n"
   ]
  },
  {
   "cell_type": "code",
   "execution_count": 101,
   "metadata": {},
   "outputs": [
    {
     "data": {
      "text/plain": [
       "'vl_normal_3'"
      ]
     },
     "execution_count": 101,
     "metadata": {},
     "output_type": "execute_result"
    }
   ],
   "source": [
    "vl_normal_data['file_id'][2]"
   ]
  },
  {
   "cell_type": "code",
   "execution_count": 102,
   "metadata": {},
   "outputs": [
    {
     "name": "stdout",
     "output_type": "stream",
     "text": [
      "<class 'pandas.core.series.Series'>\n",
      "Index(['annotations', 'categories', 'images.fname', 'images.width',\n",
      "       'images.height', 'images.disease_class', 'images.disease_cause_method',\n",
      "       'folder_path', 'file_id', 'ti_value', 'hi_value', 'ci_value',\n",
      "       'ir_value', 'tl_value', 'ei_value', 'pl_value', 'sr_value', 'cl_value',\n",
      "       'el_value', 'hl_value', 'pi_value', 'rp_value'],\n",
      "      dtype='object')\n",
      "<class 'pandas.core.series.Series'>\n",
      "<class 'pandas.core.series.Series'>\n",
      "<class 'pandas.core.series.Series'>\n",
      "Index(['annotations', 'categories', 'images.fname', 'images.width',\n",
      "       'images.height', 'images.disease_class', 'images.disease_cause_method',\n",
      "       'folder_path', 'file_id', 'ti_value', 'hi_value', 'ci_value',\n",
      "       'ir_value', 'tl_value', 'ei_value', 'pl_value', 'sr_value', 'cl_value',\n",
      "       'el_value', 'hl_value', 'pi_value', 'rp_value'],\n",
      "      dtype='object')\n",
      "<class 'pandas.core.series.Series'>\n",
      "<class 'pandas.core.series.Series'>\n",
      "<class 'pandas.core.series.Series'>\n",
      "Index(['annotations', 'categories', 'images.fname', 'images.width',\n",
      "       'images.height', 'images.disease_class', 'images.disease_cause_method',\n",
      "       'folder_path', 'file_id', 'ti_value', 'hi_value', 'ci_value',\n",
      "       'ir_value', 'tl_value', 'ei_value', 'pl_value', 'sr_value', 'cl_value',\n",
      "       'el_value', 'hl_value', 'pi_value', 'rp_value'],\n",
      "      dtype='object')\n",
      "<class 'pandas.core.series.Series'>\n",
      "<class 'pandas.core.series.Series'>\n",
      "<class 'pandas.core.series.Series'>\n",
      "Index(['annotations', 'categories', 'images.fname', 'images.width',\n",
      "       'images.height', 'images.disease_class', 'images.disease_cause_method',\n",
      "       'folder_path', 'file_id', 'ti_value', 'hi_value', 'ci_value',\n",
      "       'ir_value', 'tl_value', 'ei_value', 'pl_value', 'sr_value', 'cl_value',\n",
      "       'el_value', 'hl_value', 'pi_value', 'rp_value'],\n",
      "      dtype='object')\n",
      "<class 'pandas.core.series.Series'>\n",
      "<class 'pandas.core.series.Series'>\n",
      "<class 'pandas.core.series.Series'>\n",
      "Index(['annotations', 'categories', 'images.fname', 'images.width',\n",
      "       'images.height', 'images.disease_class', 'images.disease_cause_method',\n",
      "       'folder_path', 'file_id', 'ti_value', 'hi_value', 'ci_value',\n",
      "       'ir_value', 'tl_value', 'ei_value', 'pl_value', 'sr_value', 'cl_value',\n",
      "       'el_value', 'hl_value', 'pi_value', 'rp_value'],\n",
      "      dtype='object')\n",
      "<class 'pandas.core.series.Series'>\n",
      "<class 'pandas.core.series.Series'>\n"
     ]
    }
   ],
   "source": [
    "vl_normal_preprocessed = label_preprocess(vl_normal_data, 'environments', 'annotations', 'categories', 'env_values', 'anno_values', 'cat_values', '정상', 'normal')\n",
    "vl_blight_preprocessed = label_preprocess(vl_blight_data, 'environments', 'annotations', 'categories', 'env_values', 'anno_values', 'cat_values', '역병', 'blight')\n",
    "vl_wilt_preprocessed = label_preprocess(vl_wilt_data, 'environments', 'annotations', 'categories', 'env_values', 'anno_values', 'cat_values', '시들음병', 'wilt')\n",
    "vl_scorch_preprocessed = label_preprocess(vl_scorch_data, 'environments', 'annotations', 'categories', 'env_values', 'anno_values', 'cat_values', '잎끝마름', 'scorch')\n",
    "vl_chlorosis_preprocessed = label_preprocess(vl_chlorosis_data, 'environments', 'annotations', 'categories', 'env_values', 'anno_values', 'cat_values', '황화', 'chlorosis')"
   ]
  },
  {
   "cell_type": "code",
   "execution_count": 103,
   "metadata": {},
   "outputs": [
    {
     "data": {
      "text/plain": [
       "Index(['file_name', 'image_width', 'image_height', 'class', 'cause_method',\n",
       "       'folder_path', 'file_id', 'ti_value', 'hi_value', 'ci_value',\n",
       "       'ei_value', 'pl_value', 'sr_value', 'cl_value', 'el_value', 'hl_value',\n",
       "       'pi_value', 'bbox', 'category_id', 'disease_status', 'name', 'bbox_x',\n",
       "       'bbox_y', 'bbox_width', 'bbox_height'],\n",
       "      dtype='object')"
      ]
     },
     "execution_count": 103,
     "metadata": {},
     "output_type": "execute_result"
    }
   ],
   "source": [
    "vl_normal_preprocessed.columns"
   ]
  },
  {
   "cell_type": "code",
   "execution_count": 104,
   "metadata": {},
   "outputs": [],
   "source": [
    "selection = ['file_id', 'folder_path', 'file_name', 'image_width', 'image_height', 'class', 'cause_method', 'folder_path', 'ei_value', 'pl_value', 'el_value', 'pi_value',\n",
    "             'bbox', 'category_id', 'disease_status', 'name', 'bbox_x', 'bbox_y', 'bbox_width', 'bbox_height']\n",
    "\n",
    "vl_normal = vl_normal_preprocessed[selection].copy()\n",
    "vl_blight = vl_blight_preprocessed[selection].copy()\n",
    "vl_wilt = vl_wilt_preprocessed[selection].copy()\n",
    "vl_scorch = vl_scorch_preprocessed[selection].copy()\n",
    "vl_chlorosis = vl_chlorosis_preprocessed[selection].copy()\n",
    "\n",
    "vl_normal['object_status'] = 'normal'\n",
    "vl_blight['object_status'] = 'abnormal'\n",
    "vl_wilt['object_status'] = 'abnormal'\n",
    "vl_scorch['object_status'] = 'abnormal'\n",
    "vl_chlorosis['object_status'] = 'abnormal'\n",
    "\n",
    "test_label = pd.concat([vl_normal, vl_blight, vl_wilt, vl_scorch, vl_chlorosis], axis=0)"
   ]
  },
  {
   "cell_type": "code",
   "execution_count": 105,
   "metadata": {},
   "outputs": [],
   "source": [
    "## saving csv files\n",
    "\n",
    "test_label.to_csv('./data_preprocessed/label/test_label.csv', encoding='utf-8', index=False)"
   ]
  },
  {
   "cell_type": "code",
   "execution_count": null,
   "metadata": {},
   "outputs": [],
   "source": [
    "#####################################################################################################################"
   ]
  },
  {
   "cell_type": "code",
   "execution_count": 107,
   "metadata": {},
   "outputs": [],
   "source": [
    "def bbox_size_check(df):\n",
    "    check_size = df.copy()\n",
    "    check_size['bbox_width_total'] = check_size['bbox_x'] + check_size['bbox_width']\n",
    "    check_size['bbox_height_total'] = check_size['bbox_y'] + check_size['bbox_height']\n",
    "\n",
    "    image_width = check_size['image_width']\n",
    "    image_height = check_size['image_height']\n",
    "    bbox_width = check_size['bbox_width_total']\n",
    "    bbox_height = check_size['bbox_height_total']\n",
    "\n",
    "    width_same = check_size[image_width == bbox_width]\n",
    "    height_same = check_size[image_height == bbox_height]\n",
    "    one_or_two = check_size[(image_width)]\n",
    "    all_same = check_size[(image_width == bbox_width) & (image_height == bbox_height)]\n",
    "\n",
    "    abnormal_nums = [len(width_same), len(height_same), len(all_same)]\n",
    "    return abnormal_nums"
   ]
  },
  {
   "cell_type": "code",
   "execution_count": 96,
   "metadata": {},
   "outputs": [
    {
     "name": "stdout",
     "output_type": "stream",
     "text": [
      "[0, 0, 0]\n"
     ]
    }
   ],
   "source": [
    "test_label_abnormal = bbox_size_check(test_label)\n",
    "print(test_label_abnormal)"
   ]
  },
  {
   "cell_type": "code",
   "execution_count": 121,
   "metadata": {},
   "outputs": [],
   "source": [
    "train_20 = pd.read_csv('./data_preprocessed/label/train_label_20.csv', encoding='utf-8')\n",
    "train_30 = pd.read_csv('./data_preprocessed/label/train_label_30.csv', encoding='utf-8')\n",
    "train_40 = pd.read_csv('./data_preprocessed/label/train_label_40.csv', encoding='utf-8')"
   ]
  },
  {
   "cell_type": "code",
   "execution_count": 108,
   "metadata": {},
   "outputs": [
    {
     "name": "stdout",
     "output_type": "stream",
     "text": [
      "[0, 0, 0]\n",
      "[0, 0, 0]\n",
      "[0, 0, 0]\n"
     ]
    }
   ],
   "source": [
    "abnormal_20 = bbox_size_check(train_20)\n",
    "abnormal_30 = bbox_size_check(train_30)\n",
    "abnormal_40 = bbox_size_check(train_40)\n",
    "\n",
    "print(abnormal_20)\n",
    "print(abnormal_30)\n",
    "print(abnormal_40)"
   ]
  },
  {
   "cell_type": "code",
   "execution_count": 106,
   "metadata": {},
   "outputs": [
    {
     "data": {
      "text/html": [
       "<div>\n",
       "<style scoped>\n",
       "    .dataframe tbody tr th:only-of-type {\n",
       "        vertical-align: middle;\n",
       "    }\n",
       "\n",
       "    .dataframe tbody tr th {\n",
       "        vertical-align: top;\n",
       "    }\n",
       "\n",
       "    .dataframe thead th {\n",
       "        text-align: right;\n",
       "    }\n",
       "</style>\n",
       "<table border=\"1\" class=\"dataframe\">\n",
       "  <thead>\n",
       "    <tr style=\"text-align: right;\">\n",
       "      <th></th>\n",
       "      <th>file_id</th>\n",
       "      <th>folder_path</th>\n",
       "      <th>file_name</th>\n",
       "      <th>image_width</th>\n",
       "      <th>image_height</th>\n",
       "      <th>class</th>\n",
       "      <th>cause_method</th>\n",
       "      <th>ei_value</th>\n",
       "      <th>pl_value</th>\n",
       "      <th>el_value</th>\n",
       "      <th>...</th>\n",
       "      <th>bbox</th>\n",
       "      <th>bbox_x</th>\n",
       "      <th>bbox_y</th>\n",
       "      <th>bbox_width</th>\n",
       "      <th>bbox_height</th>\n",
       "      <th>category_id</th>\n",
       "      <th>disease_status</th>\n",
       "      <th>name</th>\n",
       "      <th>object_status</th>\n",
       "      <th>bbox_width_total</th>\n",
       "    </tr>\n",
       "  </thead>\n",
       "  <tbody>\n",
       "    <tr>\n",
       "      <th>0</th>\n",
       "      <td>tr_normal_47532</td>\n",
       "      <td>./data_raw/train_image/train_normal/</td>\n",
       "      <td>normal_55_008_221110165807.jpg</td>\n",
       "      <td>820</td>\n",
       "      <td>1413</td>\n",
       "      <td>normal</td>\n",
       "      <td>normal</td>\n",
       "      <td>0.07</td>\n",
       "      <td>6.2</td>\n",
       "      <td>3.2</td>\n",
       "      <td>...</td>\n",
       "      <td>[44.04, 921.19, 292.37, 212.6]</td>\n",
       "      <td>44.04</td>\n",
       "      <td>921.19</td>\n",
       "      <td>292.37</td>\n",
       "      <td>212.60</td>\n",
       "      <td>0</td>\n",
       "      <td>N</td>\n",
       "      <td>leaf</td>\n",
       "      <td>normal</td>\n",
       "      <td>336.41</td>\n",
       "    </tr>\n",
       "    <tr>\n",
       "      <th>1</th>\n",
       "      <td>tr_normal_47532</td>\n",
       "      <td>./data_raw/train_image/train_normal/</td>\n",
       "      <td>normal_55_008_221110165807.jpg</td>\n",
       "      <td>820</td>\n",
       "      <td>1413</td>\n",
       "      <td>normal</td>\n",
       "      <td>normal</td>\n",
       "      <td>0.07</td>\n",
       "      <td>6.2</td>\n",
       "      <td>3.2</td>\n",
       "      <td>...</td>\n",
       "      <td>[445.51, 605.58, 203.4, 115.27]</td>\n",
       "      <td>445.51</td>\n",
       "      <td>605.58</td>\n",
       "      <td>203.40</td>\n",
       "      <td>115.27</td>\n",
       "      <td>1</td>\n",
       "      <td>N</td>\n",
       "      <td>leaf</td>\n",
       "      <td>normal</td>\n",
       "      <td>648.91</td>\n",
       "    </tr>\n",
       "    <tr>\n",
       "      <th>2</th>\n",
       "      <td>tr_normal_47532</td>\n",
       "      <td>./data_raw/train_image/train_normal/</td>\n",
       "      <td>normal_55_008_221110165807.jpg</td>\n",
       "      <td>820</td>\n",
       "      <td>1413</td>\n",
       "      <td>normal</td>\n",
       "      <td>normal</td>\n",
       "      <td>0.07</td>\n",
       "      <td>6.2</td>\n",
       "      <td>3.2</td>\n",
       "      <td>...</td>\n",
       "      <td>[44.02, 870.91, 74.7, 38.33]</td>\n",
       "      <td>44.02</td>\n",
       "      <td>870.91</td>\n",
       "      <td>74.70</td>\n",
       "      <td>38.33</td>\n",
       "      <td>2</td>\n",
       "      <td>N</td>\n",
       "      <td>stem</td>\n",
       "      <td>normal</td>\n",
       "      <td>118.72</td>\n",
       "    </tr>\n",
       "    <tr>\n",
       "      <th>3</th>\n",
       "      <td>tr_normal_47533</td>\n",
       "      <td>./data_raw/train_image/train_normal/</td>\n",
       "      <td>normal_55_008_221111065807.jpg</td>\n",
       "      <td>820</td>\n",
       "      <td>1413</td>\n",
       "      <td>normal</td>\n",
       "      <td>normal</td>\n",
       "      <td>0.07</td>\n",
       "      <td>6.2</td>\n",
       "      <td>3.2</td>\n",
       "      <td>...</td>\n",
       "      <td>[150.73, 664.52, 220.6, 179.86]</td>\n",
       "      <td>150.73</td>\n",
       "      <td>664.52</td>\n",
       "      <td>220.60</td>\n",
       "      <td>179.86</td>\n",
       "      <td>0</td>\n",
       "      <td>N</td>\n",
       "      <td>leaf</td>\n",
       "      <td>normal</td>\n",
       "      <td>371.33</td>\n",
       "    </tr>\n",
       "    <tr>\n",
       "      <th>4</th>\n",
       "      <td>tr_normal_47533</td>\n",
       "      <td>./data_raw/train_image/train_normal/</td>\n",
       "      <td>normal_55_008_221111065807.jpg</td>\n",
       "      <td>820</td>\n",
       "      <td>1413</td>\n",
       "      <td>normal</td>\n",
       "      <td>normal</td>\n",
       "      <td>0.07</td>\n",
       "      <td>6.2</td>\n",
       "      <td>3.2</td>\n",
       "      <td>...</td>\n",
       "      <td>[437.05, 590.71, 195.52, 112.53]</td>\n",
       "      <td>437.05</td>\n",
       "      <td>590.71</td>\n",
       "      <td>195.52</td>\n",
       "      <td>112.53</td>\n",
       "      <td>1</td>\n",
       "      <td>N</td>\n",
       "      <td>leaf</td>\n",
       "      <td>normal</td>\n",
       "      <td>632.57</td>\n",
       "    </tr>\n",
       "  </tbody>\n",
       "</table>\n",
       "<p>5 rows × 21 columns</p>\n",
       "</div>"
      ],
      "text/plain": [
       "           file_id                           folder_path  \\\n",
       "0  tr_normal_47532  ./data_raw/train_image/train_normal/   \n",
       "1  tr_normal_47532  ./data_raw/train_image/train_normal/   \n",
       "2  tr_normal_47532  ./data_raw/train_image/train_normal/   \n",
       "3  tr_normal_47533  ./data_raw/train_image/train_normal/   \n",
       "4  tr_normal_47533  ./data_raw/train_image/train_normal/   \n",
       "\n",
       "                        file_name  image_width  image_height   class  \\\n",
       "0  normal_55_008_221110165807.jpg          820          1413  normal   \n",
       "1  normal_55_008_221110165807.jpg          820          1413  normal   \n",
       "2  normal_55_008_221110165807.jpg          820          1413  normal   \n",
       "3  normal_55_008_221111065807.jpg          820          1413  normal   \n",
       "4  normal_55_008_221111065807.jpg          820          1413  normal   \n",
       "\n",
       "  cause_method  ei_value  pl_value  el_value  ...  \\\n",
       "0       normal      0.07       6.2       3.2  ...   \n",
       "1       normal      0.07       6.2       3.2  ...   \n",
       "2       normal      0.07       6.2       3.2  ...   \n",
       "3       normal      0.07       6.2       3.2  ...   \n",
       "4       normal      0.07       6.2       3.2  ...   \n",
       "\n",
       "                               bbox  bbox_x  bbox_y  bbox_width  bbox_height  \\\n",
       "0    [44.04, 921.19, 292.37, 212.6]   44.04  921.19      292.37       212.60   \n",
       "1   [445.51, 605.58, 203.4, 115.27]  445.51  605.58      203.40       115.27   \n",
       "2      [44.02, 870.91, 74.7, 38.33]   44.02  870.91       74.70        38.33   \n",
       "3   [150.73, 664.52, 220.6, 179.86]  150.73  664.52      220.60       179.86   \n",
       "4  [437.05, 590.71, 195.52, 112.53]  437.05  590.71      195.52       112.53   \n",
       "\n",
       "   category_id  disease_status  name object_status bbox_width_total  \n",
       "0            0               N  leaf        normal           336.41  \n",
       "1            1               N  leaf        normal           648.91  \n",
       "2            2               N  stem        normal           118.72  \n",
       "3            0               N  leaf        normal           371.33  \n",
       "4            1               N  leaf        normal           632.57  \n",
       "\n",
       "[5 rows x 21 columns]"
      ]
     },
     "execution_count": 106,
     "metadata": {},
     "output_type": "execute_result"
    }
   ],
   "source": [
    "check = train_20.copy()\n",
    "bbox_width = train_20['bbox_x'] + train_20['bbox_width']\n",
    "check['bbox_width_total'] = bbox_width\n",
    "\n",
    "check.head()"
   ]
  },
  {
   "cell_type": "code",
   "execution_count": 110,
   "metadata": {},
   "outputs": [
    {
     "name": "stdout",
     "output_type": "stream",
     "text": [
      "0\n",
      "0\n",
      "0\n",
      "Empty DataFrame\n",
      "Columns: [file_id, folder_path, file_name, image_width, image_height, class, cause_method, ei_value, pl_value, el_value, pi_value, bbox, bbox_x, bbox_y, bbox_width, bbox_height, category_id, disease_status, name, object_status]\n",
      "Index: []\n"
     ]
    }
   ],
   "source": [
    "image_width = train_20['image_width']\n",
    "image_height = train_20['image_height']\n",
    "x = train_20['bbox_x']\n",
    "y = train_20['bbox_y']\n",
    "width = train_20['bbox_width']\n",
    "height = train_20['bbox_height']\n",
    "\n",
    "width_same = train_20[image_width == (x+width)]\n",
    "height_same = train_20[image_height == (y+height)]\n",
    "width_height_same = train_20[(image_width == (x+width)) & (image_height == (y+height))]\n",
    "\n",
    "print(len(width_same))\n",
    "print(len(height_same))\n",
    "print(len(width_height_same))\n",
    "print(width_same.head(1))"
   ]
  },
  {
   "cell_type": "code",
   "execution_count": 117,
   "metadata": {},
   "outputs": [
    {
     "name": "stdout",
     "output_type": "stream",
     "text": [
      "0\n",
      "1158660\n",
      "381418.2939\n",
      "Empty DataFrame\n",
      "Columns: [file_id, folder_path, file_name, image_width, image_height, class, cause_method, ei_value, pl_value, el_value, pi_value, bbox, bbox_x, bbox_y, bbox_width, bbox_height, category_id, disease_status, name, object_status, image_size, bbox_size, result]\n",
      "Index: []\n",
      "\n",
      "[0 rows x 23 columns]\n"
     ]
    }
   ],
   "source": [
    "train_20['image_size'] = image_width * image_height\n",
    "train_20['bbox_size'] = (x + width) * (y + height)\n",
    "\n",
    "same_size = train_20[train_20['image_size'] == train_20['bbox_size']]\n",
    "\n",
    "train_20['result'] = train_20['image_size'] - train_20['bbox_size']\n",
    "\n",
    "print(len(same_size))\n",
    "print(train_20['image_size'][0])\n",
    "print(train_20['bbox_size'][0])\n",
    "print(train_20[train_20['result'] <= 0])\n"
   ]
  },
  {
   "cell_type": "code",
   "execution_count": 122,
   "metadata": {},
   "outputs": [],
   "source": [
    "widths = train_20['image_width'].tolist()\n",
    "heights = train_20['image_height'].tolist()\n",
    "b_x = train_20['bbox_x'].tolist()\n",
    "b_y = train_20['bbox_y'].tolist()\n",
    "b_wid = train_20['bbox_width'].tolist()\n",
    "b_hi = train_20['bbox_height'].tolist()\n",
    "\n",
    "long = []\n",
    "high = []\n",
    "result_w = []\n",
    "result_h = []\n",
    "\n",
    "for x, w in zip(b_x, b_wid):\n",
    "    lo = x + w\n",
    "    long.append(lo)\n",
    "\n",
    "for y, h in zip(b_y, b_hi):\n",
    "    hi = y + h\n",
    "    high.append(hi)\n",
    "\n",
    "for image_x, box_x in zip(widths, long):\n",
    "    res = image_x - box_x\n",
    "    if res <= 0:\n",
    "        result_w.append(res)\n",
    "\n",
    "for image_y, box_y in zip(heights, high):\n",
    "    res_y = image_y - box_y\n",
    "    if res_y <= 0:\n",
    "        result_h.append(res_y)"
   ]
  },
  {
   "cell_type": "code",
   "execution_count": 123,
   "metadata": {},
   "outputs": [
    {
     "name": "stdout",
     "output_type": "stream",
     "text": [
      "[]\n",
      "[]\n"
     ]
    }
   ],
   "source": [
    "print(result_w)\n",
    "print(result_h)"
   ]
  },
  {
   "cell_type": "code",
   "execution_count": 3,
   "metadata": {},
   "outputs": [
    {
     "data": {
      "text/plain": [
       "Index(['environments', 'annotations', 'licenses', 'categories',\n",
       "       'images.image_id', 'images.farm_id', 'images.crops_id', 'images.crops',\n",
       "       'images.kind_type', 'images.file_path', 'images.fname', 'images.fext',\n",
       "       'images.width', 'images.height', 'images.create_date',\n",
       "       'images.date_captured', 'images.growth_stage', 'images.leaf',\n",
       "       'images.disease_class', 'images.disease_cause',\n",
       "       'images.disease_cause_method', 'images.plant_body',\n",
       "       'growth_index.crops_id', 'growth_index.measured_date',\n",
       "       'growth_index.stem_length', 'growth_index.leaf_cnt',\n",
       "       'growth_index.leaf_width', 'growth_index.leaf_length',\n",
       "       'growth_index.stem_thick', 'growth_index.bloom1_date',\n",
       "       'growth_index.bloom2_date', 'growth_index.bloom3_date',\n",
       "       'growth_index.fr1_cnt', 'growth_index.fr2_cnt', 'growth_index.fr3_cnt',\n",
       "       'growth_index.fr_weight', 'etc_infor.crops_id', 'etc_infor.create_date',\n",
       "       'etc_infor.inform', 'images.stem', 'images.grpoint', 'images.fruit',\n",
       "       'images.flower', 'folder_path', 'file_id'],\n",
       "      dtype='object')"
      ]
     },
     "execution_count": 3,
     "metadata": {},
     "output_type": "execute_result"
    }
   ],
   "source": [
    "tr_blight.columns"
   ]
  },
  {
   "cell_type": "code",
   "execution_count": 6,
   "metadata": {},
   "outputs": [],
   "source": [
    "blight_date = tr_blight['images.fname'].apply(lambda x: x.replace('.jpg', ''))"
   ]
  },
  {
   "cell_type": "code",
   "execution_count": 12,
   "metadata": {},
   "outputs": [
    {
     "name": "stdout",
     "output_type": "stream",
     "text": [
      "                      0\n",
      "0  blight_01_001_220718\n",
      "1  blight_01_001_220718\n",
      "2  blight_01_001_220718\n",
      "3  blight_01_001_220719\n",
      "4  blight_01_001_220719\n",
      "                          0\n",
      "27123  blight_95_020_221018\n",
      "27124  blight_95_020_221018\n",
      "27125  blight_95_020_221018\n",
      "27126  blight_95_020_221018\n",
      "27127  blight_95_020_221018\n",
      "27128\n"
     ]
    }
   ],
   "source": [
    "date_list = []\n",
    "for i in blight_date:\n",
    "    date = i[:-6]\n",
    "    date_list.append(date)\n",
    "\n",
    "df_date = pd.DataFrame(date_list)\n",
    "\n",
    "print(df_date.head())\n",
    "print(df_date.tail())\n",
    "print(len(df_date))\n"
   ]
  },
  {
   "cell_type": "code",
   "execution_count": 13,
   "metadata": {},
   "outputs": [
    {
     "name": "stdout",
     "output_type": "stream",
     "text": [
      "                       0\n",
      "0   blight_01_001_220718\n",
      "3   blight_01_001_220719\n",
      "13  blight_01_001_220720\n",
      "25  blight_01_001_220721\n",
      "33  blight_01_001_220722\n",
      "                          0\n",
      "27092  blight_95_020_221014\n",
      "27099  blight_95_020_221015\n",
      "27106  blight_95_020_221016\n",
      "27116  blight_95_020_221017\n",
      "27121  blight_95_020_221018\n",
      "3026\n"
     ]
    }
   ],
   "source": [
    "df_date_process = df_date.drop_duplicates()\n",
    "\n",
    "print(df_date_process.head())\n",
    "print(df_date_process.tail())\n",
    "print(len(df_date_process))"
   ]
  },
  {
   "cell_type": "code",
   "execution_count": 37,
   "metadata": {},
   "outputs": [],
   "source": [
    "def date_process(df):\n",
    "    target = df['images.fname']\n",
    "    date_list = []\n",
    "    date_cut = target.apply(lambda x: x.replace('.jpg', ''))\n",
    "\n",
    "    for date in date_cut:\n",
    "        month_day = date[:-6]\n",
    "        date_list.append(month_day)\n",
    "    df_month_day = pd.DataFrame({'date_proecssed':date_list})\n",
    "    df_processed = pd.concat([df, df_month_day], axis=1)\n",
    "    df_processed = df_processed.drop_duplicates(subset = ['date_processed'], keep='first')\n",
    "\n",
    "    return df_processed"
   ]
  },
  {
   "cell_type": "code",
   "execution_count": 38,
   "metadata": {},
   "outputs": [
    {
     "ename": "KeyError",
     "evalue": "Index(['date_processed'], dtype='object')",
     "output_type": "error",
     "traceback": [
      "\u001b[1;31m---------------------------------------------------------------------------\u001b[0m",
      "\u001b[1;31mKeyError\u001b[0m                                  Traceback (most recent call last)",
      "\u001b[1;32m~\\AppData\\Local\\Temp\\ipykernel_16908\\2907472012.py\u001b[0m in \u001b[0;36m?\u001b[1;34m()\u001b[0m\n\u001b[0;32m      6\u001b[0m     \u001b[0mlen_o\u001b[0m \u001b[1;33m=\u001b[0m \u001b[0mlen\u001b[0m\u001b[1;33m(\u001b[0m\u001b[0mdf\u001b[0m\u001b[1;33m)\u001b[0m\u001b[1;33m\u001b[0m\u001b[1;33m\u001b[0m\u001b[0m\n\u001b[0;32m      7\u001b[0m     \u001b[0moriginal_len\u001b[0m\u001b[1;33m.\u001b[0m\u001b[0mappend\u001b[0m\u001b[1;33m(\u001b[0m\u001b[0mlen_o\u001b[0m\u001b[1;33m)\u001b[0m\u001b[1;33m\u001b[0m\u001b[1;33m\u001b[0m\u001b[0m\n\u001b[0;32m      8\u001b[0m \u001b[1;33m\u001b[0m\u001b[0m\n\u001b[0;32m      9\u001b[0m \u001b[1;32mfor\u001b[0m \u001b[0mdf_p\u001b[0m \u001b[1;32min\u001b[0m \u001b[0mdf_list\u001b[0m\u001b[1;33m:\u001b[0m\u001b[1;33m\u001b[0m\u001b[1;33m\u001b[0m\u001b[0m\n\u001b[1;32m---> 10\u001b[1;33m     \u001b[0mlen_p\u001b[0m \u001b[1;33m=\u001b[0m \u001b[0mlen\u001b[0m\u001b[1;33m(\u001b[0m\u001b[0mdate_process\u001b[0m\u001b[1;33m(\u001b[0m\u001b[0mdf_p\u001b[0m\u001b[1;33m)\u001b[0m\u001b[1;33m)\u001b[0m\u001b[1;33m\u001b[0m\u001b[1;33m\u001b[0m\u001b[0m\n\u001b[0m\u001b[0;32m     11\u001b[0m     \u001b[0mprocessed_len\u001b[0m\u001b[1;33m.\u001b[0m\u001b[0mappend\u001b[0m\u001b[1;33m(\u001b[0m\u001b[0mlen_p\u001b[0m\u001b[1;33m)\u001b[0m\u001b[1;33m\u001b[0m\u001b[1;33m\u001b[0m\u001b[0m\n\u001b[0;32m     12\u001b[0m \u001b[1;33m\u001b[0m\u001b[0m\n\u001b[0;32m     13\u001b[0m \u001b[0mprint\u001b[0m\u001b[1;33m(\u001b[0m\u001b[0moriginal_len\u001b[0m\u001b[1;33m)\u001b[0m\u001b[1;33m\u001b[0m\u001b[1;33m\u001b[0m\u001b[0m\n",
      "\u001b[1;32m~\\AppData\\Local\\Temp\\ipykernel_16908\\3268924750.py\u001b[0m in \u001b[0;36m?\u001b[1;34m(df)\u001b[0m\n\u001b[0;32m      7\u001b[0m         \u001b[0mmonth_day\u001b[0m \u001b[1;33m=\u001b[0m \u001b[0mdate\u001b[0m\u001b[1;33m[\u001b[0m\u001b[1;33m:\u001b[0m\u001b[1;33m-\u001b[0m\u001b[1;36m6\u001b[0m\u001b[1;33m]\u001b[0m\u001b[1;33m\u001b[0m\u001b[1;33m\u001b[0m\u001b[0m\n\u001b[0;32m      8\u001b[0m         \u001b[0mdate_list\u001b[0m\u001b[1;33m.\u001b[0m\u001b[0mappend\u001b[0m\u001b[1;33m(\u001b[0m\u001b[0mmonth_day\u001b[0m\u001b[1;33m)\u001b[0m\u001b[1;33m\u001b[0m\u001b[1;33m\u001b[0m\u001b[0m\n\u001b[0;32m      9\u001b[0m     \u001b[0mdf_month_day\u001b[0m \u001b[1;33m=\u001b[0m \u001b[0mpd\u001b[0m\u001b[1;33m.\u001b[0m\u001b[0mDataFrame\u001b[0m\u001b[1;33m(\u001b[0m\u001b[1;33m{\u001b[0m\u001b[1;34m'date_proecssed'\u001b[0m\u001b[1;33m:\u001b[0m\u001b[0mdate_list\u001b[0m\u001b[1;33m}\u001b[0m\u001b[1;33m)\u001b[0m\u001b[1;33m\u001b[0m\u001b[1;33m\u001b[0m\u001b[0m\n\u001b[0;32m     10\u001b[0m     \u001b[0mdf_processed\u001b[0m \u001b[1;33m=\u001b[0m \u001b[0mpd\u001b[0m\u001b[1;33m.\u001b[0m\u001b[0mconcat\u001b[0m\u001b[1;33m(\u001b[0m\u001b[1;33m[\u001b[0m\u001b[0mdf\u001b[0m\u001b[1;33m,\u001b[0m \u001b[0mdf_month_day\u001b[0m\u001b[1;33m]\u001b[0m\u001b[1;33m,\u001b[0m \u001b[0maxis\u001b[0m\u001b[1;33m=\u001b[0m\u001b[1;36m1\u001b[0m\u001b[1;33m)\u001b[0m\u001b[1;33m\u001b[0m\u001b[1;33m\u001b[0m\u001b[0m\n\u001b[1;32m---> 11\u001b[1;33m     \u001b[0mdf_processed\u001b[0m \u001b[1;33m=\u001b[0m \u001b[0mdf_processed\u001b[0m\u001b[1;33m.\u001b[0m\u001b[0mdrop_duplicates\u001b[0m\u001b[1;33m(\u001b[0m\u001b[0msubset\u001b[0m \u001b[1;33m=\u001b[0m \u001b[1;33m[\u001b[0m\u001b[1;34m'date_processed'\u001b[0m\u001b[1;33m]\u001b[0m\u001b[1;33m,\u001b[0m \u001b[0mkeep\u001b[0m\u001b[1;33m=\u001b[0m\u001b[1;34m'first'\u001b[0m\u001b[1;33m)\u001b[0m\u001b[1;33m\u001b[0m\u001b[1;33m\u001b[0m\u001b[0m\n\u001b[0m\u001b[0;32m     12\u001b[0m \u001b[1;33m\u001b[0m\u001b[0m\n\u001b[0;32m     13\u001b[0m     \u001b[1;32mreturn\u001b[0m \u001b[0mdf_processed\u001b[0m\u001b[1;33m\u001b[0m\u001b[1;33m\u001b[0m\u001b[0m\n",
      "\u001b[1;32mc:\\Users\\KM_AI_90\\anaconda3\\envs\\berry_detection\\Lib\\site-packages\\pandas\\core\\frame.py\u001b[0m in \u001b[0;36m?\u001b[1;34m(self, subset, keep, inplace, ignore_index)\u001b[0m\n\u001b[0;32m   6801\u001b[0m \u001b[1;33m\u001b[0m\u001b[0m\n\u001b[0;32m   6802\u001b[0m         \u001b[0minplace\u001b[0m \u001b[1;33m=\u001b[0m \u001b[0mvalidate_bool_kwarg\u001b[0m\u001b[1;33m(\u001b[0m\u001b[0minplace\u001b[0m\u001b[1;33m,\u001b[0m \u001b[1;34m\"inplace\"\u001b[0m\u001b[1;33m)\u001b[0m\u001b[1;33m\u001b[0m\u001b[1;33m\u001b[0m\u001b[0m\n\u001b[0;32m   6803\u001b[0m         \u001b[0mignore_index\u001b[0m \u001b[1;33m=\u001b[0m \u001b[0mvalidate_bool_kwarg\u001b[0m\u001b[1;33m(\u001b[0m\u001b[0mignore_index\u001b[0m\u001b[1;33m,\u001b[0m \u001b[1;34m\"ignore_index\"\u001b[0m\u001b[1;33m)\u001b[0m\u001b[1;33m\u001b[0m\u001b[1;33m\u001b[0m\u001b[0m\n\u001b[0;32m   6804\u001b[0m \u001b[1;33m\u001b[0m\u001b[0m\n\u001b[1;32m-> 6805\u001b[1;33m         \u001b[0mresult\u001b[0m \u001b[1;33m=\u001b[0m \u001b[0mself\u001b[0m\u001b[1;33m[\u001b[0m\u001b[1;33m-\u001b[0m\u001b[0mself\u001b[0m\u001b[1;33m.\u001b[0m\u001b[0mduplicated\u001b[0m\u001b[1;33m(\u001b[0m\u001b[0msubset\u001b[0m\u001b[1;33m,\u001b[0m \u001b[0mkeep\u001b[0m\u001b[1;33m=\u001b[0m\u001b[0mkeep\u001b[0m\u001b[1;33m)\u001b[0m\u001b[1;33m]\u001b[0m\u001b[1;33m\u001b[0m\u001b[1;33m\u001b[0m\u001b[0m\n\u001b[0m\u001b[0;32m   6806\u001b[0m         \u001b[1;32mif\u001b[0m \u001b[0mignore_index\u001b[0m\u001b[1;33m:\u001b[0m\u001b[1;33m\u001b[0m\u001b[1;33m\u001b[0m\u001b[0m\n\u001b[0;32m   6807\u001b[0m             \u001b[0mresult\u001b[0m\u001b[1;33m.\u001b[0m\u001b[0mindex\u001b[0m \u001b[1;33m=\u001b[0m \u001b[0mdefault_index\u001b[0m\u001b[1;33m(\u001b[0m\u001b[0mlen\u001b[0m\u001b[1;33m(\u001b[0m\u001b[0mresult\u001b[0m\u001b[1;33m)\u001b[0m\u001b[1;33m)\u001b[0m\u001b[1;33m\u001b[0m\u001b[1;33m\u001b[0m\u001b[0m\n\u001b[0;32m   6808\u001b[0m \u001b[1;33m\u001b[0m\u001b[0m\n",
      "\u001b[1;32mc:\\Users\\KM_AI_90\\anaconda3\\envs\\berry_detection\\Lib\\site-packages\\pandas\\core\\frame.py\u001b[0m in \u001b[0;36m?\u001b[1;34m(self, subset, keep)\u001b[0m\n\u001b[0;32m   6933\u001b[0m         \u001b[1;31m# Otherwise, raise a KeyError, same as if you try to __getitem__ with a\u001b[0m\u001b[1;33m\u001b[0m\u001b[1;33m\u001b[0m\u001b[0m\n\u001b[0;32m   6934\u001b[0m         \u001b[1;31m# key that doesn't exist.\u001b[0m\u001b[1;33m\u001b[0m\u001b[1;33m\u001b[0m\u001b[0m\n\u001b[0;32m   6935\u001b[0m         \u001b[0mdiff\u001b[0m \u001b[1;33m=\u001b[0m \u001b[0mset\u001b[0m\u001b[1;33m(\u001b[0m\u001b[0msubset\u001b[0m\u001b[1;33m)\u001b[0m \u001b[1;33m-\u001b[0m \u001b[0mset\u001b[0m\u001b[1;33m(\u001b[0m\u001b[0mself\u001b[0m\u001b[1;33m.\u001b[0m\u001b[0mcolumns\u001b[0m\u001b[1;33m)\u001b[0m\u001b[1;33m\u001b[0m\u001b[1;33m\u001b[0m\u001b[0m\n\u001b[0;32m   6936\u001b[0m         \u001b[1;32mif\u001b[0m \u001b[0mdiff\u001b[0m\u001b[1;33m:\u001b[0m\u001b[1;33m\u001b[0m\u001b[1;33m\u001b[0m\u001b[0m\n\u001b[1;32m-> 6937\u001b[1;33m             \u001b[1;32mraise\u001b[0m \u001b[0mKeyError\u001b[0m\u001b[1;33m(\u001b[0m\u001b[0mIndex\u001b[0m\u001b[1;33m(\u001b[0m\u001b[0mdiff\u001b[0m\u001b[1;33m)\u001b[0m\u001b[1;33m)\u001b[0m\u001b[1;33m\u001b[0m\u001b[1;33m\u001b[0m\u001b[0m\n\u001b[0m\u001b[0;32m   6938\u001b[0m \u001b[1;33m\u001b[0m\u001b[0m\n\u001b[0;32m   6939\u001b[0m         \u001b[1;32mif\u001b[0m \u001b[0mlen\u001b[0m\u001b[1;33m(\u001b[0m\u001b[0msubset\u001b[0m\u001b[1;33m)\u001b[0m \u001b[1;33m==\u001b[0m \u001b[1;36m1\u001b[0m \u001b[1;32mand\u001b[0m \u001b[0mself\u001b[0m\u001b[1;33m.\u001b[0m\u001b[0mcolumns\u001b[0m\u001b[1;33m.\u001b[0m\u001b[0mis_unique\u001b[0m\u001b[1;33m:\u001b[0m\u001b[1;33m\u001b[0m\u001b[1;33m\u001b[0m\u001b[0m\n\u001b[0;32m   6940\u001b[0m             \u001b[1;31m# GH#45236 This is faster than get_group_index below\u001b[0m\u001b[1;33m\u001b[0m\u001b[1;33m\u001b[0m\u001b[0m\n",
      "\u001b[1;31mKeyError\u001b[0m: Index(['date_processed'], dtype='object')"
     ]
    }
   ],
   "source": [
    "df_list = [tr_normal, tr_blight, tr_wilt, tr_scorch, tr_chlorosis]\n",
    "original_len = []\n",
    "processed_len = []\n",
    "\n",
    "for df in df_list:\n",
    "    len_o = len(df)\n",
    "    original_len.append(len_o)\n",
    "\n",
    "for df_p in df_list:\n",
    "    len_p = len(date_process(df_p))\n",
    "    processed_len.append(len_p)\n",
    "\n",
    "print(original_len)\n",
    "print(processed_len)"
   ]
  },
  {
   "cell_type": "code",
   "execution_count": 41,
   "metadata": {},
   "outputs": [],
   "source": [
    "normal_check = tr_normal.copy()\n",
    "\n",
    "normal_check_date = normal_check['images.fname']\n",
    "\n",
    "date_list = []\n",
    "for i in normal_check_date:\n",
    "    date = i.replace('.jpg', '')\n",
    "    date_cut = date[:-6]\n",
    "    date_list.append(date_cut)\n",
    "\n",
    "df_date = pd.DataFrame({'date_process': date_list})\n",
    "\n",
    "normal = pd.concat([normal_check, df_date], axis=1)"
   ]
  },
  {
   "cell_type": "code",
   "execution_count": 42,
   "metadata": {},
   "outputs": [
    {
     "name": "stdout",
     "output_type": "stream",
     "text": [
      "59432\n",
      "7548\n",
      "7548\n",
      "15096\n"
     ]
    }
   ],
   "source": [
    "normal_first = normal.drop_duplicates(subset=['date_process'], keep='first').reset_index()\n",
    "normal_last = normal.drop_duplicates(subset=['date_process'], keep='last').reset_index()\n",
    "normal_two = pd.concat([normal_first, normal_last], axis=0)\n",
    "\n",
    "print(len(normal))\n",
    "print(len(normal_first))\n",
    "print(len(normal_last))\n",
    "print(len(normal_two))\n"
   ]
  },
  {
   "cell_type": "code",
   "execution_count": null,
   "metadata": {},
   "outputs": [],
   "source": [
    "####################################################################################################################"
   ]
  },
  {
   "cell_type": "code",
   "execution_count": 44,
   "metadata": {},
   "outputs": [
    {
     "name": "stderr",
     "output_type": "stream",
     "text": [
      "C:\\Users\\KM_AI_90\\AppData\\Local\\Temp\\ipykernel_16908\\687461437.py:7: DtypeWarning: Columns (30,31,32,35,41) have mixed types. Specify dtype option on import or set low_memory=False.\n",
      "  tr_normal = pd.read_csv('./data_raw/train_label/merged_df/raw_en_normal.csv', encoding='utf-8')\n"
     ]
    }
   ],
   "source": [
    "vl_raw_normal = pd.read_csv('./data_raw/test_label/merged_df/vl_raw_en_normal.csv', encoding='utf-8')\n",
    "vl_raw_blight = pd.read_csv('./data_raw/test_label/merged_df/vl_raw_en_blight.csv', encoding='utf-8')\n",
    "vl_raw_wilt = pd.read_csv('./data_raw/test_label/merged_df/vl_raw_en_wilt.csv', encoding='utf-8')\n",
    "vl_raw_scorch = pd.read_csv('./data_raw/test_label/merged_df/vl_raw_en_scorch.csv', encoding='utf-8')\n",
    "vl_raw_chlorosis = pd.read_csv('./data_raw/test_label/merged_df/vl_raw_en_chlorosis.csv', encoding='utf-8')\n",
    "\n",
    "tr_normal = pd.read_csv('./data_raw/train_label/merged_df/raw_en_normal.csv', encoding='utf-8')\n",
    "tr_blight = pd.read_csv('./data_raw/train_label/merged_df/raw_en_blight.csv', encoding='utf-8')\n",
    "tr_wilt = pd.read_csv('./data_raw/train_label/merged_df/raw_en_wilt.csv', encoding='utf-8')\n",
    "tr_scorch = pd.read_csv('./data_raw/train_label/merged_df/raw_en_scorch.csv', encoding='utf-8')\n",
    "tr_chlorosis = pd.read_csv('./data_raw/train_label/merged_df/raw_en_chlorosis.csv', encoding='utf-8')"
   ]
  },
  {
   "cell_type": "code",
   "execution_count": 48,
   "metadata": {},
   "outputs": [],
   "source": [
    "def data_selection_by_date(df):\n",
    "    original = df.copy()\n",
    "    original_date = original['images.fname']\n",
    "    date_list = []\n",
    "\n",
    "    for date in original_date:\n",
    "        format_cut = date.replace('.jpg', '')\n",
    "        month_day = format_cut[:-6]\n",
    "        date_list.append(month_day)\n",
    "\n",
    "    df_date = pd.DataFrame({'month_day': date_list})\n",
    "\n",
    "    add_month_day = pd.concat([original, df_date], axis=1)\n",
    "\n",
    "    first_in = add_month_day.drop_duplicates(subset=['month_day'], keep='first').reset_index()\n",
    "    last_in = add_month_day.drop_duplicates(subset=['month_day'], keep='last').reset_index()\n",
    "\n",
    "    df_sel = pd.concat([first_in, last_in], axis=0)\n",
    "\n",
    "    return df_sel"
   ]
  },
  {
   "cell_type": "code",
   "execution_count": 49,
   "metadata": {},
   "outputs": [
    {
     "name": "stdout",
     "output_type": "stream",
     "text": [
      "59432\n",
      "15096\n"
     ]
    }
   ],
   "source": [
    "normal_selected = data_selection_by_date(tr_normal)\n",
    "\n",
    "print(len(tr_normal))\n",
    "print(len(normal_selected))"
   ]
  },
  {
   "cell_type": "code",
   "execution_count": 133,
   "metadata": {},
   "outputs": [
    {
     "data": {
      "text/plain": [
       "'\\n*방법 1의 특징\\n    1. 데이터프레임의 모든 데이터를 한 번에 처리하고 결과를 반환할때 적합하다.\\n    2. 함수가 데이터프레임 전체를 한 번에 처리할 수 있도록 설계되어야 한다.\\n    3. 복잡한 데이터 처리나 대량의 데이터 처리에 적합하다.\\n\\n*방법 2의 특징\\n    1. 데이터프레임의 각 행에 대해 개별적으로 처리가 필요할 때 유용하다.\\n    2. 각 행의 데이터를 함수에 개별적으로 전달하고 그 결과를 누적하는 방식으로 사용해야 한다.\\n    3. 더 세밀한 데이터 처리가 가능하지만, 대량의 데이터를 처리해야 할 때는 처리 시간이 더 오래 걸릴 수 있다(방법 1에 비해)\\n\\n*결론\\n    *데이터 전처리, 특징 추출 같은 반복 작업 -> 방법 1이 효율적\\n    *데이터 분석, 모델링 단계에서 특정 조건에 따라 다르게 처리해야 하는 작업 -> 방법 2가 효율적\\n'"
      ]
     },
     "execution_count": 133,
     "metadata": {},
     "output_type": "execute_result"
    }
   ],
   "source": [
    "#######################################################################################\n",
    "# 바운딩 박스 좌표에 따른 이미지 크롭 함수 정의\n",
    "    # 두 가지 접근 방식이 있으며, 앞으로의 데이터 처리 관련해서도 항상 적용되는 접근방식이니 기억해둘것.\n",
    "\n",
    "from PIL import Image\n",
    "import numpy as np\n",
    "\n",
    "\n",
    "# 방법1: 함수 내부에서 결과 리스트 정의 및 데이터프레임 전체 적용\n",
    "\n",
    "def validate_and_crop_image(image_path_list, bbox_list):\n",
    "\n",
    "    cropped_images = []\n",
    "    error_indices = []\n",
    "    \n",
    "    for index, (image_path, bbox) in enumerate(zip(image_path_list, bbox_list)):\n",
    "        try:\n",
    "            x, y, w, h = bbox\n",
    "\n",
    "            with Image.open(image_path) as img:\n",
    "                img_width, img_height = img.size\n",
    "                if w > 0 and h > 0:\n",
    "                    crop_x_end = min(x + w, img_width)\n",
    "                    crop_y_end = min(y + h, img_height)\n",
    "\n",
    "                    crop_width = crop_x_end - x\n",
    "                    crop_height = crop_y_end - y\n",
    "\n",
    "                    if crop_width > 0 and crop_height > 0:\n",
    "                        cropped_img = img.crop((x, y, crop_x_end, crop_y_end))\n",
    "                        cropped_images.append(cropped_img)\n",
    "                    else:\n",
    "                        raise ValueError(\"Invalid crop size. Crop width and height must be grater than 0.\")\n",
    "                else:\n",
    "                    raise ValueError(\"Width and height of the bounding box must be grater than 0.\")\n",
    "                \n",
    "        except Exception as e:\n",
    "            print(f\"Error processing image at index {index}: {e}\")\n",
    "            error_indices.append(index)\n",
    "\n",
    "    cropped_images_arrays = [np.array(image) for image in cropped_images]\n",
    "    return cropped_images, cropped_images_arrays, error_indices\n",
    "###############################################################################################\n",
    "# 방법2: 단일 행에 적용되는 함수 정의 후 데이터프레임의 행을 순회하면서 함수 적용 및 리스트에 누적 저장\n",
    "    # 예외처리 구문도 함수 내부가 아니라, 해당 함수를 실행하는 실행반복문에서 사용한다.\n",
    "\n",
    "# def validate_and_crop_image(image_path, bbox):\n",
    "\n",
    "#     x, y, w, h = bbox\n",
    "\n",
    "#     with Image.open(image_path) as img:\n",
    "#         img_width, img_height = img.size\n",
    "#         if w > 0 and h > 0:\n",
    "#             crop_x_end = min(x + w, img_width)\n",
    "#             crop_y_end = min(y + h, img_height)\n",
    "\n",
    "#             crop_width = crop_x_end - x\n",
    "#             crop_height = crop_y_end - y\n",
    "\n",
    "#             if crop_width > 0 and crop_height > 0:\n",
    "#                 cropped_img = img.crop((x, y, crop_x_end, crop_y_end))\n",
    "#                 return cropped_img\n",
    "\n",
    "#             else:\n",
    "#                 raise ValueError(\"Invalid crop size. Crop width and height must be grater than 0.\")\n",
    "#         else:\n",
    "#             raise ValueError(\"Width and height of the bounding box must be grater than 0.\")\n",
    "\n",
    "# cropped_images = []\n",
    "# error_indices = []\n",
    "\n",
    "# for index, row in df.iterrows():\n",
    "#     image_path = os.path.join(row['folder_path'], row['file_name'])\n",
    "#     bbox = (row['bbox_x'], row['bbox_y'], row['bbox_width'], row['bbox_height'])\n",
    "#     try:\n",
    "#         cropped_img = validate_and_crop_image(image_path, bbox)\n",
    "#         cropped_images.append(cropped_img)\n",
    "#     except Exception as e:\n",
    "#         print(f\"Error processing image at index {index}: {e}\")\n",
    "#         error_indices.append(index)\n",
    "###############################################################################################\n",
    "\"\"\"\n",
    "*방법 1의 특징\n",
    "    1. 데이터프레임의 모든 데이터를 한 번에 처리하고 결과를 반환할때 적합하다.\n",
    "    2. 함수가 데이터프레임 전체를 한 번에 처리할 수 있도록 설계되어야 한다.\n",
    "    3. 복잡한 데이터 처리나 대량의 데이터 처리에 적합하다.\n",
    "\n",
    "*방법 2의 특징\n",
    "    1. 데이터프레임의 각 행에 대해 개별적으로 처리가 필요할 때 유용하다.\n",
    "    2. 각 행의 데이터를 함수에 개별적으로 전달하고 그 결과를 누적하는 방식으로 사용해야 한다.\n",
    "    3. 더 세밀한 데이터 처리가 가능하지만, 대량의 데이터를 처리해야 할 때는 처리 시간이 더 오래 걸릴 수 있다(방법 1에 비해)\n",
    "\n",
    "*결론\n",
    "    *데이터 전처리, 특징 추출 같은 반복 작업 -> 방법 1이 효율적\n",
    "    *데이터 분석, 모델링 단계에서 특정 조건에 따라 다르게 처리해야 하는 작업 -> 방법 2가 효율적\n",
    "\"\"\""
   ]
  },
  {
   "cell_type": "code",
   "execution_count": 161,
   "metadata": {},
   "outputs": [],
   "source": [
    "train_10 = pd.read_csv('./data_preprocessed/label/train_label_10.csv', encoding='utf-8')\n",
    "\n",
    "image_path_list = (train_10['folder_path'] + train_10['file_name']).tolist()\n",
    "train_10['bbox'] = train_10['bbox'].apply(ast.literal_eval)\n",
    "bbox_list = train_10['bbox'].tolist()\n"
   ]
  },
  {
   "cell_type": "code",
   "execution_count": 162,
   "metadata": {},
   "outputs": [
    {
     "name": "stdout",
     "output_type": "stream",
     "text": [
      "28382\n",
      "28382\n",
      "0\n"
     ]
    }
   ],
   "source": [
    "cropped_images, cropped_images_arrays, error_indices = validate_and_crop_image(image_path_list, bbox_list)\n",
    "\n",
    "print(len(train_10))\n",
    "print(len(cropped_images))\n",
    "print(len(error_indices))"
   ]
  },
  {
   "cell_type": "code",
   "execution_count": 163,
   "metadata": {},
   "outputs": [],
   "source": [
    "np.savez(\"./data_preprocessed/part_image_arrays/cropped_10.npz\", *cropped_images_arrays)"
   ]
  },
  {
   "cell_type": "code",
   "execution_count": 171,
   "metadata": {},
   "outputs": [],
   "source": [
    "train_100 = pd.read_csv('./data_preprocessed/label/train_label_100.csv', encoding='utf-8')\n",
    "\n",
    "check_sample = train_100[160000:].copy()"
   ]
  },
  {
   "cell_type": "code",
   "execution_count": 172,
   "metadata": {},
   "outputs": [
    {
     "name": "stdout",
     "output_type": "stream",
     "text": [
      "Error processing image at index 22704: Width and height of the bounding box must be grater than 0.\n",
      "105501\n",
      "105500\n",
      "1\n",
      "[22704]\n"
     ]
    }
   ],
   "source": [
    "image_path_list_check = (check_sample['folder_path'] + check_sample['file_name']).tolist()\n",
    "check_sample['bbox'] = check_sample['bbox'].apply(ast.literal_eval)\n",
    "bbox_list_check = check_sample['bbox'].tolist()\n",
    "\n",
    "cropped_images_check, cropped_images_arrays_check, error_indices_check = validate_and_crop_image(image_path_list_check, bbox_list_check)\n",
    "\n",
    "print(len(check_sample))\n",
    "print(len(cropped_images_check))\n",
    "print(len(error_indices_check))\n",
    "print(error_indices_check)"
   ]
  },
  {
   "cell_type": "code",
   "execution_count": 170,
   "metadata": {},
   "outputs": [
    {
     "name": "stdout",
     "output_type": "stream",
     "text": [
      "170292\n"
     ]
    }
   ],
   "source": [
    "print(len(train_10)*6)"
   ]
  },
  {
   "cell_type": "code",
   "execution_count": null,
   "metadata": {},
   "outputs": [],
   "source": []
  }
 ],
 "metadata": {
  "kernelspec": {
   "display_name": "berry_detection",
   "language": "python",
   "name": "python3"
  },
  "language_info": {
   "codemirror_mode": {
    "name": "ipython",
    "version": 3
   },
   "file_extension": ".py",
   "mimetype": "text/x-python",
   "name": "python",
   "nbconvert_exporter": "python",
   "pygments_lexer": "ipython3",
   "version": "3.11.8"
  }
 },
 "nbformat": 4,
 "nbformat_minor": 2
}
