{
 "cells": [
  {
   "cell_type": "code",
   "execution_count": 60,
   "metadata": {},
   "outputs": [],
   "source": [
    "# 원시 데이터 샘플링\n",
    "\n",
    "import os\n",
    "import shutil\n",
    "from pathlib import Path\n",
    "\n",
    "input_path_1 = './data_raw/train_label/TL_01.딸기_001.설향_01.정상'\n",
    "input_path_2 = './data_raw/train_label/TL_01.딸기_001.설향_02.역병'\n",
    "input_path_3 = './data_raw/train_label/TL_01.딸기_001.설향_03.시들음병'\n",
    "input_path_4 = './data_raw/train_label/TL_01.딸기_001.설향_04.잎끝마름'\n",
    "input_path_5 = './data_raw/train_label/TL_01.딸기_001.설향_05.황화'\n",
    "output_path_1 = './data_raw/train_label/sampling_normal'\n",
    "output_path_2 = './data_raw/train_label/sampling_blight'\n",
    "output_path_3 = './data_raw/train_label/sampling_wilt'\n",
    "output_path_4 = './data_raw/train_label/sampling_scorch'\n",
    "output_path_5 = './data_raw/train_label/sampling_chlorosis'\n",
    "\n",
    "input_paths = [input_path_1, input_path_2, input_path_3, input_path_4, input_path_5]\n",
    "output_paths = [output_path_1, output_path_2, output_path_3, output_path_4, output_path_5]\n",
    "num_files = 12000\n",
    "\n",
    "def copy_files(input_path, output_path, num_files=12000):\n",
    "    # output폴더를 여기서 생성하게 할 경우에는 아래의 Path 기능 사용\n",
    "    # Path(output_path).mkdir(parents=True, exist_ok=True)\n",
    "    \n",
    "    files = [f for f in os.listdir(input_path) if f.endswith('.json')]\n",
    "    files_to_copy = files[-num_files:]\n",
    "\n",
    "    for file in files_to_copy:\n",
    "        shutil.copy(os.path.join(input_path, file), os.path.join(output_path, file))\n",
    "\n",
    "    return f\"{len(files_to_copy)} files coppied from {input_path} to {output_path}\"\n"
   ]
  },
  {
   "cell_type": "code",
   "execution_count": 61,
   "metadata": {},
   "outputs": [
    {
     "ename": "KeyboardInterrupt",
     "evalue": "",
     "output_type": "error",
     "traceback": [
      "\u001b[1;31m---------------------------------------------------------------------------\u001b[0m",
      "\u001b[1;31mKeyboardInterrupt\u001b[0m                         Traceback (most recent call last)",
      "Cell \u001b[1;32mIn[61], line 1\u001b[0m\n\u001b[1;32m----> 1\u001b[0m copy_results \u001b[38;5;241m=\u001b[39m [copy_files(input_path, output_path, num_files) \u001b[38;5;28;01mfor\u001b[39;00m input_path, output_path \u001b[38;5;129;01min\u001b[39;00m \u001b[38;5;28mzip\u001b[39m(input_paths, output_paths)]\n\u001b[0;32m      2\u001b[0m copy_results\n",
      "Cell \u001b[1;32mIn[61], line 1\u001b[0m, in \u001b[0;36m<listcomp>\u001b[1;34m(.0)\u001b[0m\n\u001b[1;32m----> 1\u001b[0m copy_results \u001b[38;5;241m=\u001b[39m [copy_files(input_path, output_path, num_files) \u001b[38;5;28;01mfor\u001b[39;00m input_path, output_path \u001b[38;5;129;01min\u001b[39;00m \u001b[38;5;28mzip\u001b[39m(input_paths, output_paths)]\n\u001b[0;32m      2\u001b[0m copy_results\n",
      "Cell \u001b[1;32mIn[60], line 30\u001b[0m, in \u001b[0;36mcopy_files\u001b[1;34m(input_path, output_path, num_files)\u001b[0m\n\u001b[0;32m     27\u001b[0m files_to_copy \u001b[38;5;241m=\u001b[39m files[\u001b[38;5;241m-\u001b[39mnum_files:]\n\u001b[0;32m     29\u001b[0m \u001b[38;5;28;01mfor\u001b[39;00m file \u001b[38;5;129;01min\u001b[39;00m files_to_copy:\n\u001b[1;32m---> 30\u001b[0m     shutil\u001b[38;5;241m.\u001b[39mcopy(os\u001b[38;5;241m.\u001b[39mpath\u001b[38;5;241m.\u001b[39mjoin(input_path, file), os\u001b[38;5;241m.\u001b[39mpath\u001b[38;5;241m.\u001b[39mjoin(output_path, file))\n\u001b[0;32m     32\u001b[0m \u001b[38;5;28;01mreturn\u001b[39;00m \u001b[38;5;124mf\u001b[39m\u001b[38;5;124m\"\u001b[39m\u001b[38;5;132;01m{\u001b[39;00m\u001b[38;5;28mlen\u001b[39m(files_to_copy)\u001b[38;5;132;01m}\u001b[39;00m\u001b[38;5;124m files coppied from \u001b[39m\u001b[38;5;132;01m{\u001b[39;00minput_path\u001b[38;5;132;01m}\u001b[39;00m\u001b[38;5;124m to \u001b[39m\u001b[38;5;132;01m{\u001b[39;00moutput_path\u001b[38;5;132;01m}\u001b[39;00m\u001b[38;5;124m\"\u001b[39m\n",
      "File \u001b[1;32mc:\\Users\\KKM_AI_STUDY_LT\\anaconda3\\Lib\\shutil.py:419\u001b[0m, in \u001b[0;36mcopy\u001b[1;34m(src, dst, follow_symlinks)\u001b[0m\n\u001b[0;32m    417\u001b[0m \u001b[38;5;28;01mif\u001b[39;00m os\u001b[38;5;241m.\u001b[39mpath\u001b[38;5;241m.\u001b[39misdir(dst):\n\u001b[0;32m    418\u001b[0m     dst \u001b[38;5;241m=\u001b[39m os\u001b[38;5;241m.\u001b[39mpath\u001b[38;5;241m.\u001b[39mjoin(dst, os\u001b[38;5;241m.\u001b[39mpath\u001b[38;5;241m.\u001b[39mbasename(src))\n\u001b[1;32m--> 419\u001b[0m copyfile(src, dst, follow_symlinks\u001b[38;5;241m=\u001b[39mfollow_symlinks)\n\u001b[0;32m    420\u001b[0m copymode(src, dst, follow_symlinks\u001b[38;5;241m=\u001b[39mfollow_symlinks)\n\u001b[0;32m    421\u001b[0m \u001b[38;5;28;01mreturn\u001b[39;00m dst\n",
      "File \u001b[1;32mc:\\Users\\KKM_AI_STUDY_LT\\anaconda3\\Lib\\shutil.py:256\u001b[0m, in \u001b[0;36mcopyfile\u001b[1;34m(src, dst, follow_symlinks)\u001b[0m\n\u001b[0;32m    254\u001b[0m     os\u001b[38;5;241m.\u001b[39msymlink(os\u001b[38;5;241m.\u001b[39mreadlink(src), dst)\n\u001b[0;32m    255\u001b[0m \u001b[38;5;28;01melse\u001b[39;00m:\n\u001b[1;32m--> 256\u001b[0m     \u001b[38;5;28;01mwith\u001b[39;00m \u001b[38;5;28mopen\u001b[39m(src, \u001b[38;5;124m'\u001b[39m\u001b[38;5;124mrb\u001b[39m\u001b[38;5;124m'\u001b[39m) \u001b[38;5;28;01mas\u001b[39;00m fsrc:\n\u001b[0;32m    257\u001b[0m         \u001b[38;5;28;01mtry\u001b[39;00m:\n\u001b[0;32m    258\u001b[0m             \u001b[38;5;28;01mwith\u001b[39;00m \u001b[38;5;28mopen\u001b[39m(dst, \u001b[38;5;124m'\u001b[39m\u001b[38;5;124mwb\u001b[39m\u001b[38;5;124m'\u001b[39m) \u001b[38;5;28;01mas\u001b[39;00m fdst:\n\u001b[0;32m    259\u001b[0m                 \u001b[38;5;66;03m# macOS\u001b[39;00m\n",
      "\u001b[1;31mKeyboardInterrupt\u001b[0m: "
     ]
    }
   ],
   "source": [
    "copy_results = [copy_files(input_path, output_path, num_files) for input_path, output_path in zip(input_paths, output_paths)]\n",
    "copy_results"
   ]
  },
  {
   "cell_type": "code",
   "execution_count": 62,
   "metadata": {},
   "outputs": [],
   "source": [
    "# 원시 데이터 데이터 프레임화(기존 작업 코드 재활용 후 여기서 현재 계획대로 데이터프레임 분리)\n",
    "# 종류별로 작업 후 나중에 병합(concat, axis=0)\n",
    "\n",
    "import json\n",
    "import pandas as pd\n",
    "\n",
    "def json_to_df(folder_path):\n",
    "    df_list = []\n",
    "    for filename in os.listdir(folder_path):\n",
    "        file_path = os.path.join(folder_path, filename)\n",
    "        if filename.endswith('.json'):\n",
    "            try:\n",
    "                with open(file_path, 'r', encoding='utf-8') as file:\n",
    "                    data = json.load(file)\n",
    "\n",
    "                df_list.append(pd.json_normalize(data))\n",
    "            except json.JSONDecodeError as e:\n",
    "                print(f\"Error decoding JSON in file {filename}: {e}\")\n",
    "\n",
    "    if df_list:\n",
    "        merged_df = pd.concat(df_list, ignore_index=True)\n",
    "    else:\n",
    "        print(\"No valid JSON files found\")\n",
    "\n",
    "    print('merged_df')\n",
    "    return merged_df\n"
   ]
  },
  {
   "cell_type": "code",
   "execution_count": 63,
   "metadata": {},
   "outputs": [
    {
     "name": "stdout",
     "output_type": "stream",
     "text": [
      "merged_df\n",
      "merged_df\n",
      "merged_df\n",
      "merged_df\n",
      "merged_df\n"
     ]
    }
   ],
   "source": [
    "folder_paths = [r'./data_raw/train_label/sampling_normal', r'./data_raw/train_label/sampling_blight',\n",
    "                r'./data_raw/train_label/sampling_wilt', r'./data_raw/train_label/sampling_scorch',\n",
    "                r'./data_raw/train_label/sampling_chlorosis']\n",
    "\n",
    "merged_normal = json_to_df(folder_paths[0])\n",
    "merged_blight = json_to_df(folder_paths[1])\n",
    "merged_wilt = json_to_df(folder_paths[2])\n",
    "merged_scorch = json_to_df(folder_paths[3])\n",
    "merged_chlorosis = json_to_df(folder_paths[4])"
   ]
  },
  {
   "cell_type": "code",
   "execution_count": 64,
   "metadata": {},
   "outputs": [
    {
     "name": "stdout",
     "output_type": "stream",
     "text": [
      "                                        environments  \\\n",
      "0  [{'farm_id': 'AI22_006', 'receive_date': '2022...   \n",
      "\n",
      "                                         annotations  \\\n",
      "0  [{'coordinates': [256.48, 505.46, 401.62, 505....   \n",
      "\n",
      "                                           licenses  \\\n",
      "0  [{'id': 1, 'name': 'CCMediaService', 'url': ''}]   \n",
      "\n",
      "                                          categories  images.image_id  \\\n",
      "0  [{'id': 0, 'name': '잎', 'supercategory': 'none...           110703   \n",
      "\n",
      "  images.farm_id images.crops_id images.crops images.kind_type  \\\n",
      "0       AI22_006    BERRY_55_008           딸기               설향   \n",
      "\n",
      "             images.file_path  ... growth_index.fr2_cnt growth_index.fr3_cnt  \\\n",
      "0  /원천데이터/01.딸기/001.설향/01.정상/  ...                 None                 None   \n",
      "\n",
      "  growth_index.fr_weight etc_infor.crops_id etc_infor.create_date  \\\n",
      "0                   None       BERRY_55_008                         \n",
      "\n",
      "  etc_infor.inform images.stem images.grpoint images.fruit images.flower  \n",
      "0                          NaN            NaN          NaN           NaN  \n",
      "\n",
      "[1 rows x 43 columns]\n",
      "                                        environments  \\\n",
      "0  [{'farm_id': 'AI22_012', 'receive_date': '2022...   \n",
      "\n",
      "                                         annotations  \\\n",
      "0  [{'coordinates': [358.59, 693.45, 529.53, 693....   \n",
      "\n",
      "                                           licenses  \\\n",
      "0  [{'id': 1, 'name': 'CCMediaService', 'url': ''}]   \n",
      "\n",
      "                                          categories  images.image_id  \\\n",
      "0  [{'id': 0, 'name': '잎', 'supercategory': 'none...           153928   \n",
      "\n",
      "  images.farm_id images.crops_id images.crops images.kind_type  \\\n",
      "0       AI22_012    BERRY_90_002           딸기               설향   \n",
      "\n",
      "             images.file_path  ... growth_index.fr2_cnt growth_index.fr3_cnt  \\\n",
      "0  /원천데이터/01.딸기/001.설향/02.역병/  ...                 None                 None   \n",
      "\n",
      "  growth_index.fr_weight etc_infor.crops_id etc_infor.create_date  \\\n",
      "0                   None       BERRY_90_002                         \n",
      "\n",
      "  etc_infor.inform images.stem images.grpoint images.fruit images.flower  \n",
      "0                          NaN            NaN          NaN           NaN  \n",
      "\n",
      "[1 rows x 43 columns]\n",
      "                                        environments  \\\n",
      "0  [{'farm_id': 'AI22_011', 'receive_date': '2022...   \n",
      "\n",
      "                                         annotations  \\\n",
      "0  [{'coordinates': [318.4, 729.49, 528.91, 729.4...   \n",
      "\n",
      "                                           licenses  \\\n",
      "0  [{'id': 1, 'name': 'CCMediaService', 'url': ''}]   \n",
      "\n",
      "                                          categories  images.image_id  \\\n",
      "0  [{'id': 0, 'name': '잎', 'supercategory': 'none...           208446   \n",
      "\n",
      "  images.farm_id images.crops_id images.crops images.kind_type  \\\n",
      "0       AI22_011    BERRY_78_023           딸기               설향   \n",
      "\n",
      "               images.file_path  ... growth_index.fr2_cnt  \\\n",
      "0  /원천데이터/01.딸기/001.설향/03.시들음병/  ...                 None   \n",
      "\n",
      "  growth_index.fr3_cnt growth_index.fr_weight etc_infor.crops_id  \\\n",
      "0                 None                   None       BERRY_78_023   \n",
      "\n",
      "  etc_infor.create_date etc_infor.inform images.stem images.grpoint  \\\n",
      "0                                                NaN            NaN   \n",
      "\n",
      "  images.fruit images.flower  \n",
      "0          NaN           NaN  \n",
      "\n",
      "[1 rows x 43 columns]\n",
      "                                        environments  \\\n",
      "0  [{'farm_id': 'AI22_003', 'receive_date': '2022...   \n",
      "\n",
      "                                         annotations  \\\n",
      "0  [{'coordinates': [828.16, 619.63, 860.44, 619....   \n",
      "\n",
      "                                           licenses  \\\n",
      "0  [{'id': 1, 'name': 'CCMediaService', 'url': ''}]   \n",
      "\n",
      "                                          categories  images.image_id  \\\n",
      "0  [{'id': 0, 'name': '줄기', 'supercategory': 'non...           212380   \n",
      "\n",
      "  images.farm_id images.crops_id images.crops images.kind_type  \\\n",
      "0       AI22_003    BERRY_29_021           딸기               설향   \n",
      "\n",
      "               images.file_path  ... growth_index.fr2_cnt  \\\n",
      "0  /원천데이터/01.딸기/001.설향/04.잎끝마름/  ...                 None   \n",
      "\n",
      "  growth_index.fr3_cnt growth_index.fr_weight etc_infor.crops_id  \\\n",
      "0                 None                   None       BERRY_29_021   \n",
      "\n",
      "  etc_infor.create_date etc_infor.inform images.stem images.grpoint  \\\n",
      "0                                                NaN            NaN   \n",
      "\n",
      "  images.fruit images.flower  \n",
      "0          NaN           NaN  \n",
      "\n",
      "[1 rows x 43 columns]\n",
      "                                        environments  \\\n",
      "0  [{'farm_id': 'AI22_003', 'receive_date': '2022...   \n",
      "\n",
      "                                         annotations  \\\n",
      "0  [{'coordinates': [288.08, 388.4, 330.79, 388.4...   \n",
      "\n",
      "                                           licenses  \\\n",
      "0  [{'id': 1, 'name': 'CCMediaService', 'url': ''}]   \n",
      "\n",
      "                                          categories  images.image_id  \\\n",
      "0  [{'id': 0, 'name': '줄기', 'supercategory': 'non...            98240   \n",
      "\n",
      "  images.farm_id images.crops_id images.crops images.kind_type  \\\n",
      "0       AI22_003    BERRY_23_006           딸기               설향   \n",
      "\n",
      "             images.file_path  ... growth_index.bloom2_date  \\\n",
      "0  /원천데이터/01.딸기/001.설향/05.황화/  ...                     None   \n",
      "\n",
      "  growth_index.bloom3_date growth_index.fr1_cnt growth_index.fr2_cnt  \\\n",
      "0                     None                 None                 None   \n",
      "\n",
      "  growth_index.fr3_cnt growth_index.fr_weight etc_infor.crops_id  \\\n",
      "0                 None                   None       BERRY_23_006   \n",
      "\n",
      "  etc_infor.create_date etc_infor.inform images.plant_body  \n",
      "0                                                      NaN  \n",
      "\n",
      "[1 rows x 43 columns]\n"
     ]
    }
   ],
   "source": [
    "print(merged_normal.head(1))\n",
    "print(merged_blight.head(1))\n",
    "print(merged_wilt.head(1))\n",
    "print(merged_scorch.head(1))\n",
    "print(merged_chlorosis.head(1))"
   ]
  },
  {
   "cell_type": "code",
   "execution_count": 68,
   "metadata": {},
   "outputs": [],
   "source": [
    "merged_normal.to_csv('./data_raw/train_label/merged_df/merged_raw_normal.csv', encoding='utf-8', index=False)\n",
    "merged_blight.to_csv('./data_raw/train_label/merged_df/merged_raw_blight.csv', encoding='utf-8', index=False)\n",
    "merged_wilt.to_csv('./data_raw/train_label/merged_df/merged_raw_wilt.csv', encoding='utf-8', index=False)\n",
    "merged_scorch.to_csv('./data_raw/train_label/merged_df/merged_raw_scorch.csv', encoding='utf-8', index=False)\n",
    "merged_chlorosis.to_csv('./data_raw/train_label/merged_df/merged_raw_chlorosis.csv', encoding='utf-8', index=False)"
   ]
  },
  {
   "cell_type": "code",
   "execution_count": 1,
   "metadata": {},
   "outputs": [],
   "source": [
    "# 데이터프레임 정제(df_main, df_bbox)\n",
    "\"\"\"\n",
    "raw 데이터프레임 컬럼 추출 요소\n",
    "*environments: value_{ti, hi, ci, ir, sr, tl, ei, pl, cl, el, hl, pi, RP}\n",
    "*annotations\n",
    "*categories\n",
    "*width\n",
    "*height\n",
    "*images.fname\n",
    "*images.disease_class\n",
    "*images.disease_cause_method\n",
    "\"\"\"\n",
    "\n",
    "import pandas as pd\n",
    "import json\n",
    "import numpy as np\n",
    "\n",
    "raw_normal = pd.read_csv('./data_raw/train_label/merged_df/merged_raw_normal.csv', encoding='utf-8')\n",
    "raw_blight = pd.read_csv('./data_raw/train_label/merged_df/merged_raw_blight.csv', encoding='utf-8')\n",
    "raw_wilt = pd.read_csv('./data_raw/train_label/merged_df/merged_raw_wilt.csv', encoding='utf-8')\n",
    "raw_scorch = pd.read_csv('./data_raw/train_label/merged_df/merged_raw_scorch.csv', encoding='utf-8')\n",
    "raw_chlorosis = pd.read_csv('./data_raw/train_label/merged_df/merged_raw_chlorosis.csv', encoding='utf-8')\n"
   ]
  },
  {
   "cell_type": "code",
   "execution_count": 2,
   "metadata": {},
   "outputs": [
    {
     "name": "stdout",
     "output_type": "stream",
     "text": [
      "<class 'pandas.core.frame.DataFrame'>\n",
      "RangeIndex: 12000 entries, 0 to 11999\n",
      "Data columns (total 43 columns):\n",
      " #   Column                       Non-Null Count  Dtype  \n",
      "---  ------                       --------------  -----  \n",
      " 0   environments                 12000 non-null  object \n",
      " 1   annotations                  12000 non-null  object \n",
      " 2   licenses                     12000 non-null  object \n",
      " 3   categories                   12000 non-null  object \n",
      " 4   images.image_id              12000 non-null  int64  \n",
      " 5   images.farm_id               12000 non-null  object \n",
      " 6   images.crops_id              12000 non-null  object \n",
      " 7   images.crops                 12000 non-null  object \n",
      " 8   images.kind_type             12000 non-null  object \n",
      " 9   images.file_path             12000 non-null  object \n",
      " 10  images.fname                 12000 non-null  object \n",
      " 11  images.fext                  12000 non-null  object \n",
      " 12  images.width                 12000 non-null  int64  \n",
      " 13  images.height                12000 non-null  int64  \n",
      " 14  images.create_date           12000 non-null  object \n",
      " 15  images.date_captured         12000 non-null  object \n",
      " 16  images.growth_stage          12000 non-null  object \n",
      " 17  images.leaf                  12000 non-null  int64  \n",
      " 18  images.disease_class         12000 non-null  object \n",
      " 19  images.disease_cause         12000 non-null  object \n",
      " 20  images.disease_cause_method  12000 non-null  object \n",
      " 21  images.plant_body            10343 non-null  float64\n",
      " 22  growth_index.crops_id        12000 non-null  object \n",
      " 23  growth_index.measured_date   12000 non-null  object \n",
      " 24  growth_index.stem_length     12000 non-null  float64\n",
      " 25  growth_index.leaf_cnt        12000 non-null  int64  \n",
      " 26  growth_index.leaf_width      12000 non-null  float64\n",
      " 27  growth_index.leaf_length     12000 non-null  float64\n",
      " 28  growth_index.stem_thick      12000 non-null  float64\n",
      " 29  growth_index.bloom1_date     2539 non-null   object \n",
      " 30  growth_index.bloom2_date     0 non-null      float64\n",
      " 31  growth_index.bloom3_date     0 non-null      float64\n",
      " 32  growth_index.fr1_cnt         1880 non-null   float64\n",
      " 33  growth_index.fr2_cnt         0 non-null      float64\n",
      " 34  growth_index.fr3_cnt         0 non-null      float64\n",
      " 35  growth_index.fr_weight       0 non-null      float64\n",
      " 36  etc_infor.crops_id           12000 non-null  object \n",
      " 37  etc_infor.create_date        0 non-null      float64\n",
      " 38  etc_infor.inform             0 non-null      float64\n",
      " 39  images.stem                  1657 non-null   float64\n",
      " 40  images.grpoint               1657 non-null   float64\n",
      " 41  images.fruit                 1657 non-null   float64\n",
      " 42  images.flower                1657 non-null   float64\n",
      "dtypes: float64(17), int64(5), object(21)\n",
      "memory usage: 3.9+ MB\n"
     ]
    }
   ],
   "source": [
    "raw_normal.info()"
   ]
  },
  {
   "cell_type": "code",
   "execution_count": 24,
   "metadata": {},
   "outputs": [],
   "source": [
    "def extract_cols(df, col_list):\n",
    "    df_sel = df[col_list].copy()\n",
    "    df_sel['annotations'] = df_sel['annotations'].apply(lambda x: json.loads(x.replace(\"'\", \"\\\"\")))\n",
    "    df_sel['categories'] = df_sel['categories'].apply(lambda x: json.loads(x.replace(\"'\", \"\\\"\")))\n",
    "    df_sel['environments'] = df_sel['environments'].apply(lambda x: json.dumps(x))\n",
    "    df_sel['environments'] = df_sel['environments'].apply(json.loads)\n",
    "\n",
    "    max_len = df_sel.loc[df_sel['annotations'].str.len().idxmax()]\n",
    "    max_len_val = max_len['annotations']\n",
    "    data = max_len_val\n",
    "\n",
    "    if data and isinstance(data, list):\n",
    "        item = data[-1]\n",
    "        cat_id = item['category_id']\n",
    "        print(cat_id)\n",
    "    else:\n",
    "        print(\"error\")\n",
    "\n",
    "    length = cat_id + 1\n",
    "    zero_box = [0,0,0,0]\n",
    "    unknown_status = 'F'\n",
    "\n",
    "    for i in range(length):\n",
    "        df_sel[f'bbox_{i}'] = None\n",
    "        df_sel[f'status_{i}'] = None\n",
    "        df_sel[f'name_{i}'] = None\n",
    "\n",
    "        df_sel[f'ti_value_{i}'] = None\n",
    "        df_sel[f'hi_value_{i}'] = None\n",
    "        df_sel[f'ci_value_{i}'] = None\n",
    "        df_sel[f'ir_value_{i}'] = None\n",
    "        df_sel[f'tl_value_{i}'] = None\n",
    "        df_sel[f'ei_value_{i}'] = None\n",
    "        df_sel[f'pl_value_{i}'] = None\n",
    "        df_sel[f'sr_value_{i}'] = None\n",
    "        df_sel[f'cl_value_{i}'] = None\n",
    "        df_sel[f'el_value_{i}'] = None\n",
    "        df_sel[f'hl_value_{i}'] = None\n",
    "        df_sel[f'pi_value_{i}'] = None\n",
    "        df_sel[f'rp_value_{i}'] = None\n",
    "\n",
    "\n",
    "    for idx, row in df_sel.iterrows():\n",
    "        annotation_data = row['annotations']\n",
    "        for k in range(len(annotation_data)):\n",
    "            if k < len(annotation_data):\n",
    "                df_sel.at[idx, f'bbox_{k}'] = annotation_data[k]['bbox']\n",
    "                df_sel.at[idx, f'status_{k}'] = annotation_data[k]['disease_status']\n",
    "            else:\n",
    "                df_sel.at[idx, f'bbox_{k}'] = zero_box\n",
    "                df_sel.at[idx, f'status_{k}'] = unknown_status\n",
    "\n",
    "    for idx, row in df_sel.iterrows():\n",
    "        name_data = row['categories']\n",
    "        for k in range(len(name_data)):\n",
    "            if k < len(name_data):\n",
    "                df_sel.at[idx, f'name_{k}'] = name_data[k]['name']\n",
    "            else:\n",
    "                df_sel.at[idx, f'name_{k}'] = 'unknown'\n",
    "\n",
    "    for idx, row in df_sel.iterrows():\n",
    "        value_data = row['environments']\n",
    "        if isinstance(value_data, str):\n",
    "            value_data = json.loads(value_data)\n",
    "        for k in range(len(value_data)):\n",
    "            if k < len(value_data):\n",
    "                df_sel.at[idx, f'ti_value_{k}'] = value_data[k]['ti_value']\n",
    "                df_sel.at[idx, f'hi_value_{k}'] = value_data[k]['hi_value']\n",
    "                df_sel.at[idx, f'ci_value_{k}'] = value_data[k]['ci_value']\n",
    "                df_sel.at[idx, f'ir_value_{k}'] = value_data[k]['ir_value']\n",
    "                df_sel.at[idx, f'tl_value_{k}'] = value_data[k]['tl_value']\n",
    "                df_sel.at[idx, f'ei_value_{k}'] = value_data[k]['ei_value']\n",
    "                df_sel.at[idx, f'pl_value_{k}'] = value_data[k]['pl_value']\n",
    "                df_sel.at[idx, f'sr_value_{k}'] = value_data[k]['sr_value']\n",
    "                df_sel.at[idx, f'cl_value_{k}'] = value_data[k]['cl_value']\n",
    "                df_sel.at[idx, f'el_value_{k}'] = value_data[k]['el_value']\n",
    "                df_sel.at[idx, f'hl_value_{k}'] = value_data[k]['hl_value']\n",
    "                df_sel.at[idx, f'pi_value_{k}'] = value_data[k]['pi_value']\n",
    "                df_sel.at[idx, f'rp_value_{k}'] = value_data[k]['rp_value']\n",
    "            else:\n",
    "                df_sel.at[idx, f'ti_value_{k}'] = 'no_value'\n",
    "                df_sel.at[idx, f'hi_value_{k}'] = 'no_value'\n",
    "                df_sel.at[idx, f'ci_value_{k}'] = 'no_value'\n",
    "                df_sel.at[idx, f'ir_value_{k}'] = 'no_value'\n",
    "                df_sel.at[idx, f'tl_value_{k}'] = 'no_value'\n",
    "                df_sel.at[idx, f'ei_value_{k}'] = 'no_value'\n",
    "                df_sel.at[idx, f'pl_value_{k}'] = 'no_value'\n",
    "                df_sel.at[idx, f'sr_value_{k}'] = 'no_value'\n",
    "                df_sel.at[idx, f'cl_value_{k}'] = 'no_value'\n",
    "                df_sel.at[idx, f'el_value_{k}'] = 'no_value'\n",
    "                df_sel.at[idx, f'hl_value_{k}'] = 'no_value'\n",
    "                df_sel.at[idx, f'pi_value_{k}'] = 'no_value'\n",
    "                df_sel.at[idx, f'rp_value_{k}'] = 'no_value'\n",
    "\n",
    "\n",
    "    df_sel.drop(columns=['environments','annotations', 'categories'], axis=1, inplace=True)\n",
    "\n",
    "    return df_sel\n",
    "\n"
   ]
  },
  {
   "cell_type": "code",
   "execution_count": 2,
   "metadata": {},
   "outputs": [
    {
     "data": {
      "text/html": [
       "<div>\n",
       "<style scoped>\n",
       "    .dataframe tbody tr th:only-of-type {\n",
       "        vertical-align: middle;\n",
       "    }\n",
       "\n",
       "    .dataframe tbody tr th {\n",
       "        vertical-align: top;\n",
       "    }\n",
       "\n",
       "    .dataframe thead th {\n",
       "        text-align: right;\n",
       "    }\n",
       "</style>\n",
       "<table border=\"1\" class=\"dataframe\">\n",
       "  <thead>\n",
       "    <tr style=\"text-align: right;\">\n",
       "      <th></th>\n",
       "      <th>environments</th>\n",
       "      <th>annotations</th>\n",
       "    </tr>\n",
       "  </thead>\n",
       "  <tbody>\n",
       "    <tr>\n",
       "      <th>0</th>\n",
       "      <td>[{'farm_id': 'AI22_006', 'receive_date': '2022...</td>\n",
       "      <td>[{'coordinates': [256.48, 505.46, 401.62, 505....</td>\n",
       "    </tr>\n",
       "  </tbody>\n",
       "</table>\n",
       "</div>"
      ],
      "text/plain": [
       "                                        environments  \\\n",
       "0  [{'farm_id': 'AI22_006', 'receive_date': '2022...   \n",
       "\n",
       "                                         annotations  \n",
       "0  [{'coordinates': [256.48, 505.46, 401.62, 505....  "
      ]
     },
     "execution_count": 2,
     "metadata": {},
     "output_type": "execute_result"
    }
   ],
   "source": [
    "normal_sample = raw_normal[['environments', 'annotations']][:5].copy()\n",
    "normal_sample.head(1)"
   ]
  },
  {
   "cell_type": "code",
   "execution_count": 3,
   "metadata": {},
   "outputs": [
    {
     "name": "stdout",
     "output_type": "stream",
     "text": [
      "<class 'list'>\n",
      "[{'farm_id': 'AI22_006', 'receive_date': '2022-10-05 00:00:26', 'id': 0, 'ti_value': '16.7', 'hi_value': '93.4', 'ci_value': '595', 'ir_value': None, 'tl_value': None, 'ei_value': '0.07', 'pl_value': '6.2', 'sr_value': '0', 'cl_value': '20.2', 'el_value': '3.20', 'hl_value': '3.9', 'pi_value': '11.0', 'rp_value': None}, {'farm_id': 'AI22_006', 'receive_date': '2022-10-05 00:01:23', 'id': 1, 'ti_value': '16.7', 'hi_value': '93.5', 'ci_value': '597', 'ir_value': None, 'tl_value': None, 'ei_value': '0.07', 'pl_value': '6.2', 'sr_value': '0', 'cl_value': '20.2', 'el_value': '3.20', 'hl_value': '3.9', 'pi_value': '11.0', 'rp_value': None}, {'farm_id': 'AI22_006', 'receive_date': '2022-10-05 00:02:24', 'id': 2, 'ti_value': '16.7', 'hi_value': '93.5', 'ci_value': '597', 'ir_value': None, 'tl_value': None, 'ei_value': '0.07', 'pl_value': '6.2', 'sr_value': '0', 'cl_value': '20.2', 'el_value': '3.20', 'hl_value': '3.9', 'pi_value': '11.0', 'rp_value': None}, {'farm_id': 'AI22_006', 'receive_date': '2022-10-05 00:03:25', 'id': 3, 'ti_value': '16.7', 'hi_value': '93.5', 'ci_value': '597', 'ir_value': None, 'tl_value': None, 'ei_value': '0.07', 'pl_value': '6.2', 'sr_value': '0', 'cl_value': '20.2', 'el_value': '3.20', 'hl_value': '3.9', 'pi_value': '11.0', 'rp_value': None}, {'farm_id': 'AI22_006', 'receive_date': '2022-10-05 00:04:25', 'id': 4, 'ti_value': '16.7', 'hi_value': '93.5', 'ci_value': '597', 'ir_value': None, 'tl_value': None, 'ei_value': '0.07', 'pl_value': '6.2', 'sr_value': '0', 'cl_value': '20.2', 'el_value': '3.20', 'hl_value': '3.9', 'pi_value': '11.0', 'rp_value': None}]\n"
     ]
    }
   ],
   "source": [
    "json_str = normal_sample['environments'][0]\n",
    "str_corrected = json_str.replace(\"None\", \"null\").replace(\"'\", \"\\\"\")\n",
    "\n",
    "env = json.loads(str_corrected)\n",
    "\n",
    "print(type(env))\n",
    "print(env)"
   ]
  },
  {
   "cell_type": "code",
   "execution_count": 25,
   "metadata": {},
   "outputs": [
    {
     "name": "stdout",
     "output_type": "stream",
     "text": [
      "<class 'str'>\n"
     ]
    }
   ],
   "source": [
    "print(type(env[0]['ti_value']))"
   ]
  },
  {
   "cell_type": "code",
   "execution_count": null,
   "metadata": {},
   "outputs": [
    {
     "name": "stdout",
     "output_type": "stream",
     "text": [
      "145\n"
     ]
    }
   ],
   "source": [
    "\"\"\"\n",
    "각 _value에 대한 빈 리스트 생성(각 _value를 key, _value에 할당된 값들의 리스트를 value로 하는 딕셔너리 생성하기)\n",
    "    # _value명 리스트를 추출하고, 각 요소를 변수로 하는 빈 리스트 생성은 동적 변수 할당이라 권장되지 않음\n",
    "각 딕셔너리에서 해당 값을 대상 빈 리스트에 append -> 각 값들이 집합한 리스트 생성\n",
    "리스트의 요소 타입을 str -> float으로 변환(현재 딕셔너리에 저장된 각 숫자값들은 str로 되어있음)\n",
    "리스트별로 요소의 값들의 평균을 계산(sum/len)\n",
    "각 _value이름을 갖는 컬럼을 생성하고 거기에 값 입력\n",
    "\n",
    "위의 과정을 데이터프레임 전체에 적용하는 함수 생성\n",
    "\"\"\""
   ]
  },
  {
   "cell_type": "code",
   "execution_count": 4,
   "metadata": {},
   "outputs": [
    {
     "name": "stdout",
     "output_type": "stream",
     "text": [
      "['ti_value', 'hi_value', 'ci_value', 'ir_value', 'tl_value', 'ei_value', 'pl_value', 'sr_value', 'cl_value', 'el_value', 'hl_value', 'pi_value', 'rp_value']\n"
     ]
    }
   ],
   "source": [
    "elements_value = env[0]\n",
    "name_value = []\n",
    "for key, value in elements_value.items():\n",
    "    if key.endswith('_value'):\n",
    "        name_value.append(key)\n",
    "\n",
    "print(name_value)"
   ]
  },
  {
   "cell_type": "code",
   "execution_count": 5,
   "metadata": {},
   "outputs": [
    {
     "data": {
      "text/plain": [
       "{'ti_value': ['16.7', '16.7', '16.7', '16.7', '16.7'],\n",
       " 'hi_value': ['93.4', '93.5', '93.5', '93.5', '93.5'],\n",
       " 'ci_value': ['595', '597', '597', '597', '597'],\n",
       " 'ir_value': [None, None, None, None, None],\n",
       " 'tl_value': [None, None, None, None, None],\n",
       " 'ei_value': ['0.07', '0.07', '0.07', '0.07', '0.07'],\n",
       " 'pl_value': ['6.2', '6.2', '6.2', '6.2', '6.2'],\n",
       " 'sr_value': ['0', '0', '0', '0', '0'],\n",
       " 'cl_value': ['20.2', '20.2', '20.2', '20.2', '20.2'],\n",
       " 'el_value': ['3.20', '3.20', '3.20', '3.20', '3.20'],\n",
       " 'hl_value': ['3.9', '3.9', '3.9', '3.9', '3.9'],\n",
       " 'pi_value': ['11.0', '11.0', '11.0', '11.0', '11.0'],\n",
       " 'rp_value': [None, None, None, None, None]}"
      ]
     },
     "execution_count": 5,
     "metadata": {},
     "output_type": "execute_result"
    }
   ],
   "source": [
    "value_list = {}\n",
    "\n",
    "for dictionary in env:\n",
    "    for key, value in dictionary.items():\n",
    "        if key in name_value:\n",
    "            if key not in value_list:\n",
    "                value_list[key] = [value]\n",
    "            else:\n",
    "                value_list[key].append(value)\n",
    "\n",
    "value_list\n"
   ]
  },
  {
   "cell_type": "code",
   "execution_count": 6,
   "metadata": {},
   "outputs": [
    {
     "name": "stdout",
     "output_type": "stream",
     "text": [
      "{'ti_value': ['16.7', '16.7', '16.7', '16.7', '16.7'], 'hi_value': ['93.4', '93.5', '93.5', '93.5', '93.5'], 'ci_value': ['595', '597', '597', '597', '597'], 'ir_value': [None, None, None, None, None], 'tl_value': [None, None, None, None, None], 'ei_value': ['0.07', '0.07', '0.07', '0.07', '0.07'], 'pl_value': ['6.2', '6.2', '6.2', '6.2', '6.2'], 'sr_value': ['0', '0', '0', '0', '0'], 'cl_value': ['20.2', '20.2', '20.2', '20.2', '20.2'], 'el_value': ['3.20', '3.20', '3.20', '3.20', '3.20'], 'hl_value': ['3.9', '3.9', '3.9', '3.9', '3.9'], 'pi_value': ['11.0', '11.0', '11.0', '11.0', '11.0'], 'rp_value': [None, None, None, None, None]}\n"
     ]
    }
   ],
   "source": [
    "def extract_values(dict_list, value_names):\n",
    "    value_dict = {}\n",
    "    for dictionary in dict_list:\n",
    "        for key, value in dictionary.items():\n",
    "            if key in value_names:\n",
    "                if key not in value_dict:\n",
    "                    value_dict[key] = [value]\n",
    "                else:\n",
    "                    value_dict[key].append(value)\n",
    "    return value_dict\n",
    "\n",
    "row_1 = extract_values(env, name_value)\n",
    "print(row_1)"
   ]
  },
  {
   "cell_type": "code",
   "execution_count": 7,
   "metadata": {},
   "outputs": [
    {
     "data": {
      "text/html": [
       "<div>\n",
       "<style scoped>\n",
       "    .dataframe tbody tr th:only-of-type {\n",
       "        vertical-align: middle;\n",
       "    }\n",
       "\n",
       "    .dataframe tbody tr th {\n",
       "        vertical-align: top;\n",
       "    }\n",
       "\n",
       "    .dataframe thead th {\n",
       "        text-align: right;\n",
       "    }\n",
       "</style>\n",
       "<table border=\"1\" class=\"dataframe\">\n",
       "  <thead>\n",
       "    <tr style=\"text-align: right;\">\n",
       "      <th></th>\n",
       "      <th>environments</th>\n",
       "      <th>annotations</th>\n",
       "      <th>values</th>\n",
       "    </tr>\n",
       "  </thead>\n",
       "  <tbody>\n",
       "    <tr>\n",
       "      <th>0</th>\n",
       "      <td>[{'farm_id': 'AI22_006', 'receive_date': '2022...</td>\n",
       "      <td>[{'coordinates': [256.48, 505.46, 401.62, 505....</td>\n",
       "      <td>{'ti_value': ['16.7', '16.7', '16.7', '16.7', ...</td>\n",
       "    </tr>\n",
       "  </tbody>\n",
       "</table>\n",
       "</div>"
      ],
      "text/plain": [
       "                                        environments  \\\n",
       "0  [{'farm_id': 'AI22_006', 'receive_date': '2022...   \n",
       "\n",
       "                                         annotations  \\\n",
       "0  [{'coordinates': [256.48, 505.46, 401.62, 505....   \n",
       "\n",
       "                                              values  \n",
       "0  {'ti_value': ['16.7', '16.7', '16.7', '16.7', ...  "
      ]
     },
     "execution_count": 7,
     "metadata": {},
     "output_type": "execute_result"
    }
   ],
   "source": [
    "normal_sample['values'] = None\n",
    "\n",
    "for idx, row in normal_sample.iterrows():\n",
    "    json_str = row['environments']\n",
    "    str_corrected = json_str.replace(\"None\", \"null\").replace(\"'\", \"\\\"\")\n",
    "    env_values = json.loads(str_corrected)\n",
    "    env_value_dict = extract_values(env_values, name_value)\n",
    "    normal_sample.at[idx, 'values'] = env_value_dict\n",
    "\n",
    "normal_sample.head(1)\n"
   ]
  },
  {
   "cell_type": "code",
   "execution_count": 44,
   "metadata": {},
   "outputs": [
    {
     "name": "stdout",
     "output_type": "stream",
     "text": [
      "13\n",
      "{'ti_value': ['16.7', '16.7', '16.7', '16.7', '16.7'], 'hi_value': ['93.4', '93.5', '93.5', '93.5', '93.5'], 'ci_value': ['595', '597', '597', '597', '597'], 'ir_value': [None, None, None, None, None], 'tl_value': [None, None, None, None, None], 'ei_value': ['0.07', '0.07', '0.07', '0.07', '0.07'], 'pl_value': ['6.2', '6.2', '6.2', '6.2', '6.2'], 'sr_value': ['0', '0', '0', '0', '0'], 'cl_value': ['20.2', '20.2', '20.2', '20.2', '20.2'], 'el_value': ['3.20', '3.20', '3.20', '3.20', '3.20'], 'hl_value': ['3.9', '3.9', '3.9', '3.9', '3.9'], 'pi_value': ['11.0', '11.0', '11.0', '11.0', '11.0'], 'rp_value': [None, None, None, None, None]}\n",
      "13\n",
      "{'ti_value': ['16.7', '16.7', '16.7', '16.7', '16.7'], 'hi_value': ['93.4', '93.5', '93.5', '93.5', '93.5'], 'ci_value': ['595', '597', '597', '597', '597'], 'ir_value': [None, None, None, None, None], 'tl_value': [None, None, None, None, None], 'ei_value': ['0.07', '0.07', '0.07', '0.07', '0.07'], 'pl_value': ['6.2', '6.2', '6.2', '6.2', '6.2'], 'sr_value': ['0', '0', '0', '0', '0'], 'cl_value': ['20.2', '20.2', '20.2', '20.2', '20.2'], 'el_value': ['3.20', '3.20', '3.20', '3.20', '3.20'], 'hl_value': ['3.9', '3.9', '3.9', '3.9', '3.9'], 'pi_value': ['11.0', '11.0', '11.0', '11.0', '11.0'], 'rp_value': [None, None, None, None, None]}\n",
      "13\n",
      "{'ti_value': ['16.7', '16.7', '16.7', '16.7', '16.7'], 'hi_value': ['93.4', '93.5', '93.5', '93.5', '93.5'], 'ci_value': ['595', '597', '597', '597', '597'], 'ir_value': [None, None, None, None, None], 'tl_value': [None, None, None, None, None], 'ei_value': ['0.07', '0.07', '0.07', '0.07', '0.07'], 'pl_value': ['6.2', '6.2', '6.2', '6.2', '6.2'], 'sr_value': ['0', '0', '0', '0', '0'], 'cl_value': ['20.2', '20.2', '20.2', '20.2', '20.2'], 'el_value': ['3.20', '3.20', '3.20', '3.20', '3.20'], 'hl_value': ['3.9', '3.9', '3.9', '3.9', '3.9'], 'pi_value': ['11.0', '11.0', '11.0', '11.0', '11.0'], 'rp_value': [None, None, None, None, None]}\n",
      "13\n",
      "{'ti_value': ['16.7', '16.7', '16.7', '16.7', '16.7'], 'hi_value': ['93.4', '93.5', '93.5', '93.5', '93.5'], 'ci_value': ['595', '597', '597', '597', '597'], 'ir_value': [None, None, None, None, None], 'tl_value': [None, None, None, None, None], 'ei_value': ['0.07', '0.07', '0.07', '0.07', '0.07'], 'pl_value': ['6.2', '6.2', '6.2', '6.2', '6.2'], 'sr_value': ['0', '0', '0', '0', '0'], 'cl_value': ['20.2', '20.2', '20.2', '20.2', '20.2'], 'el_value': ['3.20', '3.20', '3.20', '3.20', '3.20'], 'hl_value': ['3.9', '3.9', '3.9', '3.9', '3.9'], 'pi_value': ['11.0', '11.0', '11.0', '11.0', '11.0'], 'rp_value': [None, None, None, None, None]}\n",
      "13\n",
      "{'ti_value': ['16.7', '16.7', '16.7', '16.7', '16.7'], 'hi_value': ['93.4', '93.5', '93.5', '93.5', '93.5'], 'ci_value': ['595', '597', '597', '597', '597'], 'ir_value': [None, None, None, None, None], 'tl_value': [None, None, None, None, None], 'ei_value': ['0.07', '0.07', '0.07', '0.07', '0.07'], 'pl_value': ['6.2', '6.2', '6.2', '6.2', '6.2'], 'sr_value': ['0', '0', '0', '0', '0'], 'cl_value': ['20.2', '20.2', '20.2', '20.2', '20.2'], 'el_value': ['3.20', '3.20', '3.20', '3.20', '3.20'], 'hl_value': ['3.9', '3.9', '3.9', '3.9', '3.9'], 'pi_value': ['11.0', '11.0', '11.0', '11.0', '11.0'], 'rp_value': [None, None, None, None, None]}\n",
      "<class 'pandas.core.frame.DataFrame'>\n",
      "RangeIndex: 5 entries, 0 to 4\n",
      "Data columns (total 3 columns):\n",
      " #   Column        Non-Null Count  Dtype \n",
      "---  ------        --------------  ----- \n",
      " 0   environments  5 non-null      object\n",
      " 1   annotations   5 non-null      object\n",
      " 2   values        5 non-null      object\n",
      "dtypes: object(3)\n",
      "memory usage: 252.0+ bytes\n",
      "None\n",
      "{'ti_value': ['16.7', '16.7', '16.7', '16.7', '16.7'], 'hi_value': ['93.4', '93.5', '93.5', '93.5', '93.5'], 'ci_value': ['595', '597', '597', '597', '597'], 'ir_value': [None, None, None, None, None], 'tl_value': [None, None, None, None, None], 'ei_value': ['0.07', '0.07', '0.07', '0.07', '0.07'], 'pl_value': ['6.2', '6.2', '6.2', '6.2', '6.2'], 'sr_value': ['0', '0', '0', '0', '0'], 'cl_value': ['20.2', '20.2', '20.2', '20.2', '20.2'], 'el_value': ['3.20', '3.20', '3.20', '3.20', '3.20'], 'hl_value': ['3.9', '3.9', '3.9', '3.9', '3.9'], 'pi_value': ['11.0', '11.0', '11.0', '11.0', '11.0'], 'rp_value': [None, None, None, None, None]}\n"
     ]
    }
   ],
   "source": [
    "for idx, row in normal_sample.iterrows():\n",
    "    len_values = row['values']\n",
    "    print(len(len_values))\n",
    "    print(len_values)\n",
    "\n",
    "print(normal_sample.info())\n",
    "print(normal_sample['values'][0])"
   ]
  },
  {
   "cell_type": "code",
   "execution_count": 8,
   "metadata": {},
   "outputs": [
    {
     "name": "stdout",
     "output_type": "stream",
     "text": [
      "ti_value ['16.7', '16.7', '16.7', '16.7', '16.7']\n",
      "hi_value ['93.4', '93.5', '93.5', '93.5', '93.5']\n",
      "ci_value ['595', '597', '597', '597', '597']\n",
      "ir_value [None, None, None, None, None]\n",
      "tl_value [None, None, None, None, None]\n",
      "ei_value ['0.07', '0.07', '0.07', '0.07', '0.07']\n",
      "pl_value ['6.2', '6.2', '6.2', '6.2', '6.2']\n",
      "sr_value ['0', '0', '0', '0', '0']\n",
      "cl_value ['20.2', '20.2', '20.2', '20.2', '20.2']\n",
      "el_value ['3.20', '3.20', '3.20', '3.20', '3.20']\n",
      "hl_value ['3.9', '3.9', '3.9', '3.9', '3.9']\n",
      "pi_value ['11.0', '11.0', '11.0', '11.0', '11.0']\n",
      "rp_value [None, None, None, None, None]\n",
      "ti_value ['16.7', '16.7', '16.7', '16.7', '16.7']\n",
      "hi_value ['93.4', '93.5', '93.5', '93.5', '93.5']\n",
      "ci_value ['595', '597', '597', '597', '597']\n",
      "ir_value [None, None, None, None, None]\n",
      "tl_value [None, None, None, None, None]\n",
      "ei_value ['0.07', '0.07', '0.07', '0.07', '0.07']\n",
      "pl_value ['6.2', '6.2', '6.2', '6.2', '6.2']\n",
      "sr_value ['0', '0', '0', '0', '0']\n",
      "cl_value ['20.2', '20.2', '20.2', '20.2', '20.2']\n",
      "el_value ['3.20', '3.20', '3.20', '3.20', '3.20']\n",
      "hl_value ['3.9', '3.9', '3.9', '3.9', '3.9']\n",
      "pi_value ['11.0', '11.0', '11.0', '11.0', '11.0']\n",
      "rp_value [None, None, None, None, None]\n",
      "ti_value ['16.7', '16.7', '16.7', '16.7', '16.7']\n",
      "hi_value ['93.4', '93.5', '93.5', '93.5', '93.5']\n",
      "ci_value ['595', '597', '597', '597', '597']\n",
      "ir_value [None, None, None, None, None]\n",
      "tl_value [None, None, None, None, None]\n",
      "ei_value ['0.07', '0.07', '0.07', '0.07', '0.07']\n",
      "pl_value ['6.2', '6.2', '6.2', '6.2', '6.2']\n",
      "sr_value ['0', '0', '0', '0', '0']\n",
      "cl_value ['20.2', '20.2', '20.2', '20.2', '20.2']\n",
      "el_value ['3.20', '3.20', '3.20', '3.20', '3.20']\n",
      "hl_value ['3.9', '3.9', '3.9', '3.9', '3.9']\n",
      "pi_value ['11.0', '11.0', '11.0', '11.0', '11.0']\n",
      "rp_value [None, None, None, None, None]\n",
      "ti_value ['16.7', '16.7', '16.7', '16.7', '16.7']\n",
      "hi_value ['93.4', '93.5', '93.5', '93.5', '93.5']\n",
      "ci_value ['595', '597', '597', '597', '597']\n",
      "ir_value [None, None, None, None, None]\n",
      "tl_value [None, None, None, None, None]\n",
      "ei_value ['0.07', '0.07', '0.07', '0.07', '0.07']\n",
      "pl_value ['6.2', '6.2', '6.2', '6.2', '6.2']\n",
      "sr_value ['0', '0', '0', '0', '0']\n",
      "cl_value ['20.2', '20.2', '20.2', '20.2', '20.2']\n",
      "el_value ['3.20', '3.20', '3.20', '3.20', '3.20']\n",
      "hl_value ['3.9', '3.9', '3.9', '3.9', '3.9']\n",
      "pi_value ['11.0', '11.0', '11.0', '11.0', '11.0']\n",
      "rp_value [None, None, None, None, None]\n",
      "ti_value ['16.7', '16.7', '16.7', '16.7', '16.7']\n",
      "hi_value ['93.4', '93.5', '93.5', '93.5', '93.5']\n",
      "ci_value ['595', '597', '597', '597', '597']\n",
      "ir_value [None, None, None, None, None]\n",
      "tl_value [None, None, None, None, None]\n",
      "ei_value ['0.07', '0.07', '0.07', '0.07', '0.07']\n",
      "pl_value ['6.2', '6.2', '6.2', '6.2', '6.2']\n",
      "sr_value ['0', '0', '0', '0', '0']\n",
      "cl_value ['20.2', '20.2', '20.2', '20.2', '20.2']\n",
      "el_value ['3.20', '3.20', '3.20', '3.20', '3.20']\n",
      "hl_value ['3.9', '3.9', '3.9', '3.9', '3.9']\n",
      "pi_value ['11.0', '11.0', '11.0', '11.0', '11.0']\n",
      "rp_value [None, None, None, None, None]\n"
     ]
    }
   ],
   "source": [
    "for index, row in normal_sample.iterrows():\n",
    "    values = row['values']\n",
    "    for key, value in values.items():\n",
    "        print(key, value)"
   ]
  },
  {
   "cell_type": "code",
   "execution_count": 9,
   "metadata": {},
   "outputs": [
    {
     "data": {
      "text/html": [
       "<div>\n",
       "<style scoped>\n",
       "    .dataframe tbody tr th:only-of-type {\n",
       "        vertical-align: middle;\n",
       "    }\n",
       "\n",
       "    .dataframe tbody tr th {\n",
       "        vertical-align: top;\n",
       "    }\n",
       "\n",
       "    .dataframe thead th {\n",
       "        text-align: right;\n",
       "    }\n",
       "</style>\n",
       "<table border=\"1\" class=\"dataframe\">\n",
       "  <thead>\n",
       "    <tr style=\"text-align: right;\">\n",
       "      <th></th>\n",
       "      <th>environments</th>\n",
       "      <th>annotations</th>\n",
       "      <th>values</th>\n",
       "      <th>ti_value</th>\n",
       "      <th>hi_value</th>\n",
       "      <th>ci_value</th>\n",
       "      <th>ir_value</th>\n",
       "      <th>tl_value</th>\n",
       "      <th>ei_value</th>\n",
       "      <th>pl_value</th>\n",
       "      <th>sr_value</th>\n",
       "      <th>cl_value</th>\n",
       "      <th>el_value</th>\n",
       "      <th>hl_value</th>\n",
       "      <th>pi_value</th>\n",
       "      <th>rp_value</th>\n",
       "    </tr>\n",
       "  </thead>\n",
       "  <tbody>\n",
       "    <tr>\n",
       "      <th>0</th>\n",
       "      <td>[{'farm_id': 'AI22_006', 'receive_date': '2022...</td>\n",
       "      <td>[{'coordinates': [256.48, 505.46, 401.62, 505....</td>\n",
       "      <td>{'ti_value': ['16.7', '16.7', '16.7', '16.7', ...</td>\n",
       "      <td>[16.7, 16.7, 16.7, 16.7, 16.7]</td>\n",
       "      <td>[93.4, 93.5, 93.5, 93.5, 93.5]</td>\n",
       "      <td>[595, 597, 597, 597, 597]</td>\n",
       "      <td>[None, None, None, None, None]</td>\n",
       "      <td>[None, None, None, None, None]</td>\n",
       "      <td>[0.07, 0.07, 0.07, 0.07, 0.07]</td>\n",
       "      <td>[6.2, 6.2, 6.2, 6.2, 6.2]</td>\n",
       "      <td>[0, 0, 0, 0, 0]</td>\n",
       "      <td>[20.2, 20.2, 20.2, 20.2, 20.2]</td>\n",
       "      <td>[3.20, 3.20, 3.20, 3.20, 3.20]</td>\n",
       "      <td>[3.9, 3.9, 3.9, 3.9, 3.9]</td>\n",
       "      <td>[11.0, 11.0, 11.0, 11.0, 11.0]</td>\n",
       "      <td>[None, None, None, None, None]</td>\n",
       "    </tr>\n",
       "  </tbody>\n",
       "</table>\n",
       "</div>"
      ],
      "text/plain": [
       "                                        environments  \\\n",
       "0  [{'farm_id': 'AI22_006', 'receive_date': '2022...   \n",
       "\n",
       "                                         annotations  \\\n",
       "0  [{'coordinates': [256.48, 505.46, 401.62, 505....   \n",
       "\n",
       "                                              values  \\\n",
       "0  {'ti_value': ['16.7', '16.7', '16.7', '16.7', ...   \n",
       "\n",
       "                         ti_value                        hi_value  \\\n",
       "0  [16.7, 16.7, 16.7, 16.7, 16.7]  [93.4, 93.5, 93.5, 93.5, 93.5]   \n",
       "\n",
       "                    ci_value                        ir_value  \\\n",
       "0  [595, 597, 597, 597, 597]  [None, None, None, None, None]   \n",
       "\n",
       "                         tl_value                        ei_value  \\\n",
       "0  [None, None, None, None, None]  [0.07, 0.07, 0.07, 0.07, 0.07]   \n",
       "\n",
       "                    pl_value         sr_value                        cl_value  \\\n",
       "0  [6.2, 6.2, 6.2, 6.2, 6.2]  [0, 0, 0, 0, 0]  [20.2, 20.2, 20.2, 20.2, 20.2]   \n",
       "\n",
       "                         el_value                   hl_value  \\\n",
       "0  [3.20, 3.20, 3.20, 3.20, 3.20]  [3.9, 3.9, 3.9, 3.9, 3.9]   \n",
       "\n",
       "                         pi_value                        rp_value  \n",
       "0  [11.0, 11.0, 11.0, 11.0, 11.0]  [None, None, None, None, None]  "
      ]
     },
     "execution_count": 9,
     "metadata": {},
     "output_type": "execute_result"
    }
   ],
   "source": [
    "for index, row in normal_sample.iterrows():\n",
    "    values = row['values']\n",
    "    for key, value in values.items():\n",
    "        if key not in normal_sample.columns:\n",
    "            normal_sample[key] = pd.NA\n",
    "        normal_sample.at[index, key] = value\n",
    "\n",
    "normal_sample.head(1)"
   ]
  },
  {
   "cell_type": "code",
   "execution_count": 18,
   "metadata": {},
   "outputs": [],
   "source": [
    "## 지금까지의 value 분리 작업을 함수 조합으로 합치기\n",
    "\n",
    "def json_data_to_pandas(df, target_col, saving_col):\n",
    "    df[saving_col] = None\n",
    "\n",
    "    for idx, row in df.iterrows():\n",
    "        json_str = row[target_col]\n",
    "        str_corrected = json_str.replace(\"None\", \"null\").replace(\"'\", \"\\\"\")\n",
    "        corrected_data = json.loads(str_corrected)\n",
    "        df.at[idx, saving_col] = corrected_data\n",
    "    \n",
    "    dict_format = df[saving_col][0]\n",
    "    extraction_keys = dict_format[0].keys()\n",
    "    key_list = list(extraction_keys)\n",
    "    df_pandas_type = df.drop([target_col], axis=1)\n",
    "\n",
    "    print(type(df[saving_col]))\n",
    "    return df_pandas_type, key_list\n",
    "\n",
    "\n",
    "def extraction_env_values(df_pandas_type, key_list):\n",
    "    df = df_pandas_type\n",
    "    df['value_types'] = None\n",
    "    value_names = []\n",
    "    \n",
    "    for i in range(len(key_list)):\n",
    "        candidate = key_list[i]\n",
    "        if candidate.endswith('_value'):\n",
    "            value_names.append(candidate)\n",
    "    \n",
    "    for idx, row in df.iterrows():\n",
    "        value_dict = {}\n",
    "        dict_list = row['values']\n",
    "        for dictionary in dict_list:\n",
    "            for key, value in dictionary.items():\n",
    "                if key in value_names:\n",
    "                    if key not in value_dict:\n",
    "                        value_dict[key] = [value]\n",
    "                    else:\n",
    "                        value_dict[key].append(value)\n",
    "        df.at[idx, 'value_types'] = value_dict\n",
    "    \n",
    "    for idx, row in df.iterrows():\n",
    "        value_to_split = row['value_types']\n",
    "        for key, value in value_to_split.items():\n",
    "            if key not in df.columns:\n",
    "                df[key] = pd.NA\n",
    "            df.at[idx, key] = value\n",
    "\n",
    "    # df_splited_env_values = df.drop(['values'], axis=1)\n",
    "    df_splited_env_values = df\n",
    "    print(df_splited_env_values.columns)\n",
    "    return df_splited_env_values\n",
    "\n",
    "# def calculate_env_values(df):\n",
    "#     for col in df.columns:\n",
    "#         if col.endswith('_value'):\n",
    "#             df[col] = df[col].apply(lambda x: np.mean([float(i) for i in x if i is not None]) if any(i is not None for i in x) else None)\n",
    "\n",
    "    \n",
    "#     return df"
   ]
  },
  {
   "cell_type": "code",
   "execution_count": 3,
   "metadata": {},
   "outputs": [
    {
     "name": "stdout",
     "output_type": "stream",
     "text": [
      "<class 'pandas.core.series.Series'>\n",
      "<class 'pandas.core.series.Series'>\n",
      "0    [{'farm_id': 'AI22_006', 'receive_date': '2022...\n",
      "Name: values, dtype: object\n",
      "['farm_id', 'receive_date', 'id', 'ti_value', 'hi_value', 'ci_value', 'ir_value', 'tl_value', 'ei_value', 'pl_value', 'sr_value', 'cl_value', 'el_value', 'hl_value', 'pi_value', 'rp_value']\n",
      "0    [{'coordinates': [256.48, 505.46, 401.62, 505....\n",
      "Name: anno_values, dtype: object\n",
      "['coordinates', 'area', 'bbox', 'isCrowd', 'id', 'image_id', 'category_id', 'disease_status']\n",
      "Index(['annotations', 'values'], dtype='object')\n"
     ]
    }
   ],
   "source": [
    "sample_check = raw_normal[['environments', 'annotations']][:5].copy()\n",
    "\n",
    "sample_df, env_value_list = json_data_to_pandas(sample_check, target_col='environments', saving_col='values')\n",
    "sample_df_anno, anno_value_list = json_data_to_pandas(sample_check, target_col='annotations', saving_col='anno_values')\n",
    "\n",
    "print(sample_df['values'].head(1))\n",
    "print(env_value_list)\n",
    "print(sample_df_anno['anno_values'].head(1))\n",
    "print(anno_value_list)\n",
    "print(sample_df.columns)"
   ]
  },
  {
   "cell_type": "code",
   "execution_count": 19,
   "metadata": {},
   "outputs": [
    {
     "name": "stdout",
     "output_type": "stream",
     "text": [
      "<class 'pandas.core.series.Series'>\n",
      "Index(['annotations', 'values', 'value_types', 'ti_value', 'hi_value',\n",
      "       'ci_value', 'ir_value', 'tl_value', 'ei_value', 'pl_value', 'sr_value',\n",
      "       'cl_value', 'el_value', 'hl_value', 'pi_value', 'rp_value'],\n",
      "      dtype='object')\n",
      "{'ti_value': ['16.7', '16.7', '16.7', '16.7', '16.7'], 'hi_value': ['93.4', '93.5', '93.5', '93.5', '93.5'], 'ci_value': ['595', '597', '597', '597', '597'], 'ir_value': [None, None, None, None, None], 'tl_value': [None, None, None, None, None], 'ei_value': ['0.07', '0.07', '0.07', '0.07', '0.07'], 'pl_value': ['6.2', '6.2', '6.2', '6.2', '6.2'], 'sr_value': ['0', '0', '0', '0', '0'], 'cl_value': ['20.2', '20.2', '20.2', '20.2', '20.2'], 'el_value': ['3.20', '3.20', '3.20', '3.20', '3.20'], 'hl_value': ['3.9', '3.9', '3.9', '3.9', '3.9'], 'pi_value': ['11.0', '11.0', '11.0', '11.0', '11.0'], 'rp_value': [None, None, None, None, None]}\n"
     ]
    }
   ],
   "source": [
    "sample_check = raw_normal[['environments', 'annotations']][:400].copy()\n",
    "\n",
    "sample_df, env_value_list = json_data_to_pandas(sample_check, target_col='environments', saving_col='values')\n",
    "\n",
    "df_result = extraction_env_values(sample_df, env_value_list)\n",
    "print(df_result['value_types'][0])\n",
    "df_result.to_csv('./normal_env_sample_check.csv', encoding='utf-8', index=False)"
   ]
  },
  {
   "cell_type": "code",
   "execution_count": 7,
   "metadata": {},
   "outputs": [
    {
     "name": "stdout",
     "output_type": "stream",
     "text": [
      "['ti_value', 'hi_value', 'ci_value', 'ir_value', 'tl_value', 'ei_value', 'pl_value', 'sr_value', 'cl_value', 'el_value', 'hl_value', 'pi_value', 'rp_value']\n"
     ]
    }
   ],
   "source": [
    "value_type_list = []\n",
    "for value in df_result.columns:\n",
    "    value_type = value\n",
    "    if value_type.endswith('_value'):\n",
    "        value_type_list.append(value_type)\n",
    "\n",
    "print(value_type_list)"
   ]
  },
  {
   "cell_type": "code",
   "execution_count": 10,
   "metadata": {},
   "outputs": [
    {
     "ename": "AttributeError",
     "evalue": "'Series' object has no attribute 'iterrows'",
     "output_type": "error",
     "traceback": [
      "\u001b[1;31m---------------------------------------------------------------------------\u001b[0m",
      "\u001b[1;31mAttributeError\u001b[0m                            Traceback (most recent call last)",
      "\u001b[1;32m~\\AppData\\Local\\Temp\\ipykernel_10732\\2151212479.py\u001b[0m in \u001b[0;36m?\u001b[1;34m()\u001b[0m\n\u001b[0;32m      2\u001b[0m \u001b[0mavg_test\u001b[0m \u001b[1;33m=\u001b[0m \u001b[0mdf_result\u001b[0m\u001b[1;33m.\u001b[0m\u001b[0mcopy\u001b[0m\u001b[1;33m(\u001b[0m\u001b[1;33m)\u001b[0m\u001b[1;33m\u001b[0m\u001b[1;33m\u001b[0m\u001b[0m\n\u001b[0;32m      3\u001b[0m \u001b[1;33m\u001b[0m\u001b[0m\n\u001b[0;32m      4\u001b[0m \u001b[1;32mfor\u001b[0m \u001b[0mcol\u001b[0m \u001b[1;32min\u001b[0m \u001b[0mval_cols\u001b[0m\u001b[1;33m:\u001b[0m\u001b[1;33m\u001b[0m\u001b[1;33m\u001b[0m\u001b[0m\n\u001b[0;32m      5\u001b[0m     \u001b[0mavg_target\u001b[0m \u001b[1;33m=\u001b[0m \u001b[0mavg_test\u001b[0m\u001b[1;33m[\u001b[0m\u001b[0mcol\u001b[0m\u001b[1;33m]\u001b[0m\u001b[1;33m\u001b[0m\u001b[1;33m\u001b[0m\u001b[0m\n\u001b[1;32m----> 6\u001b[1;33m     \u001b[1;32mfor\u001b[0m \u001b[0midx\u001b[0m\u001b[1;33m,\u001b[0m \u001b[0mrow\u001b[0m \u001b[1;32min\u001b[0m \u001b[0mavg_target\u001b[0m\u001b[1;33m.\u001b[0m\u001b[0miterrows\u001b[0m\u001b[1;33m(\u001b[0m\u001b[1;33m)\u001b[0m\u001b[1;33m:\u001b[0m\u001b[1;33m\u001b[0m\u001b[1;33m\u001b[0m\u001b[0m\n\u001b[0m\u001b[0;32m      7\u001b[0m         \u001b[0mscores\u001b[0m \u001b[1;33m=\u001b[0m \u001b[0mrow\u001b[0m\u001b[1;33m[\u001b[0m\u001b[0mcol\u001b[0m\u001b[1;33m]\u001b[0m\u001b[1;33m\u001b[0m\u001b[1;33m\u001b[0m\u001b[0m\n\u001b[0;32m      8\u001b[0m         \u001b[0mval_box\u001b[0m \u001b[1;33m=\u001b[0m \u001b[1;33m[\u001b[0m\u001b[1;33m]\u001b[0m\u001b[1;33m\u001b[0m\u001b[1;33m\u001b[0m\u001b[0m\n\u001b[0;32m      9\u001b[0m         \u001b[1;32mfor\u001b[0m \u001b[0mval\u001b[0m \u001b[1;32min\u001b[0m \u001b[0mscores\u001b[0m\u001b[1;33m:\u001b[0m\u001b[1;33m\u001b[0m\u001b[1;33m\u001b[0m\u001b[0m\n",
      "\u001b[1;32mc:\\Users\\KKM_AI_STUDY_LT\\anaconda3\\Lib\\site-packages\\pandas\\core\\generic.py\u001b[0m in \u001b[0;36m?\u001b[1;34m(self, name)\u001b[0m\n\u001b[0;32m   5985\u001b[0m             \u001b[1;32mand\u001b[0m \u001b[0mname\u001b[0m \u001b[1;32mnot\u001b[0m \u001b[1;32min\u001b[0m \u001b[0mself\u001b[0m\u001b[1;33m.\u001b[0m\u001b[0m_accessors\u001b[0m\u001b[1;33m\u001b[0m\u001b[1;33m\u001b[0m\u001b[0m\n\u001b[0;32m   5986\u001b[0m             \u001b[1;32mand\u001b[0m \u001b[0mself\u001b[0m\u001b[1;33m.\u001b[0m\u001b[0m_info_axis\u001b[0m\u001b[1;33m.\u001b[0m\u001b[0m_can_hold_identifiers_and_holds_name\u001b[0m\u001b[1;33m(\u001b[0m\u001b[0mname\u001b[0m\u001b[1;33m)\u001b[0m\u001b[1;33m\u001b[0m\u001b[1;33m\u001b[0m\u001b[0m\n\u001b[0;32m   5987\u001b[0m         ):\n\u001b[0;32m   5988\u001b[0m             \u001b[1;32mreturn\u001b[0m \u001b[0mself\u001b[0m\u001b[1;33m[\u001b[0m\u001b[0mname\u001b[0m\u001b[1;33m]\u001b[0m\u001b[1;33m\u001b[0m\u001b[1;33m\u001b[0m\u001b[0m\n\u001b[1;32m-> 5989\u001b[1;33m         \u001b[1;32mreturn\u001b[0m \u001b[0mobject\u001b[0m\u001b[1;33m.\u001b[0m\u001b[0m__getattribute__\u001b[0m\u001b[1;33m(\u001b[0m\u001b[0mself\u001b[0m\u001b[1;33m,\u001b[0m \u001b[0mname\u001b[0m\u001b[1;33m)\u001b[0m\u001b[1;33m\u001b[0m\u001b[1;33m\u001b[0m\u001b[0m\n\u001b[0m",
      "\u001b[1;31mAttributeError\u001b[0m: 'Series' object has no attribute 'iterrows'"
     ]
    }
   ],
   "source": [
    "val_cols = value_type_list\n",
    "avg_test = df_result.copy()\n",
    "df_values = df_result[[val_cols]]\n",
    "\n",
    "def calculate_avg(df, col):\n",
    "    for idx, row in df.iterrows():\n",
    "        scores = row[col]\n",
    "        val_box = []\n",
    "        for val in scores:\n",
    "            if val is not None:\n",
    "                num_type = float(val)\n",
    "                val_box.append(num_type)\n",
    "        score_avg = np.mean(val_box)\n",
    "        df.at[idx, col] = score_avg\n",
    "    return df\n",
    "\n",
    "\n",
    "\n",
    "for v in val_cols:\n",
    "    \n",
    "\n",
    "\n"
   ]
  },
  {
   "cell_type": "code",
   "execution_count": 1,
   "metadata": {},
   "outputs": [
    {
     "data": {
      "text/html": [
       "<div>\n",
       "<style scoped>\n",
       "    .dataframe tbody tr th:only-of-type {\n",
       "        vertical-align: middle;\n",
       "    }\n",
       "\n",
       "    .dataframe tbody tr th {\n",
       "        vertical-align: top;\n",
       "    }\n",
       "\n",
       "    .dataframe thead th {\n",
       "        text-align: right;\n",
       "    }\n",
       "</style>\n",
       "<table border=\"1\" class=\"dataframe\">\n",
       "  <thead>\n",
       "    <tr style=\"text-align: right;\">\n",
       "      <th></th>\n",
       "      <th>annotations</th>\n",
       "      <th>values</th>\n",
       "      <th>value_types</th>\n",
       "      <th>ti_value</th>\n",
       "      <th>hi_value</th>\n",
       "      <th>ci_value</th>\n",
       "      <th>ir_value</th>\n",
       "      <th>tl_value</th>\n",
       "      <th>ei_value</th>\n",
       "      <th>pl_value</th>\n",
       "      <th>sr_value</th>\n",
       "      <th>cl_value</th>\n",
       "      <th>el_value</th>\n",
       "      <th>hl_value</th>\n",
       "      <th>pi_value</th>\n",
       "      <th>rp_value</th>\n",
       "    </tr>\n",
       "  </thead>\n",
       "  <tbody>\n",
       "    <tr>\n",
       "      <th>0</th>\n",
       "      <td>[{'coordinates': [256.48, 505.46, 401.62, 505....</td>\n",
       "      <td>[{'farm_id': 'AI22_006', 'receive_date': '2022...</td>\n",
       "      <td>{'ti_value': ['16.7', '16.7', '16.7', '16.7', ...</td>\n",
       "      <td>['16.7', '16.7', '16.7', '16.7', '16.7']</td>\n",
       "      <td>['93.4', '93.5', '93.5', '93.5', '93.5']</td>\n",
       "      <td>['595', '597', '597', '597', '597']</td>\n",
       "      <td>[None, None, None, None, None]</td>\n",
       "      <td>[None, None, None, None, None]</td>\n",
       "      <td>['0.07', '0.07', '0.07', '0.07', '0.07']</td>\n",
       "      <td>['6.2', '6.2', '6.2', '6.2', '6.2']</td>\n",
       "      <td>['0', '0', '0', '0', '0']</td>\n",
       "      <td>['20.2', '20.2', '20.2', '20.2', '20.2']</td>\n",
       "      <td>['3.20', '3.20', '3.20', '3.20', '3.20']</td>\n",
       "      <td>['3.9', '3.9', '3.9', '3.9', '3.9']</td>\n",
       "      <td>['11.0', '11.0', '11.0', '11.0', '11.0']</td>\n",
       "      <td>[None, None, None, None, None]</td>\n",
       "    </tr>\n",
       "  </tbody>\n",
       "</table>\n",
       "</div>"
      ],
      "text/plain": [
       "                                         annotations  \\\n",
       "0  [{'coordinates': [256.48, 505.46, 401.62, 505....   \n",
       "\n",
       "                                              values  \\\n",
       "0  [{'farm_id': 'AI22_006', 'receive_date': '2022...   \n",
       "\n",
       "                                         value_types  \\\n",
       "0  {'ti_value': ['16.7', '16.7', '16.7', '16.7', ...   \n",
       "\n",
       "                                   ti_value  \\\n",
       "0  ['16.7', '16.7', '16.7', '16.7', '16.7']   \n",
       "\n",
       "                                   hi_value  \\\n",
       "0  ['93.4', '93.5', '93.5', '93.5', '93.5']   \n",
       "\n",
       "                              ci_value                        ir_value  \\\n",
       "0  ['595', '597', '597', '597', '597']  [None, None, None, None, None]   \n",
       "\n",
       "                         tl_value                                  ei_value  \\\n",
       "0  [None, None, None, None, None]  ['0.07', '0.07', '0.07', '0.07', '0.07']   \n",
       "\n",
       "                              pl_value                   sr_value  \\\n",
       "0  ['6.2', '6.2', '6.2', '6.2', '6.2']  ['0', '0', '0', '0', '0']   \n",
       "\n",
       "                                   cl_value  \\\n",
       "0  ['20.2', '20.2', '20.2', '20.2', '20.2']   \n",
       "\n",
       "                                   el_value  \\\n",
       "0  ['3.20', '3.20', '3.20', '3.20', '3.20']   \n",
       "\n",
       "                              hl_value  \\\n",
       "0  ['3.9', '3.9', '3.9', '3.9', '3.9']   \n",
       "\n",
       "                                   pi_value                        rp_value  \n",
       "0  ['11.0', '11.0', '11.0', '11.0', '11.0']  [None, None, None, None, None]  "
      ]
     },
     "execution_count": 1,
     "metadata": {},
     "output_type": "execute_result"
    }
   ],
   "source": [
    "import pandas as pd\n",
    "import numpy as np\n",
    "import ast\n",
    "\n",
    "check = pd.read_csv('./normal_env_sample_check.csv', encoding='utf-8')\n",
    "check.head(1)"
   ]
  },
  {
   "cell_type": "code",
   "execution_count": 36,
   "metadata": {},
   "outputs": [
    {
     "name": "stdout",
     "output_type": "stream",
     "text": [
      "<class 'pandas.core.series.Series'>\n",
      "<class 'str'>\n",
      "<class 'list'>\n",
      "['16.7', '16.7', '16.7', '16.7', '16.7']\n",
      "<class 'str'>\n"
     ]
    }
   ],
   "source": [
    "import ast\n",
    "a = check['ti_value']\n",
    "print(type(a))\n",
    "print(type(a[0]))\n",
    "\n",
    "b = a[0]\n",
    "b_list = ast.literal_eval(b)\n",
    "print(type(b_list))\n",
    "print(b_list)\n",
    "print(type(b_list[0]))\n",
    "for i in b_list:\n"
   ]
  },
  {
   "cell_type": "code",
   "execution_count": 2,
   "metadata": {},
   "outputs": [],
   "source": [
    "## 정리\n",
    "\"\"\"\n",
    "1. json -> df(pandas에서 편집 가능한 딕셔너리 리스트 형태로 변환) -> 딕셔너리 리스트의 각 딕셔너리 분리 -> 분리한 각 딕셔너리에서 키와 값 분리(값은 리스트 형태)\n",
    "2. 위의 과정에서 생성되는 리스트 형태의 값들은 '리스트' 타입이 아니라 '리스트의 형태를 갖는 문자열' 타입이다.\n",
    "3. '리스트 형태를 갖는 문자열' 데이터들을 리스트로 변환(ast.literal_eval사용); None에 대한 예외처리 필요\n",
    "4. 리스트로 변환한 각 데이터의 구성 요소가 숫자형태의 문자일 경우 -> 숫자의 형태에 맞게 정수 또는 실수로 변환\n",
    "5. 위의 과정을 모두 거쳐야 비로소 대상 컬럼의 각 셀 데이터가 숫자를 포함한 리스트 형태가 된다.\n",
    "    *이 때, astype는 사용할 수 없다. 해당 함수는 데이터프레임의 각 셀이 'a', '1'과 같이 단일 형태의 데이터일때의 일괄 형변환에 사용할 수 있고, 리스트와 같이 복합구성에 대해서는 안됨\n",
    "        *대상 셀의 데이터가 숫자형 문자 리스트라면, 해당 셀 데이터는 단일 리스트 타입의 데이터로 인식하기 때문.\n",
    "\"\"\"\n",
    "\n",
    "## 이 블록에서 해야 하는 작업\n",
    "    # '_value' 컬럼값들의 타입 변경(str -> list)\n",
    "    # 리스트로 변환된 각 데이터 구성 요소들을 float로 변경\n",
    "    # float로 변환된 각 리스트의 평균 계산(np.mean())\n",
    "    # 위의 과정에서 None 처리에 대한 예외조건 필요\n",
    "\n",
    "def str_to_num(string_list):\n",
    "    list_obj = ast.literal_eval(string_list)\n",
    "    if all(item is None for item in list_obj):\n",
    "        return None\n",
    "    else:\n",
    "        list_num = [float(item) for item in list_obj if item is not None]\n",
    "\n",
    "        return list_num\n",
    "   \n",
    "def string_to_number(df):\n",
    "    col_list = [col for col in df.columns if col.endswith('_value')]\n",
    "    \n",
    "    for col in col_list:\n",
    "        df[col] = df[col].apply(str_to_num)\n",
    "        \n",
    "    return df                "
   ]
  },
  {
   "cell_type": "code",
   "execution_count": 3,
   "metadata": {},
   "outputs": [
    {
     "name": "stdout",
     "output_type": "stream",
     "text": [
      "<class 'pandas.core.frame.DataFrame'>\n",
      "RangeIndex: 400 entries, 0 to 399\n",
      "Data columns (total 16 columns):\n",
      " #   Column       Non-Null Count  Dtype \n",
      "---  ------       --------------  ----- \n",
      " 0   annotations  400 non-null    object\n",
      " 1   values       400 non-null    object\n",
      " 2   value_types  400 non-null    object\n",
      " 3   ti_value     400 non-null    object\n",
      " 4   hi_value     400 non-null    object\n",
      " 5   ci_value     400 non-null    object\n",
      " 6   ir_value     0 non-null      object\n",
      " 7   tl_value     81 non-null     object\n",
      " 8   ei_value     400 non-null    object\n",
      " 9   pl_value     400 non-null    object\n",
      " 10  sr_value     400 non-null    object\n",
      " 11  cl_value     400 non-null    object\n",
      " 12  el_value     400 non-null    object\n",
      " 13  hl_value     400 non-null    object\n",
      " 14  pi_value     400 non-null    object\n",
      " 15  rp_value     0 non-null      object\n",
      "dtypes: object(16)\n",
      "memory usage: 50.1+ KB\n"
     ]
    }
   ],
   "source": [
    "check_float = string_to_number(check)\n",
    "check.info()"
   ]
  },
  {
   "cell_type": "code",
   "execution_count": 6,
   "metadata": {},
   "outputs": [
    {
     "name": "stdout",
     "output_type": "stream",
     "text": [
      "[<class 'list'>, <class 'list'>, <class 'list'>, <class 'NoneType'>, <class 'NoneType'>, <class 'list'>, <class 'list'>, <class 'list'>, <class 'list'>, <class 'list'>, <class 'list'>, <class 'list'>, <class 'NoneType'>]\n",
      "[<class 'list'>, <class 'list'>, <class 'list'>, <class 'NoneType'>, <class 'NoneType'>, <class 'list'>, <class 'list'>, <class 'list'>, <class 'list'>, <class 'list'>, <class 'list'>, <class 'list'>, <class 'NoneType'>]\n"
     ]
    }
   ],
   "source": [
    "check_list = [col for col in check_float if col.endswith('_value')]\n",
    "\n",
    "type_list_origin = []\n",
    "type_list_float = []\n",
    "for types in check_list:\n",
    "    for col in check.columns:\n",
    "        if col == types:\n",
    "            type_class = type(check[col][0])\n",
    "            type_list_origin.append(type_class)\n",
    "    for col_2 in check_float.columns:\n",
    "        if col_2 == types:\n",
    "            type_class_2 = type(check_float[col_2][0])\n",
    "            type_list_float.append(type_class_2)\n",
    "\n",
    "print(type_list_origin)\n",
    "print(type_list_float)\n"
   ]
  },
  {
   "cell_type": "code",
   "execution_count": 47,
   "metadata": {},
   "outputs": [
    {
     "name": "stdout",
     "output_type": "stream",
     "text": [
      "<class 'pandas.core.series.Series'>\n",
      "<class 'pandas.core.series.Series'>\n"
     ]
    }
   ],
   "source": [
    "value_types = []\n",
    "for col in check.columns:\n",
    "    if col.endswith('_value'):\n",
    "        value_types.append(col)\n",
    "print(type(check['ti_value']))\n",
    "print(type(check[value_types[0]]))"
   ]
  },
  {
   "cell_type": "code",
   "execution_count": 42,
   "metadata": {},
   "outputs": [
    {
     "name": "stdout",
     "output_type": "stream",
     "text": [
      "<class 'str'>\n",
      "<class 'list'>\n",
      "['16.7', '16.7', '16.7', '16.7', '16.7']\n",
      "[16.7, 16.7, 16.7, 16.7, 16.7]\n",
      "16.7\n",
      "Index(['annotations', 'values', 'value_types', 'ti_value', 'hi_value',\n",
      "       'ci_value', 'ir_value', 'tl_value', 'ei_value', 'pl_value', 'sr_value',\n",
      "       'cl_value', 'el_value', 'hl_value', 'pi_value', 'rp_value', 'ti_list',\n",
      "       'ti_value_float', 'ti_value_float_float'],\n",
      "      dtype='object')\n",
      "<class 'list'>\n",
      "<class 'NoneType'>\n"
     ]
    }
   ],
   "source": [
    "print(type(check['ti_value'][0]))\n",
    "print(type(check['ti_value_float'][0]))\n",
    "print(check['ti_value'][0])\n",
    "print(check['ti_value_float'][0])\n",
    "print(np.mean(check['ti_value_float'][0]))\n",
    "print(check.columns)\n",
    "\n",
    "float_list = []\n",
    "for float in check.columns:\n",
    "    if float.endswith('_float'):\n",
    "        float_list.append(float)\n",
    "\n",
    "for types in float_list:\n",
    "    print(type(check[types][0]))\n"
   ]
  },
  {
   "cell_type": "code",
   "execution_count": 6,
   "metadata": {},
   "outputs": [
    {
     "name": "stdout",
     "output_type": "stream",
     "text": [
      "['ti_value', 'hi_value', 'ci_value', 'ir_value', 'tl_value', 'ei_value', 'pl_value', 'sr_value', 'cl_value', 'el_value', 'hl_value', 'pi_value', 'rp_value']\n"
     ]
    }
   ],
   "source": [
    "check_list = []\n",
    "for i in range(len(env_value_list)):\n",
    "    value = env_value_list[i]\n",
    "    if value.endswith('value'):\n",
    "        check_list.append(value)\n",
    "\n",
    "print(check_list)\n"
   ]
  },
  {
   "cell_type": "code",
   "execution_count": null,
   "metadata": {},
   "outputs": [
    {
     "name": "stdout",
     "output_type": "stream",
     "text": [
      "['ti_value', 'hi_value', 'ci_value', 'ir_value', 'tl_value', 'ei_value', 'pl_value', 'sr_value', 'cl_value', 'el_value', 'hl_value', 'pi_value', 'rp_value']\n"
     ]
    }
   ],
   "source": [
    "\"\"\"\n",
    "bbox, name, status 분리 작업\n",
    "\n",
    "딕셔너리 집합을 풀어서 각각 row로 할당(공유 정보는 동일하게 컬럼에 데이터 할당하기: 예; images.fname)\n",
    "각 row에서 bbox, name, status 분리하여 각 이름을 갖는 컬럼에 할당\n",
    "id할당\n",
    "5개 각각에 위의 작업 실행 후 최종적으로 main_df, info_df 분리하여 통합 데이터프레임 2개로 정리하기\n",
    "\"\"\"\n",
    "\n",
    "\n"
   ]
  },
  {
   "cell_type": "code",
   "execution_count": null,
   "metadata": {},
   "outputs": [],
   "source": [
    "# 라벨 데이터에 해당하는 원본 이미지 파일 복사"
   ]
  },
  {
   "cell_type": "code",
   "execution_count": null,
   "metadata": {},
   "outputs": [],
   "source": [
    "# df_main, df_bbox 결과 확인"
   ]
  }
 ],
 "metadata": {
  "kernelspec": {
   "display_name": "base",
   "language": "python",
   "name": "python3"
  },
  "language_info": {
   "codemirror_mode": {
    "name": "ipython",
    "version": 3
   },
   "file_extension": ".py",
   "mimetype": "text/x-python",
   "name": "python",
   "nbconvert_exporter": "python",
   "pygments_lexer": "ipython3",
   "version": "3.11.5"
  }
 },
 "nbformat": 4,
 "nbformat_minor": 2
}
