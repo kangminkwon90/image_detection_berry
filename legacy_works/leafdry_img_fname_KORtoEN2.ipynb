{
 "cells": [
  {
   "cell_type": "code",
   "execution_count": 2,
   "id": "a6a432a5",
   "metadata": {},
   "outputs": [],
   "source": [
    "import pandas as pd\n",
    "import numpy as np\n",
    "import os"
   ]
  },
  {
   "cell_type": "code",
   "execution_count": 3,
   "id": "b4f54666",
   "metadata": {},
   "outputs": [],
   "source": [
    "df_train_en=pd.read_csv('leafdry_train_en.csv',encoding='utf-8')\n",
    "df_test_en=pd.read_csv('leafdry_test_en.csv',encoding='utf-8')\n",
    "df_validation_en=pd.read_csv('leafdry_validation_en.csv',encoding='utf-8')\n",
    "df_model_validation_en=pd.read_csv('leafdry_model_validation_en.csv',encoding='utf-8')"
   ]
  },
  {
   "cell_type": "code",
   "execution_count": 4,
   "id": "99b4f59d",
   "metadata": {},
   "outputs": [
    {
     "name": "stdout",
     "output_type": "stream",
     "text": [
      "Renamed: train/train_img\\딸기_설향_잎끝마름_88_011_221128101701.jpg to train/train_img\\berry_snow_dry_88_011_221128101701.jpg\n",
      "Renamed: train/train_img\\딸기_설향_잎끝마름_88_011_221129131701.jpg to train/train_img\\berry_snow_dry_88_011_221129131701.jpg\n",
      "Renamed: train/train_img\\딸기_설향_잎끝마름_88_011_221129121701.jpg to train/train_img\\berry_snow_dry_88_011_221129121701.jpg\n",
      "Renamed: train/train_img\\딸기_설향_잎끝마름_88_011_221126121701.jpg to train/train_img\\berry_snow_dry_88_011_221126121701.jpg\n",
      "Renamed: train/train_img\\딸기_설향_잎끝마름_88_011_221130121701.jpg to train/train_img\\berry_snow_dry_88_011_221130121701.jpg\n",
      "Renamed: train/train_img\\딸기_설향_잎끝마름_88_011_221126131701.jpg to train/train_img\\berry_snow_dry_88_011_221126131701.jpg\n",
      "Renamed: train/train_img\\딸기_설향_잎끝마름_88_011_221201171701.jpg to train/train_img\\berry_snow_dry_88_011_221201171701.jpg\n",
      "Renamed: train/train_img\\딸기_설향_잎끝마름_88_011_221201091701.jpg to train/train_img\\berry_snow_dry_88_011_221201091701.jpg\n",
      "Renamed: train/train_img\\딸기_설향_잎끝마름_88_011_221126151701.jpg to train/train_img\\berry_snow_dry_88_011_221126151701.jpg\n",
      "Renamed: train/train_img\\딸기_설향_잎끝마름_88_011_221201121701.jpg to train/train_img\\berry_snow_dry_88_011_221201121701.jpg\n",
      "Renamed: train/train_img\\딸기_설향_잎끝마름_88_011_221129141701.jpg to train/train_img\\berry_snow_dry_88_011_221129141701.jpg\n",
      "Renamed: train/train_img\\딸기_설향_잎끝마름_88_011_221125131701.jpg to train/train_img\\berry_snow_dry_88_011_221125131701.jpg\n",
      "Renamed: train/train_img\\딸기_설향_잎끝마름_88_011_221128081701.jpg to train/train_img\\berry_snow_dry_88_011_221128081701.jpg\n",
      "Renamed: train/train_img\\딸기_설향_잎끝마름_88_011_221201151701.jpg to train/train_img\\berry_snow_dry_88_011_221201151701.jpg\n",
      "Renamed: train/train_img\\딸기_설향_잎끝마름_88_011_221124101701.jpg to train/train_img\\berry_snow_dry_88_011_221124101701.jpg\n",
      "Renamed: train/train_img\\딸기_설향_잎끝마름_88_011_221124141701.jpg to train/train_img\\berry_snow_dry_88_011_221124141701.jpg\n",
      "Renamed: train/train_img\\딸기_설향_잎끝마름_88_011_221128131701.jpg to train/train_img\\berry_snow_dry_88_011_221128131701.jpg\n",
      "Renamed: train/train_img\\딸기_설향_잎끝마름_88_011_221125101701.jpg to train/train_img\\berry_snow_dry_88_011_221125101701.jpg\n",
      "Renamed: train/train_img\\딸기_설향_잎끝마름_88_011_221124081701.jpg to train/train_img\\berry_snow_dry_88_011_221124081701.jpg\n",
      "Renamed: train/train_img\\딸기_설향_잎끝마름_88_011_221126161701.jpg to train/train_img\\berry_snow_dry_88_011_221126161701.jpg\n",
      "Renamed: train/train_img\\딸기_설향_잎끝마름_88_011_221128151701.jpg to train/train_img\\berry_snow_dry_88_011_221128151701.jpg\n",
      "Renamed: train/train_img\\딸기_설향_잎끝마름_88_011_221201101701.jpg to train/train_img\\berry_snow_dry_88_011_221201101701.jpg\n",
      "Renamed: train/train_img\\딸기_설향_잎끝마름_88_011_221125161701.jpg to train/train_img\\berry_snow_dry_88_011_221125161701.jpg\n",
      "Renamed: train/train_img\\딸기_설향_잎끝마름_88_011_221126111701.jpg to train/train_img\\berry_snow_dry_88_011_221126111701.jpg\n",
      "Renamed: train/train_img\\딸기_설향_잎끝마름_88_011_221127161701.jpg to train/train_img\\berry_snow_dry_88_011_221127161701.jpg\n",
      "Renamed: train/train_img\\딸기_설향_잎끝마름_88_011_221124171701.jpg to train/train_img\\berry_snow_dry_88_011_221124171701.jpg\n",
      "Renamed: train/train_img\\딸기_설향_잎끝마름_88_011_221128091701.jpg to train/train_img\\berry_snow_dry_88_011_221128091701.jpg\n",
      "Renamed: train/train_img\\딸기_설향_잎끝마름_88_011_221124161701.jpg to train/train_img\\berry_snow_dry_88_011_221124161701.jpg\n",
      "Renamed: train/train_img\\딸기_설향_잎끝마름_88_011_221127091701.jpg to train/train_img\\berry_snow_dry_88_011_221127091701.jpg\n",
      "Renamed: train/train_img\\딸기_설향_잎끝마름_88_011_221129151701.jpg to train/train_img\\berry_snow_dry_88_011_221129151701.jpg\n",
      "Renamed: train/train_img\\딸기_설향_잎끝마름_88_011_221201111701.jpg to train/train_img\\berry_snow_dry_88_011_221201111701.jpg\n",
      "Renamed: train/train_img\\딸기_설향_잎끝마름_88_011_221127121701.jpg to train/train_img\\berry_snow_dry_88_011_221127121701.jpg\n",
      "Renamed: train/train_img\\딸기_설향_잎끝마름_88_011_221126101701.jpg to train/train_img\\berry_snow_dry_88_011_221126101701.jpg\n",
      "Renamed: train/train_img\\딸기_설향_잎끝마름_88_011_221128121701.jpg to train/train_img\\berry_snow_dry_88_011_221128121701.jpg\n",
      "Renamed: train/train_img\\딸기_설향_잎끝마름_88_011_221125081701.jpg to train/train_img\\berry_snow_dry_88_011_221125081701.jpg\n",
      "Renamed: train/train_img\\딸기_설향_잎끝마름_88_011_221202091701.jpg to train/train_img\\berry_snow_dry_88_011_221202091701.jpg\n",
      "Renamed: train/train_img\\딸기_설향_잎끝마름_88_011_221125071701.jpg to train/train_img\\berry_snow_dry_88_011_221125071701.jpg\n",
      "Renamed: train/train_img\\딸기_설향_잎끝마름_88_011_221125121701.jpg to train/train_img\\berry_snow_dry_88_011_221125121701.jpg\n",
      "Renamed: train/train_img\\딸기_설향_잎끝마름_88_011_221125091701.jpg to train/train_img\\berry_snow_dry_88_011_221125091701.jpg\n",
      "Renamed: train/train_img\\딸기_설향_잎끝마름_88_011_221127131701.jpg to train/train_img\\berry_snow_dry_88_011_221127131701.jpg\n",
      "Renamed: train/train_img\\딸기_설향_잎끝마름_88_011_221127141701.jpg to train/train_img\\berry_snow_dry_88_011_221127141701.jpg\n",
      "Renamed: train/train_img\\딸기_설향_잎끝마름_88_011_221129111701.jpg to train/train_img\\berry_snow_dry_88_011_221129111701.jpg\n",
      "Renamed: train/train_img\\딸기_설향_잎끝마름_88_011_221130091701.jpg to train/train_img\\berry_snow_dry_88_011_221130091701.jpg\n",
      "Renamed: train/train_img\\딸기_설향_잎끝마름_88_011_221125141701.jpg to train/train_img\\berry_snow_dry_88_011_221125141701.jpg\n",
      "Renamed: train/train_img\\딸기_설향_잎끝마름_88_011_221130111701.jpg to train/train_img\\berry_snow_dry_88_011_221130111701.jpg\n",
      "Renamed: train/train_img\\딸기_설향_잎끝마름_88_011_221130151701.jpg to train/train_img\\berry_snow_dry_88_011_221130151701.jpg\n",
      "Renamed: train/train_img\\딸기_설향_잎끝마름_88_011_221129091701.jpg to train/train_img\\berry_snow_dry_88_011_221129091701.jpg\n",
      "Renamed: train/train_img\\딸기_설향_잎끝마름_88_011_221201161701.jpg to train/train_img\\berry_snow_dry_88_011_221201161701.jpg\n",
      "Renamed: train/train_img\\딸기_설향_잎끝마름_88_011_221124121701.jpg to train/train_img\\berry_snow_dry_88_011_221124121701.jpg\n",
      "Renamed: train/train_img\\딸기_설향_잎끝마름_88_011_221202081701.jpg to train/train_img\\berry_snow_dry_88_011_221202081701.jpg\n",
      "Renamed: train/train_img\\딸기_설향_잎끝마름_88_011_221125151701.jpg to train/train_img\\berry_snow_dry_88_011_221125151701.jpg\n",
      "Renamed: train/train_img\\딸기_설향_잎끝마름_88_011_221130101701.jpg to train/train_img\\berry_snow_dry_88_011_221130101701.jpg\n",
      "Renamed: train/train_img\\딸기_설향_잎끝마름_88_011_221126141701.jpg to train/train_img\\berry_snow_dry_88_011_221126141701.jpg\n",
      "Renamed: train/train_img\\딸기_설향_잎끝마름_88_011_221127151701.jpg to train/train_img\\berry_snow_dry_88_011_221127151701.jpg\n",
      "Renamed: train/train_img\\딸기_설향_잎끝마름_88_011_221129081701.jpg to train/train_img\\berry_snow_dry_88_011_221129081701.jpg\n",
      "Renamed: train/train_img\\딸기_설향_잎끝마름_88_011_221127081701.jpg to train/train_img\\berry_snow_dry_88_011_221127081701.jpg\n",
      "Renamed: train/train_img\\딸기_설향_잎끝마름_88_011_221130161701.jpg to train/train_img\\berry_snow_dry_88_011_221130161701.jpg\n",
      "Renamed: train/train_img\\딸기_설향_잎끝마름_88_011_221129101701.jpg to train/train_img\\berry_snow_dry_88_011_221129101701.jpg\n",
      "Renamed: train/train_img\\딸기_설향_잎끝마름_88_011_221125111701.jpg to train/train_img\\berry_snow_dry_88_011_221125111701.jpg\n",
      "Renamed: train/train_img\\딸기_설향_잎끝마름_88_011_221124091701.jpg to train/train_img\\berry_snow_dry_88_011_221124091701.jpg\n"
     ]
    }
   ],
   "source": [
    "folder_path1='train/train_img'\n",
    "\n",
    "for index, row in df_train_en.iterrows():\n",
    "    old_file_path=os.path.join(folder_path1, row['img_kor'])\n",
    "    new_file_path=os.path.join(folder_path1, row['img'])\n",
    "    try:\n",
    "        os.rename(old_file_path, new_file_path)\n",
    "        print(f'Renamed: {old_file_path} to {new_file_path}')\n",
    "    except FileNotFoundError:\n",
    "        print(f'File not found: {old_file_path}')\n",
    "    except FileExistsError:\n",
    "        print(f'File already exists: {new_file_path}')"
   ]
  },
  {
   "cell_type": "code",
   "execution_count": 5,
   "id": "46eaf63c",
   "metadata": {},
   "outputs": [
    {
     "name": "stdout",
     "output_type": "stream",
     "text": [
      "Renamed: test\\딸기_설향_잎끝마름_88_011_221202101701.jpg to test\\berry_snow_dry_88_011_221202101701.jpg\n",
      "Renamed: test\\딸기_설향_잎끝마름_88_011_221204121701.jpg to test\\berry_snow_dry_88_011_221204121701.jpg\n",
      "Renamed: test\\딸기_설향_잎끝마름_88_011_221204131701.jpg to test\\berry_snow_dry_88_011_221204131701.jpg\n",
      "Renamed: test\\딸기_설향_잎끝마름_88_011_221204091701.jpg to test\\berry_snow_dry_88_011_221204091701.jpg\n",
      "Renamed: test\\딸기_설향_잎끝마름_88_011_221203121701.jpg to test\\berry_snow_dry_88_011_221203121701.jpg\n",
      "Renamed: test\\딸기_설향_잎끝마름_88_011_221202161701.jpg to test\\berry_snow_dry_88_011_221202161701.jpg\n",
      "Renamed: test\\딸기_설향_잎끝마름_88_011_221203101701.jpg to test\\berry_snow_dry_88_011_221203101701.jpg\n",
      "Renamed: test\\딸기_설향_잎끝마름_88_011_221202131701.jpg to test\\berry_snow_dry_88_011_221202131701.jpg\n",
      "Renamed: test\\딸기_설향_잎끝마름_88_011_221204081701.jpg to test\\berry_snow_dry_88_011_221204081701.jpg\n",
      "Renamed: test\\딸기_설향_잎끝마름_88_011_221203111701.jpg to test\\berry_snow_dry_88_011_221203111701.jpg\n",
      "Renamed: test\\딸기_설향_잎끝마름_88_011_221203141701.jpg to test\\berry_snow_dry_88_011_221203141701.jpg\n",
      "Renamed: test\\딸기_설향_잎끝마름_88_011_221203131701.jpg to test\\berry_snow_dry_88_011_221203131701.jpg\n",
      "Renamed: test\\딸기_설향_잎끝마름_88_011_221202151701.jpg to test\\berry_snow_dry_88_011_221202151701.jpg\n",
      "Renamed: test\\딸기_설향_잎끝마름_88_011_221202141701.jpg to test\\berry_snow_dry_88_011_221202141701.jpg\n",
      "Renamed: test\\딸기_설향_잎끝마름_88_011_221204101701.jpg to test\\berry_snow_dry_88_011_221204101701.jpg\n",
      "Renamed: test\\딸기_설향_잎끝마름_88_011_221204141701.jpg to test\\berry_snow_dry_88_011_221204141701.jpg\n",
      "Renamed: test\\딸기_설향_잎끝마름_88_011_221203091701.jpg to test\\berry_snow_dry_88_011_221203091701.jpg\n",
      "Renamed: test\\딸기_설향_잎끝마름_88_011_221203161701.jpg to test\\berry_snow_dry_88_011_221203161701.jpg\n",
      "Renamed: test\\딸기_설향_잎끝마름_88_011_221204151701.jpg to test\\berry_snow_dry_88_011_221204151701.jpg\n",
      "Renamed: test\\딸기_설향_잎끝마름_88_011_221203081701.jpg to test\\berry_snow_dry_88_011_221203081701.jpg\n"
     ]
    }
   ],
   "source": [
    "folder_path='test'\n",
    "\n",
    "for index, row in df_test_en.iterrows():\n",
    "    old_file_path=os.path.join(folder_path, row['img_kor'])\n",
    "    new_file_path=os.path.join(folder_path, row['img'])\n",
    "    try:\n",
    "        os.rename(old_file_path, new_file_path)\n",
    "        print(f'Renamed: {old_file_path} to {new_file_path}')\n",
    "    except FileNotFoundError:\n",
    "        print(f'File not found: {old_file_path}')\n",
    "    except FileExistsError:\n",
    "        print(f'File already exists: {new_file_path}')"
   ]
  },
  {
   "cell_type": "code",
   "execution_count": 6,
   "id": "d229055a",
   "metadata": {},
   "outputs": [
    {
     "name": "stdout",
     "output_type": "stream",
     "text": [
      "Renamed: validation\\딸기_설향_잎끝마름_88_011_221206151701.jpg to validation\\berry_snow_dry_88_011_221206151701.jpg\n",
      "Renamed: validation\\딸기_설향_잎끝마름_88_011_221206161701.jpg to validation\\berry_snow_dry_88_011_221206161701.jpg\n",
      "Renamed: validation\\딸기_설향_잎끝마름_88_011_221204161701.jpg to validation\\berry_snow_dry_88_011_221204161701.jpg\n",
      "Renamed: validation\\딸기_설향_잎끝마름_88_011_221205091701.jpg to validation\\berry_snow_dry_88_011_221205091701.jpg\n",
      "Renamed: validation\\딸기_설향_잎끝마름_88_011_221206141701.jpg to validation\\berry_snow_dry_88_011_221206141701.jpg\n",
      "Renamed: validation\\딸기_설향_잎끝마름_88_011_221206101701.jpg to validation\\berry_snow_dry_88_011_221206101701.jpg\n",
      "Renamed: validation\\딸기_설향_잎끝마름_88_011_221205131701.jpg to validation\\berry_snow_dry_88_011_221205131701.jpg\n",
      "Renamed: validation\\딸기_설향_잎끝마름_88_011_221206171701.jpg to validation\\berry_snow_dry_88_011_221206171701.jpg\n",
      "Renamed: validation\\딸기_설향_잎끝마름_88_011_221207091701.jpg to validation\\berry_snow_dry_88_011_221207091701.jpg\n",
      "Renamed: validation\\딸기_설향_잎끝마름_88_011_221205151701.jpg to validation\\berry_snow_dry_88_011_221205151701.jpg\n",
      "Renamed: validation\\딸기_설향_잎끝마름_88_011_221205161701.jpg to validation\\berry_snow_dry_88_011_221205161701.jpg\n",
      "Renamed: validation\\딸기_설향_잎끝마름_88_011_221206131701.jpg to validation\\berry_snow_dry_88_011_221206131701.jpg\n",
      "Renamed: validation\\딸기_설향_잎끝마름_88_011_221206081701.jpg to validation\\berry_snow_dry_88_011_221206081701.jpg\n",
      "Renamed: validation\\딸기_설향_잎끝마름_88_011_221205081701.jpg to validation\\berry_snow_dry_88_011_221205081701.jpg\n",
      "Renamed: validation\\딸기_설향_잎끝마름_88_011_221205141701.jpg to validation\\berry_snow_dry_88_011_221205141701.jpg\n",
      "Renamed: validation\\딸기_설향_잎끝마름_88_011_221207081701.jpg to validation\\berry_snow_dry_88_011_221207081701.jpg\n",
      "Renamed: validation\\딸기_설향_잎끝마름_88_011_221205101701.jpg to validation\\berry_snow_dry_88_011_221205101701.jpg\n",
      "Renamed: validation\\딸기_설향_잎끝마름_88_011_221206121701.jpg to validation\\berry_snow_dry_88_011_221206121701.jpg\n",
      "Renamed: validation\\딸기_설향_잎끝마름_88_011_221206111701.jpg to validation\\berry_snow_dry_88_011_221206111701.jpg\n",
      "Renamed: validation\\딸기_설향_잎끝마름_88_011_221205121701.jpg to validation\\berry_snow_dry_88_011_221205121701.jpg\n"
     ]
    }
   ],
   "source": [
    "folder_path='validation'\n",
    "\n",
    "for index, row in df_validation_en.iterrows():\n",
    "    old_file_path=os.path.join(folder_path, row['img_kor'])\n",
    "    new_file_path=os.path.join(folder_path, row['img'])\n",
    "    try:\n",
    "        os.rename(old_file_path, new_file_path)\n",
    "        print(f'Renamed: {old_file_path} to {new_file_path}')\n",
    "    except FileNotFoundError:\n",
    "        print(f'File not found: {old_file_path}')\n",
    "    except FileExistsError:\n",
    "        print(f'File already exists: {new_file_path}')"
   ]
  },
  {
   "cell_type": "code",
   "execution_count": 8,
   "id": "41de6fe1",
   "metadata": {},
   "outputs": [
    {
     "name": "stdout",
     "output_type": "stream",
     "text": [
      "Renamed: model_validation/model_validation_img\\딸기_설향_잎끝마름_88_011_221115131701.jpg to model_validation/model_validation_img\\berry_snow_dry_88_011_221115131701.jpg\n",
      "Renamed: model_validation/model_validation_img\\딸기_설향_잎끝마름_88_011_221113091701.jpg to model_validation/model_validation_img\\berry_snow_dry_88_011_221113091701.jpg\n",
      "Renamed: model_validation/model_validation_img\\딸기_설향_잎끝마름_88_011_221117151701.jpg to model_validation/model_validation_img\\berry_snow_dry_88_011_221117151701.jpg\n",
      "Renamed: model_validation/model_validation_img\\딸기_설향_잎끝마름_88_011_221124111701.jpg to model_validation/model_validation_img\\berry_snow_dry_88_011_221124111701.jpg\n",
      "Renamed: model_validation/model_validation_img\\딸기_설향_잎끝마름_88_011_221118121701.jpg to model_validation/model_validation_img\\berry_snow_dry_88_011_221118121701.jpg\n",
      "Renamed: model_validation/model_validation_img\\딸기_설향_잎끝마름_88_011_221112141701.jpg to model_validation/model_validation_img\\berry_snow_dry_88_011_221112141701.jpg\n",
      "Renamed: model_validation/model_validation_img\\딸기_설향_잎끝마름_88_011_221108111701.jpg to model_validation/model_validation_img\\berry_snow_dry_88_011_221108111701.jpg\n",
      "Renamed: model_validation/model_validation_img\\딸기_설향_잎끝마름_88_011_221118081701.jpg to model_validation/model_validation_img\\berry_snow_dry_88_011_221118081701.jpg\n",
      "Renamed: model_validation/model_validation_img\\딸기_설향_잎끝마름_88_011_221123101701.jpg to model_validation/model_validation_img\\berry_snow_dry_88_011_221123101701.jpg\n",
      "Renamed: model_validation/model_validation_img\\딸기_설향_잎끝마름_88_011_221127111701.jpg to model_validation/model_validation_img\\berry_snow_dry_88_011_221127111701.jpg\n",
      "File not found: model_validation/model_validation_img\\딸기_설향_잎끝마름_88_011_221107091701.jpg\n",
      "Renamed: model_validation/model_validation_img\\딸기_설향_잎끝마름_88_011_221116131701.jpg to model_validation/model_validation_img\\berry_snow_dry_88_011_221116131701.jpg\n",
      "Renamed: model_validation/model_validation_img\\딸기_설향_잎끝마름_88_011_221202111701.jpg to model_validation/model_validation_img\\berry_snow_dry_88_011_221202111701.jpg\n",
      "Renamed: model_validation/model_validation_img\\딸기_설향_잎끝마름_88_011_221110151701.jpg to model_validation/model_validation_img\\berry_snow_dry_88_011_221110151701.jpg\n",
      "Renamed: model_validation/model_validation_img\\딸기_설향_잎끝마름_88_011_221124131701.jpg to model_validation/model_validation_img\\berry_snow_dry_88_011_221124131701.jpg\n",
      "Renamed: model_validation/model_validation_img\\딸기_설향_잎끝마름_88_011_221130081701.jpg to model_validation/model_validation_img\\berry_snow_dry_88_011_221130081701.jpg\n",
      "Renamed: model_validation/model_validation_img\\딸기_설향_잎끝마름_88_011_221113111701.jpg to model_validation/model_validation_img\\berry_snow_dry_88_011_221113111701.jpg\n",
      "Renamed: model_validation/model_validation_img\\딸기_설향_잎끝마름_88_011_221109151701.jpg to model_validation/model_validation_img\\berry_snow_dry_88_011_221109151701.jpg\n",
      "Renamed: model_validation/model_validation_img\\딸기_설향_잎끝마름_88_011_221128111701.jpg to model_validation/model_validation_img\\berry_snow_dry_88_011_221128111701.jpg\n",
      "Renamed: model_validation/model_validation_img\\딸기_설향_잎끝마름_88_011_221116091701.jpg to model_validation/model_validation_img\\berry_snow_dry_88_011_221116091701.jpg\n"
     ]
    }
   ],
   "source": [
    "folder_path='model_validation/model_validation_img'\n",
    "\n",
    "for index, row in df_model_validation_en.iterrows():\n",
    "    old_file_path=os.path.join(folder_path, row['img_kor'])\n",
    "    new_file_path=os.path.join(folder_path, row['img'])\n",
    "    try:\n",
    "        os.rename(old_file_path, new_file_path)\n",
    "        print(f'Renamed: {old_file_path} to {new_file_path}')\n",
    "    except FileNotFoundError:\n",
    "        print(f'File not found: {old_file_path}')\n",
    "    except FileExistsError:\n",
    "        print(f'File already exists: {new_file_path}')"
   ]
  }
 ],
 "metadata": {
  "kernelspec": {
   "display_name": "Python 3 (ipykernel)",
   "language": "python",
   "name": "python3"
  },
  "language_info": {
   "codemirror_mode": {
    "name": "ipython",
    "version": 3
   },
   "file_extension": ".py",
   "mimetype": "text/x-python",
   "name": "python",
   "nbconvert_exporter": "python",
   "pygments_lexer": "ipython3",
   "version": "3.11.5"
  }
 },
 "nbformat": 4,
 "nbformat_minor": 5
}
